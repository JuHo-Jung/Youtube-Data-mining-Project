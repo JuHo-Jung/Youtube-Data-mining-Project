{
  "nbformat": 4,
  "nbformat_minor": 0,
  "metadata": {
    "colab": {
      "name": "텍스트 분류.ipynb",
      "provenance": [],
      "collapsed_sections": []
    },
    "kernelspec": {
      "name": "python3",
      "display_name": "Python 3"
    },
    "language_info": {
      "name": "python"
    }
  },
  "cells": [
    {
      "cell_type": "code",
      "metadata": {
        "id": "JjYDPSU4yyw-"
      },
      "source": [
        ""
      ],
      "execution_count": null,
      "outputs": []
    },
    {
      "cell_type": "code",
      "metadata": {
        "id": "Adv_dgW3ZinE"
      },
      "source": [
        "#여기서부터 시작"
      ],
      "execution_count": null,
      "outputs": []
    },
    {
      "cell_type": "code",
      "metadata": {
        "colab": {
          "base_uri": "https://localhost:8080/"
        },
        "id": "i_zMYOTJLyvj",
        "outputId": "17c7b403-e5da-4332-c23b-8351667da7f6"
      },
      "source": [
        "pip install konlpy"
      ],
      "execution_count": null,
      "outputs": [
        {
          "output_type": "stream",
          "text": [
            "Requirement already satisfied: konlpy in /usr/local/lib/python3.7/dist-packages (0.5.2)\n",
            "Requirement already satisfied: beautifulsoup4==4.6.0 in /usr/local/lib/python3.7/dist-packages (from konlpy) (4.6.0)\n",
            "Requirement already satisfied: tweepy>=3.7.0 in /usr/local/lib/python3.7/dist-packages (from konlpy) (3.10.0)\n",
            "Requirement already satisfied: lxml>=4.1.0 in /usr/local/lib/python3.7/dist-packages (from konlpy) (4.2.6)\n",
            "Requirement already satisfied: JPype1>=0.7.0 in /usr/local/lib/python3.7/dist-packages (from konlpy) (0.7.0)\n",
            "Requirement already satisfied: colorama in /usr/local/lib/python3.7/dist-packages (from konlpy) (0.4.4)\n",
            "Requirement already satisfied: numpy>=1.6 in /usr/local/lib/python3.7/dist-packages (from konlpy) (1.19.5)\n",
            "Requirement already satisfied: requests[socks]>=2.11.1 in /usr/local/lib/python3.7/dist-packages (from tweepy>=3.7.0->konlpy) (2.23.0)\n",
            "Requirement already satisfied: six>=1.10.0 in /usr/local/lib/python3.7/dist-packages (from tweepy>=3.7.0->konlpy) (1.15.0)\n",
            "Requirement already satisfied: requests-oauthlib>=0.7.0 in /usr/local/lib/python3.7/dist-packages (from tweepy>=3.7.0->konlpy) (1.3.0)\n",
            "Requirement already satisfied: certifi>=2017.4.17 in /usr/local/lib/python3.7/dist-packages (from requests[socks]>=2.11.1->tweepy>=3.7.0->konlpy) (2020.12.5)\n",
            "Requirement already satisfied: urllib3!=1.25.0,!=1.25.1,<1.26,>=1.21.1 in /usr/local/lib/python3.7/dist-packages (from requests[socks]>=2.11.1->tweepy>=3.7.0->konlpy) (1.24.3)\n",
            "Requirement already satisfied: idna<3,>=2.5 in /usr/local/lib/python3.7/dist-packages (from requests[socks]>=2.11.1->tweepy>=3.7.0->konlpy) (2.10)\n",
            "Requirement already satisfied: chardet<4,>=3.0.2 in /usr/local/lib/python3.7/dist-packages (from requests[socks]>=2.11.1->tweepy>=3.7.0->konlpy) (3.0.4)\n",
            "Requirement already satisfied: PySocks!=1.5.7,>=1.5.6; extra == \"socks\" in /usr/local/lib/python3.7/dist-packages (from requests[socks]>=2.11.1->tweepy>=3.7.0->konlpy) (1.7.1)\n",
            "Requirement already satisfied: oauthlib>=3.0.0 in /usr/local/lib/python3.7/dist-packages (from requests-oauthlib>=0.7.0->tweepy>=3.7.0->konlpy) (3.1.0)\n"
          ],
          "name": "stdout"
        }
      ]
    },
    {
      "cell_type": "code",
      "metadata": {
        "id": "KR_Ec_-drPD9"
      },
      "source": [
        "#한글 사용\n",
        "import pandas as pd\n",
        "import numpy as np\n",
        "%matplotlib inline\n",
        "import matplotlib.pyplot as plt\n",
        "import re\n",
        "import urllib.request\n",
        "from konlpy.tag import Okt\n",
        "from tensorflow.keras.preprocessing.text import Tokenizer\n",
        "from tensorflow.keras.preprocessing.sequence import pad_sequences"
      ],
      "execution_count": null,
      "outputs": []
    },
    {
      "cell_type": "markdown",
      "metadata": {
        "id": "vV60IY6T7Kip"
      },
      "source": [
        "데이터 라벨링 처리한 새로운 데이터 result1\n"
      ]
    },
    {
      "cell_type": "markdown",
      "metadata": {
        "id": "ZaUAXGZzxNLO"
      },
      "source": [
        "#1. 영상 댓글만으로 분류"
      ]
    },
    {
      "cell_type": "code",
      "metadata": {
        "id": "YE2wtsY4L4-S"
      },
      "source": [
        "dataset = pd.read_csv('result_먹방추가.csv',encoding='cp949')"
      ],
      "execution_count": null,
      "outputs": []
    },
    {
      "cell_type": "code",
      "metadata": {
        "colab": {
          "base_uri": "https://localhost:8080/",
          "height": 296
        },
        "id": "BJ3mfvLsFxwQ",
        "outputId": "943d96ec-e556-4a23-aeea-b65e460bb9ae"
      },
      "source": [
        "dataset.head()"
      ],
      "execution_count": null,
      "outputs": [
        {
          "output_type": "execute_result",
          "data": {
            "text/html": [
              "<div>\n",
              "<style scoped>\n",
              "    .dataframe tbody tr th:only-of-type {\n",
              "        vertical-align: middle;\n",
              "    }\n",
              "\n",
              "    .dataframe tbody tr th {\n",
              "        vertical-align: top;\n",
              "    }\n",
              "\n",
              "    .dataframe thead th {\n",
              "        text-align: right;\n",
              "    }\n",
              "</style>\n",
              "<table border=\"1\" class=\"dataframe\">\n",
              "  <thead>\n",
              "    <tr style=\"text-align: right;\">\n",
              "      <th></th>\n",
              "      <th>title</th>\n",
              "      <th>view</th>\n",
              "      <th>like</th>\n",
              "      <th>unlike</th>\n",
              "      <th>comment</th>\n",
              "      <th>date</th>\n",
              "      <th>comment_text</th>\n",
              "      <th>뷰티</th>\n",
              "      <th>게임</th>\n",
              "      <th>운동</th>\n",
              "      <th>label</th>\n",
              "    </tr>\n",
              "  </thead>\n",
              "  <tbody>\n",
              "    <tr>\n",
              "      <th>0</th>\n",
              "      <td>웜 청초 메이크업 Warm Transparent Makeup</td>\n",
              "      <td>203831</td>\n",
              "      <td>9100</td>\n",
              "      <td>162</td>\n",
              "      <td>284</td>\n",
              "      <td>2021.5.1</td>\n",
              "      <td>유료 광고 없는게 거의 없네 뒷광고 전에 이분이 설명하시는거 좋아보여서 많이 따라...</td>\n",
              "      <td>1</td>\n",
              "      <td>0</td>\n",
              "      <td>0</td>\n",
              "      <td>0</td>\n",
              "    </tr>\n",
              "    <tr>\n",
              "      <th>1</th>\n",
              "      <td>문수진X포니 저 달(the moon) 라이브 클립 메이크업 MOON SUJIN X ...</td>\n",
              "      <td>115144</td>\n",
              "      <td>4900</td>\n",
              "      <td>114</td>\n",
              "      <td>264</td>\n",
              "      <td>2021.4.25</td>\n",
              "      <td>닮았다 자매인줄 포니화가 잘된듯</td>\n",
              "      <td>1</td>\n",
              "      <td>0</td>\n",
              "      <td>0</td>\n",
              "      <td>0</td>\n",
              "    </tr>\n",
              "    <tr>\n",
              "      <th>2</th>\n",
              "      <td>Matte Caramel Makeup 매트 캬라멜 메이크업</td>\n",
              "      <td>299727</td>\n",
              "      <td>15000</td>\n",
              "      <td>167</td>\n",
              "      <td>333</td>\n",
              "      <td>2021.4.17</td>\n",
              "      <td>광고 없는 찐템들도 보고싶어요 요즘 옛날 영상들 돌려보고 있는데 그때 언니가 쓰던...</td>\n",
              "      <td>1</td>\n",
              "      <td>0</td>\n",
              "      <td>0</td>\n",
              "      <td>0</td>\n",
              "    </tr>\n",
              "    <tr>\n",
              "      <th>3</th>\n",
              "      <td>싱그러운 오후 메이크업Golden Hour Glow Makeup</td>\n",
              "      <td>388599</td>\n",
              "      <td>16000</td>\n",
              "      <td>278</td>\n",
              "      <td>458</td>\n",
              "      <td>2021.4.3</td>\n",
              "      <td>포니님 역시 프로시다 노랑볼터치 망한거같았는데 프로의 손길로 더 예쁘게 바르심...</td>\n",
              "      <td>1</td>\n",
              "      <td>0</td>\n",
              "      <td>0</td>\n",
              "      <td>0</td>\n",
              "    </tr>\n",
              "    <tr>\n",
              "      <th>4</th>\n",
              "      <td>방구석 셀피 메이크업 Chilling at Home Selfie Makeup</td>\n",
              "      <td>265782</td>\n",
              "      <td>11000</td>\n",
              "      <td>214</td>\n",
              "      <td>323</td>\n",
              "      <td>2021.3.27</td>\n",
              "      <td>나만 광고 들어올때만 영상찍는 느낌이냐 옛날의 집구석 겟레디가 그립다   진짜 광고...</td>\n",
              "      <td>1</td>\n",
              "      <td>0</td>\n",
              "      <td>0</td>\n",
              "      <td>0</td>\n",
              "    </tr>\n",
              "  </tbody>\n",
              "</table>\n",
              "</div>"
            ],
            "text/plain": [
              "                                               title    view  ... 운동 label\n",
              "0                  웜 청초 메이크업 Warm Transparent Makeup  203831  ...  0     0\n",
              "1  문수진X포니 저 달(the moon) 라이브 클립 메이크업 MOON SUJIN X ...  115144  ...  0     0\n",
              "2                   Matte Caramel Makeup 매트 캬라멜 메이크업  299727  ...  0     0\n",
              "3                싱그러운 오후 메이크업Golden Hour Glow Makeup  388599  ...  0     0\n",
              "4         방구석 셀피 메이크업 Chilling at Home Selfie Makeup  265782  ...  0     0\n",
              "\n",
              "[5 rows x 11 columns]"
            ]
          },
          "metadata": {
            "tags": []
          },
          "execution_count": 4
        }
      ]
    },
    {
      "cell_type": "code",
      "metadata": {
        "id": "vLorMwxFriDk"
      },
      "source": [
        "X  = dataset['comment_text']\n",
        "y  = dataset['label']"
      ],
      "execution_count": null,
      "outputs": []
    },
    {
      "cell_type": "code",
      "metadata": {
        "id": "wZNhjQ_NsM4t"
      },
      "source": [
        "from sklearn.model_selection import train_test_split\n",
        "\n",
        "# train_test_split\n",
        "train_data , test_data = train_test_split(dataset, test_size=0.2, random_state=42)"
      ],
      "execution_count": null,
      "outputs": []
    },
    {
      "cell_type": "code",
      "metadata": {
        "colab": {
          "base_uri": "https://localhost:8080/"
        },
        "id": "RbrwndWfr0Nx",
        "outputId": "ba899c05-2aba-4212-89f1-e68ad5f7bdb7"
      },
      "source": [
        "print('훈련용 리뷰 개수 :',len(train_data)) # 훈련용 리뷰 개수 출력"
      ],
      "execution_count": null,
      "outputs": [
        {
          "output_type": "stream",
          "text": [
            "훈련용 리뷰 개수 : 560\n"
          ],
          "name": "stdout"
        }
      ]
    },
    {
      "cell_type": "code",
      "metadata": {
        "colab": {
          "base_uri": "https://localhost:8080/"
        },
        "id": "-YlxusFDr1gh",
        "outputId": "49a385d6-82ea-4b37-d04d-ee7873b5f5c2"
      },
      "source": [
        "train_data['comment_text'].nunique(), train_data['label'].nunique()"
      ],
      "execution_count": null,
      "outputs": [
        {
          "output_type": "execute_result",
          "data": {
            "text/plain": [
              "(545, 4)"
            ]
          },
          "metadata": {
            "tags": []
          },
          "execution_count": 8
        }
      ]
    },
    {
      "cell_type": "code",
      "metadata": {
        "colab": {
          "base_uri": "https://localhost:8080/",
          "height": 452
        },
        "id": "Mx2HG0r5sAq6",
        "outputId": "960445c2-2bf1-453d-a3f1-00705c943272"
      },
      "source": [
        "train_data['comment_text'] = train_data['comment_text'].str.replace(\"[^ㄱ-ㅎㅏ-ㅣ가-힣 ]\",\"\")\n",
        "# 한글과 공백을 제외하고 모두 제거\n",
        "train_data[:5]"
      ],
      "execution_count": null,
      "outputs": [
        {
          "output_type": "stream",
          "text": [
            "/usr/local/lib/python3.7/dist-packages/ipykernel_launcher.py:1: SettingWithCopyWarning: \n",
            "A value is trying to be set on a copy of a slice from a DataFrame.\n",
            "Try using .loc[row_indexer,col_indexer] = value instead\n",
            "\n",
            "See the caveats in the documentation: https://pandas.pydata.org/pandas-docs/stable/user_guide/indexing.html#returning-a-view-versus-a-copy\n",
            "  \"\"\"Entry point for launching an IPython kernel.\n"
          ],
          "name": "stderr"
        },
        {
          "output_type": "execute_result",
          "data": {
            "text/html": [
              "<div>\n",
              "<style scoped>\n",
              "    .dataframe tbody tr th:only-of-type {\n",
              "        vertical-align: middle;\n",
              "    }\n",
              "\n",
              "    .dataframe tbody tr th {\n",
              "        vertical-align: top;\n",
              "    }\n",
              "\n",
              "    .dataframe thead th {\n",
              "        text-align: right;\n",
              "    }\n",
              "</style>\n",
              "<table border=\"1\" class=\"dataframe\">\n",
              "  <thead>\n",
              "    <tr style=\"text-align: right;\">\n",
              "      <th></th>\n",
              "      <th>title</th>\n",
              "      <th>view</th>\n",
              "      <th>like</th>\n",
              "      <th>unlike</th>\n",
              "      <th>comment</th>\n",
              "      <th>date</th>\n",
              "      <th>comment_text</th>\n",
              "      <th>뷰티</th>\n",
              "      <th>게임</th>\n",
              "      <th>운동</th>\n",
              "      <th>label</th>\n",
              "    </tr>\n",
              "  </thead>\n",
              "  <tbody>\n",
              "    <tr>\n",
              "      <th>82</th>\n",
              "      <td>요청폭주 악녀(가 되고 싶은)메이크업 버건디 겨울 쿨톤 메이크업 / Double Soup</td>\n",
              "      <td>1837921</td>\n",
              "      <td>45000</td>\n",
              "      <td>459</td>\n",
              "      <td>1468</td>\n",
              "      <td>2019.2.16</td>\n",
              "      <td></td>\n",
              "      <td>1</td>\n",
              "      <td>0</td>\n",
              "      <td>0</td>\n",
              "      <td>0</td>\n",
              "    </tr>\n",
              "    <tr>\n",
              "      <th>51</th>\n",
              "      <td>헬창이 오픈카 안타면 되는 이유</td>\n",
              "      <td>3022606</td>\n",
              "      <td>2000</td>\n",
              "      <td>4000</td>\n",
              "      <td>886</td>\n",
              "      <td>2021.3.17</td>\n",
              "      <td>어디 내놔도 부끄러운 우리 형 쫌 챙피해요 차살따 숄프 옵션 확인해야됨 뒤에 여자가...</td>\n",
              "      <td>0</td>\n",
              "      <td>0</td>\n",
              "      <td>1</td>\n",
              "      <td>3</td>\n",
              "    </tr>\n",
              "    <tr>\n",
              "      <th>220</th>\n",
              "      <td>말린장미맛zip mlbb 립스틱 틴트 추천 + 바르는법 * LIPSTICK TUTO...</td>\n",
              "      <td>12231701</td>\n",
              "      <td>31000</td>\n",
              "      <td>5900</td>\n",
              "      <td>4813</td>\n",
              "      <td>2019.7.27</td>\n",
              "      <td></td>\n",
              "      <td>1</td>\n",
              "      <td>0</td>\n",
              "      <td>0</td>\n",
              "      <td>0</td>\n",
              "    </tr>\n",
              "    <tr>\n",
              "      <th>669</th>\n",
              "      <td>[ENG/EDIT]  입맛없어서 과일만 먹방편 /191212방송 편집버전Mukbang</td>\n",
              "      <td>2148061</td>\n",
              "      <td>2000</td>\n",
              "      <td>254</td>\n",
              "      <td>1485</td>\n",
              "      <td>2019.12.15</td>\n",
              "      <td>햇님님의 입맛이 없다입맛을 찾을때까지 먹어보겠다 보통 라면개먹방 이렇게 억지로 먹지...</td>\n",
              "      <td>0</td>\n",
              "      <td>0</td>\n",
              "      <td>0</td>\n",
              "      <td>3</td>\n",
              "    </tr>\n",
              "    <tr>\n",
              "      <th>545</th>\n",
              "      <td>유미 원챔 마스터 티어 달성, 딜량 3등하는 만년서리 템트리 ㅋㅋㅋ 유미 만커복 장...</td>\n",
              "      <td>181494</td>\n",
              "      <td>1300</td>\n",
              "      <td>97</td>\n",
              "      <td>269</td>\n",
              "      <td>2021.4.29</td>\n",
              "      <td>우리 팀 유미가 만년서리를 사고 을 박은이유 라면 드시면서 하시는 장인분은 첨보네 ...</td>\n",
              "      <td>0</td>\n",
              "      <td>1</td>\n",
              "      <td>0</td>\n",
              "      <td>1</td>\n",
              "    </tr>\n",
              "  </tbody>\n",
              "</table>\n",
              "</div>"
            ],
            "text/plain": [
              "                                                 title      view  ... 운동 label\n",
              "82   요청폭주 악녀(가 되고 싶은)메이크업 버건디 겨울 쿨톤 메이크업 / Double Soup   1837921  ...  0     0\n",
              "51                                   헬창이 오픈카 안타면 되는 이유   3022606  ...  1     3\n",
              "220  말린장미맛zip mlbb 립스틱 틴트 추천 + 바르는법 * LIPSTICK TUTO...  12231701  ...  0     0\n",
              "669    [ENG/EDIT]  입맛없어서 과일만 먹방편 /191212방송 편집버전Mukbang   2148061  ...  0     3\n",
              "545  유미 원챔 마스터 티어 달성, 딜량 3등하는 만년서리 템트리 ㅋㅋㅋ 유미 만커복 장...    181494  ...  0     1\n",
              "\n",
              "[5 rows x 11 columns]"
            ]
          },
          "metadata": {
            "tags": []
          },
          "execution_count": 9
        }
      ]
    },
    {
      "cell_type": "code",
      "metadata": {
        "colab": {
          "base_uri": "https://localhost:8080/"
        },
        "id": "BJl-ONgktHrG",
        "outputId": "3c692194-1e0b-4af5-f4ce-d7adfda7b974"
      },
      "source": [
        "train_data['comment_text'] = train_data['comment_text'].str.replace('^ +', \"\") # white space 데이터를 empty value로 변경\n",
        "train_data['comment_text'].replace('', np.nan, inplace=True)\n",
        "print(train_data.isnull().sum())"
      ],
      "execution_count": null,
      "outputs": [
        {
          "output_type": "stream",
          "text": [
            "title            0\n",
            "view             0\n",
            "like             0\n",
            "unlike           0\n",
            "comment          0\n",
            "date             0\n",
            "comment_text    10\n",
            "뷰티               0\n",
            "게임               0\n",
            "운동               0\n",
            "label            0\n",
            "dtype: int64\n"
          ],
          "name": "stdout"
        },
        {
          "output_type": "stream",
          "text": [
            "/usr/local/lib/python3.7/dist-packages/ipykernel_launcher.py:1: SettingWithCopyWarning: \n",
            "A value is trying to be set on a copy of a slice from a DataFrame.\n",
            "Try using .loc[row_indexer,col_indexer] = value instead\n",
            "\n",
            "See the caveats in the documentation: https://pandas.pydata.org/pandas-docs/stable/user_guide/indexing.html#returning-a-view-versus-a-copy\n",
            "  \"\"\"Entry point for launching an IPython kernel.\n",
            "/usr/local/lib/python3.7/dist-packages/pandas/core/series.py:4582: SettingWithCopyWarning: \n",
            "A value is trying to be set on a copy of a slice from a DataFrame\n",
            "\n",
            "See the caveats in the documentation: https://pandas.pydata.org/pandas-docs/stable/user_guide/indexing.html#returning-a-view-versus-a-copy\n",
            "  method=method,\n"
          ],
          "name": "stderr"
        }
      ]
    },
    {
      "cell_type": "code",
      "metadata": {
        "colab": {
          "base_uri": "https://localhost:8080/",
          "height": 229
        },
        "id": "x8MmXUMFtQSq",
        "outputId": "da5bcf5d-d6ca-4fa2-defc-4578e014b245"
      },
      "source": [
        "train_data.loc[train_data.comment_text.isnull()][:5]"
      ],
      "execution_count": null,
      "outputs": [
        {
          "output_type": "execute_result",
          "data": {
            "text/html": [
              "<div>\n",
              "<style scoped>\n",
              "    .dataframe tbody tr th:only-of-type {\n",
              "        vertical-align: middle;\n",
              "    }\n",
              "\n",
              "    .dataframe tbody tr th {\n",
              "        vertical-align: top;\n",
              "    }\n",
              "\n",
              "    .dataframe thead th {\n",
              "        text-align: right;\n",
              "    }\n",
              "</style>\n",
              "<table border=\"1\" class=\"dataframe\">\n",
              "  <thead>\n",
              "    <tr style=\"text-align: right;\">\n",
              "      <th></th>\n",
              "      <th>title</th>\n",
              "      <th>view</th>\n",
              "      <th>like</th>\n",
              "      <th>unlike</th>\n",
              "      <th>comment</th>\n",
              "      <th>date</th>\n",
              "      <th>comment_text</th>\n",
              "      <th>뷰티</th>\n",
              "      <th>게임</th>\n",
              "      <th>운동</th>\n",
              "      <th>label</th>\n",
              "    </tr>\n",
              "  </thead>\n",
              "  <tbody>\n",
              "    <tr>\n",
              "      <th>82</th>\n",
              "      <td>요청폭주 악녀(가 되고 싶은)메이크업 버건디 겨울 쿨톤 메이크업 / Double Soup</td>\n",
              "      <td>1837921</td>\n",
              "      <td>45000</td>\n",
              "      <td>459</td>\n",
              "      <td>1468</td>\n",
              "      <td>2019.2.16</td>\n",
              "      <td>NaN</td>\n",
              "      <td>1</td>\n",
              "      <td>0</td>\n",
              "      <td>0</td>\n",
              "      <td>0</td>\n",
              "    </tr>\n",
              "    <tr>\n",
              "      <th>220</th>\n",
              "      <td>말린장미맛zip mlbb 립스틱 틴트 추천 + 바르는법 * LIPSTICK TUTO...</td>\n",
              "      <td>12231701</td>\n",
              "      <td>31000</td>\n",
              "      <td>5900</td>\n",
              "      <td>4813</td>\n",
              "      <td>2019.7.27</td>\n",
              "      <td>NaN</td>\n",
              "      <td>1</td>\n",
              "      <td>0</td>\n",
              "      <td>0</td>\n",
              "      <td>0</td>\n",
              "    </tr>\n",
              "    <tr>\n",
              "      <th>437</th>\n",
              "      <td>En Espaol (너무 힘들었던) 스페인어로 말하면서 하는 GRWM</td>\n",
              "      <td>497128</td>\n",
              "      <td>36000</td>\n",
              "      <td>115</td>\n",
              "      <td>3545</td>\n",
              "      <td>2020.4.11</td>\n",
              "      <td>NaN</td>\n",
              "      <td>1</td>\n",
              "      <td>0</td>\n",
              "      <td>0</td>\n",
              "      <td>0</td>\n",
              "    </tr>\n",
              "    <tr>\n",
              "      <th>434</th>\n",
              "      <td>En Esp | 스페인어 더빙(asmr) | 반짝 살구슬러시 메이크업</td>\n",
              "      <td>997964</td>\n",
              "      <td>63000</td>\n",
              "      <td>410</td>\n",
              "      <td>2090</td>\n",
              "      <td>2020.1.15</td>\n",
              "      <td>NaN</td>\n",
              "      <td>1</td>\n",
              "      <td>0</td>\n",
              "      <td>0</td>\n",
              "      <td>0</td>\n",
              "    </tr>\n",
              "    <tr>\n",
              "      <th>222</th>\n",
              "      <td>레드맛zip 레드 립스틱 틴트 추천 + 바르는법 * LIPSTICK TUTORIAL...</td>\n",
              "      <td>4086398</td>\n",
              "      <td>88000</td>\n",
              "      <td>2400</td>\n",
              "      <td>1592</td>\n",
              "      <td>2019.5.17</td>\n",
              "      <td>NaN</td>\n",
              "      <td>1</td>\n",
              "      <td>0</td>\n",
              "      <td>0</td>\n",
              "      <td>0</td>\n",
              "    </tr>\n",
              "  </tbody>\n",
              "</table>\n",
              "</div>"
            ],
            "text/plain": [
              "                                                 title      view  ... 운동 label\n",
              "82   요청폭주 악녀(가 되고 싶은)메이크업 버건디 겨울 쿨톤 메이크업 / Double Soup   1837921  ...  0     0\n",
              "220  말린장미맛zip mlbb 립스틱 틴트 추천 + 바르는법 * LIPSTICK TUTO...  12231701  ...  0     0\n",
              "437             En Espaol (너무 힘들었던) 스페인어로 말하면서 하는 GRWM    497128  ...  0     0\n",
              "434             En Esp | 스페인어 더빙(asmr) | 반짝 살구슬러시 메이크업    997964  ...  0     0\n",
              "222  레드맛zip 레드 립스틱 틴트 추천 + 바르는법 * LIPSTICK TUTORIAL...   4086398  ...  0     0\n",
              "\n",
              "[5 rows x 11 columns]"
            ]
          },
          "metadata": {
            "tags": []
          },
          "execution_count": 11
        }
      ]
    },
    {
      "cell_type": "code",
      "metadata": {
        "colab": {
          "base_uri": "https://localhost:8080/"
        },
        "id": "Wu0_d517tYuS",
        "outputId": "cd43103f-7753-4b22-82c4-4f756ea180ee"
      },
      "source": [
        "#위에 처럼 Null 값을 가지는 것 삭제\n",
        "train_data = train_data.dropna(how = 'any')\n",
        "print(len(train_data))"
      ],
      "execution_count": null,
      "outputs": [
        {
          "output_type": "stream",
          "text": [
            "550\n"
          ],
          "name": "stdout"
        }
      ]
    },
    {
      "cell_type": "code",
      "metadata": {
        "colab": {
          "base_uri": "https://localhost:8080/"
        },
        "id": "YqhI5ehStfdr",
        "outputId": "1c19b518-0655-4a97-8121-b2d2647b7bec"
      },
      "source": [
        "test_data.drop_duplicates(subset = ['comment_text'], inplace=True) # document 열에서 중복인 내용이 있다면 중복 제거\n",
        "test_data['comment_text'] = test_data['comment_text'].str.replace(\"[^ㄱ-ㅎㅏ-ㅣ가-힣 ]\",\"\") # 정규 표현식 수행\n",
        "test_data['comment_text'] = test_data['comment_text'].str.replace('^ +', \"\") # 공백은 empty 값으로 변경\n",
        "test_data['comment_text'].replace('', np.nan, inplace=True) # 공백은 Null 값으로 변경\n",
        "test_data = test_data.dropna(how='any') # Null 값 제거\n",
        "print('전처리 후 테스트용 샘플의 개수 :',len(test_data))"
      ],
      "execution_count": null,
      "outputs": [
        {
          "output_type": "stream",
          "text": [
            "전처리 후 테스트용 샘플의 개수 : 132\n"
          ],
          "name": "stdout"
        },
        {
          "output_type": "stream",
          "text": [
            "/usr/local/lib/python3.7/dist-packages/ipykernel_launcher.py:1: SettingWithCopyWarning: \n",
            "A value is trying to be set on a copy of a slice from a DataFrame\n",
            "\n",
            "See the caveats in the documentation: https://pandas.pydata.org/pandas-docs/stable/user_guide/indexing.html#returning-a-view-versus-a-copy\n",
            "  \"\"\"Entry point for launching an IPython kernel.\n",
            "/usr/local/lib/python3.7/dist-packages/ipykernel_launcher.py:2: SettingWithCopyWarning: \n",
            "A value is trying to be set on a copy of a slice from a DataFrame.\n",
            "Try using .loc[row_indexer,col_indexer] = value instead\n",
            "\n",
            "See the caveats in the documentation: https://pandas.pydata.org/pandas-docs/stable/user_guide/indexing.html#returning-a-view-versus-a-copy\n",
            "  \n",
            "/usr/local/lib/python3.7/dist-packages/ipykernel_launcher.py:3: SettingWithCopyWarning: \n",
            "A value is trying to be set on a copy of a slice from a DataFrame.\n",
            "Try using .loc[row_indexer,col_indexer] = value instead\n",
            "\n",
            "See the caveats in the documentation: https://pandas.pydata.org/pandas-docs/stable/user_guide/indexing.html#returning-a-view-versus-a-copy\n",
            "  This is separate from the ipykernel package so we can avoid doing imports until\n",
            "/usr/local/lib/python3.7/dist-packages/pandas/core/series.py:4582: SettingWithCopyWarning: \n",
            "A value is trying to be set on a copy of a slice from a DataFrame\n",
            "\n",
            "See the caveats in the documentation: https://pandas.pydata.org/pandas-docs/stable/user_guide/indexing.html#returning-a-view-versus-a-copy\n",
            "  method=method,\n"
          ],
          "name": "stderr"
        }
      ]
    },
    {
      "cell_type": "code",
      "metadata": {
        "id": "JeII9Jhntotf"
      },
      "source": [
        "stopwords = ['의','가','이','은','들','는','좀','잘','걍','과','도','를','으로','자','에','와','한','하다','도', '는', '다', '의', '가', '이', '은', '한', '에', '하', '고', '을', '를', '인', '듯', '과', '와', '네', '들', '듯', '지', '임', '게','로','님','안','저','만','요','에서','거','것','떄','안','아','더','하는','때','분','하고','못','제','또','까지','그','기','수','개','서','내','제','입니다','면','이다','나','합니다','해']"
      ],
      "execution_count": null,
      "outputs": []
    },
    {
      "cell_type": "code",
      "metadata": {
        "colab": {
          "base_uri": "https://localhost:8080/"
        },
        "id": "iRqo7W2ytrJw",
        "outputId": "42c11060-b9f0-4d4e-9fd2-4bba821b2a7d"
      },
      "source": [
        "okt = Okt()\n",
        "okt.morphs('와 이런 것도 영화라고 차라리 뮤직비디오를 만드는 게 나을 뻔', stem = True)"
      ],
      "execution_count": null,
      "outputs": [
        {
          "output_type": "execute_result",
          "data": {
            "text/plain": [
              "['오다', '이렇다', '것', '도', '영화', '라고', '차라리', '뮤직비디오', '를', '만들다', '게', '나다', '뻔']"
            ]
          },
          "metadata": {
            "tags": []
          },
          "execution_count": 15
        }
      ]
    },
    {
      "cell_type": "code",
      "metadata": {
        "id": "Rl0DCK-vRfCb"
      },
      "source": [
        "#각 카테고리별 단어 빈도, 통계확인"
      ],
      "execution_count": null,
      "outputs": []
    },
    {
      "cell_type": "code",
      "metadata": {
        "id": "OExJugBXSE3s"
      },
      "source": [
        ""
      ],
      "execution_count": null,
      "outputs": []
    },
    {
      "cell_type": "code",
      "metadata": {
        "id": "hqDvIsu4ReqG",
        "colab": {
          "base_uri": "https://localhost:8080/"
        },
        "outputId": "091b0664-0076-4dd9-8553-1891d1c0dccb"
      },
      "source": [
        "train_data['tokenized'] = train_data['comment_text'].apply(okt.morphs)\n",
        "train_data['tokenized'] = train_data['tokenized'].apply(lambda x: [item for item in x if item not in stopwords])"
      ],
      "execution_count": null,
      "outputs": [
        {
          "output_type": "stream",
          "text": [
            "/usr/local/lib/python3.7/dist-packages/ipykernel_launcher.py:1: SettingWithCopyWarning: \n",
            "A value is trying to be set on a copy of a slice from a DataFrame.\n",
            "Try using .loc[row_indexer,col_indexer] = value instead\n",
            "\n",
            "See the caveats in the documentation: https://pandas.pydata.org/pandas-docs/stable/user_guide/indexing.html#returning-a-view-versus-a-copy\n",
            "  \"\"\"Entry point for launching an IPython kernel.\n",
            "/usr/local/lib/python3.7/dist-packages/ipykernel_launcher.py:2: SettingWithCopyWarning: \n",
            "A value is trying to be set on a copy of a slice from a DataFrame.\n",
            "Try using .loc[row_indexer,col_indexer] = value instead\n",
            "\n",
            "See the caveats in the documentation: https://pandas.pydata.org/pandas-docs/stable/user_guide/indexing.html#returning-a-view-versus-a-copy\n",
            "  \n"
          ],
          "name": "stderr"
        }
      ]
    },
    {
      "cell_type": "code",
      "metadata": {
        "id": "bmhBnbNcQTSY"
      },
      "source": [
        "beauty = np.hstack(train_data[train_data.label == 0]['tokenized'].values)\n",
        "game = np.hstack(train_data[train_data.label == 1]['tokenized'].values)\n",
        "sport = np.hstack(train_data[train_data.label == 2]['tokenized'].values)\n",
        "eat = np.hstack(train_data[train_data.label == 3]['tokenized'].values)"
      ],
      "execution_count": null,
      "outputs": []
    },
    {
      "cell_type": "code",
      "metadata": {
        "id": "H0cIOTgZSifk"
      },
      "source": [
        "from collections import Counter"
      ],
      "execution_count": null,
      "outputs": []
    },
    {
      "cell_type": "code",
      "metadata": {
        "colab": {
          "base_uri": "https://localhost:8080/"
        },
        "id": "-hLgNfzYQTJe",
        "outputId": "d56af359-4343-4dcf-9e6c-cce9effa9a9f"
      },
      "source": [
        "beauty_word_count = Counter(beauty)\n",
        "print(beauty_word_count.most_common(20))"
      ],
      "execution_count": null,
      "outputs": [
        {
          "output_type": "stream",
          "text": [
            "[('진짜', 147), ('언니', 132), ('영상', 127), ('완료', 113), ('너무', 99), ('메이크업', 61), ('화장', 59), ('얼굴', 58), ('사람', 54), ('많이', 52), ('피부', 49), ('정말', 41), ('보고', 38), ('말', 37), ('같아요', 35), ('할', 35), ('광고', 34), ('적', 32), ('그냥', 32), ('느낌', 32)]\n"
          ],
          "name": "stdout"
        }
      ]
    },
    {
      "cell_type": "code",
      "metadata": {
        "colab": {
          "base_uri": "https://localhost:8080/"
        },
        "id": "JSOoaN4NSXB1",
        "outputId": "00ab1ed3-8ccf-4a1f-bf66-d519384e952a"
      },
      "source": [
        "game_word_count = Counter(game)\n",
        "print(game_word_count.most_common(20))"
      ],
      "execution_count": null,
      "outputs": [
        {
          "output_type": "stream",
          "text": [
            "[('진짜', 67), ('영상', 49), ('너무', 38), ('사람', 37), ('게임', 35), ('형', 34), ('말', 26), ('핵', 26), ('적', 24), ('생각', 24), ('왜', 23), ('방송', 21), ('욕', 21), ('명', 21), ('할', 20), ('장인', 19), ('해서', 19), ('력', 19), ('보고', 18), ('야', 18)]\n"
          ],
          "name": "stdout"
        }
      ]
    },
    {
      "cell_type": "code",
      "metadata": {
        "colab": {
          "base_uri": "https://localhost:8080/"
        },
        "id": "17OQC4XESW3T",
        "outputId": "d1bf042d-53f7-495b-852e-159555784f05"
      },
      "source": [
        "sport_word_count = Counter(sport)\n",
        "print(sport_word_count.most_common(20))"
      ],
      "execution_count": null,
      "outputs": [
        {
          "output_type": "stream",
          "text": [
            "[('운동', 214), ('일차', 208), ('진짜', 140), ('영상', 134), ('너무', 106), ('일', 68), ('할', 64), ('오늘', 61), ('많이', 61), ('정말', 54), ('사람', 53), ('자세', 53), ('감사합니다', 51), ('몸', 51), ('적', 47), ('월', 46), ('생각', 43), ('형', 41), ('좋은', 39), ('선수', 39)]\n"
          ],
          "name": "stdout"
        }
      ]
    },
    {
      "cell_type": "code",
      "metadata": {
        "colab": {
          "base_uri": "https://localhost:8080/"
        },
        "id": "UTpgbdU46m36",
        "outputId": "08cb4597-675e-4137-f835-6621d184d793"
      },
      "source": [
        "eat_word_count = Counter(eat)\n",
        "print(eat_word_count.most_common(20))"
      ],
      "execution_count": null,
      "outputs": [
        {
          "output_type": "stream",
          "text": [
            "[('너무', 101), ('진짜', 89), ('치즈', 70), ('사람', 69), ('먹방', 52), ('영상', 52), ('많이', 50), ('야식', 50), ('밥', 50), ('랑', 41), ('구독', 36), ('좋아요', 35), ('사장', 35), ('돈', 34), ('오늘', 33), ('정말', 33), ('말', 32), ('할머니', 32), ('기부', 31), ('먹는', 29)]\n"
          ],
          "name": "stdout"
        }
      ]
    },
    {
      "cell_type": "code",
      "metadata": {
        "colab": {
          "base_uri": "https://localhost:8080/",
          "height": 441
        },
        "id": "9CF-bHvnSW0L",
        "outputId": "33408f48-fcfd-48d9-aa36-dbeb4e4bd336"
      },
      "source": [
        "fig,(ax1,ax2,ax3,ax4) = plt.subplots(1,4,figsize=(10,5))\n",
        "\n",
        "text_len = train_data[train_data['label']==0]['tokenized'].map(lambda x: len(x))\n",
        "ax1.hist(text_len, color='red')\n",
        "ax1.set_title('Beauty Comment')\n",
        "ax1.set_xlabel('length of samples')\n",
        "ax1.set_ylabel('number of samples')\n",
        "print('뷰티 영상 댓글의 평균 길이 :', np.mean(text_len))\n",
        "\n",
        "text_len = train_data[train_data['label']==1]['tokenized'].map(lambda x: len(x))\n",
        "ax2.hist(text_len, color='blue')\n",
        "ax2.set_title('Game Comment')\n",
        "fig.suptitle('Words in texts')\n",
        "ax2.set_xlabel('length of samples')\n",
        "ax2.set_ylabel('number of samples')\n",
        "print('게임 영상 댓글의 평균 길이 :', np.mean(text_len))\n",
        "\n",
        "\n",
        "text_len = train_data[train_data['label']==2]['tokenized'].map(lambda x: len(x))\n",
        "ax3.hist(text_len, color='green')\n",
        "ax3.set_title('Sport Comment')\n",
        "fig.suptitle('Words in texts')\n",
        "ax3.set_xlabel('length of samples')\n",
        "ax3.set_ylabel('number of samples')\n",
        "print('운동 영상 댓글의 평균 길이 :', np.mean(text_len))\n",
        "\n",
        "text_len = train_data[train_data['label']==3]['tokenized'].map(lambda x: len(x))\n",
        "ax4.hist(text_len, color='yellow')\n",
        "ax4.set_title('eat Comment')\n",
        "fig.suptitle('Words in texts')\n",
        "ax4.set_xlabel('length of samples')\n",
        "ax4.set_ylabel('number of samples')\n",
        "print('먹방 영상 댓글의 평균 길이 :', np.mean(text_len))\n",
        "\n",
        "\n",
        "\n",
        "plt.show()"
      ],
      "execution_count": null,
      "outputs": [
        {
          "output_type": "stream",
          "text": [
            "뷰티 영상 댓글의 평균 길이 : 78.70270270270271\n",
            "게임 영상 댓글의 평균 길이 : 51.17857142857143\n",
            "운동 영상 댓글의 평균 길이 : 91.8993710691824\n",
            "먹방 영상 댓글의 평균 길이 : 108.0\n"
          ],
          "name": "stdout"
        },
        {
          "output_type": "display_data",
          "data": {
            "image/png": "[encoded data removed]",
            "text/plain": [
              "<Figure size 720x360 with 4 Axes>"
            ]
          },
          "metadata": {
            "tags": [],
            "needs_background": "light"
          }
        }
      ]
    },
    {
      "cell_type": "code",
      "metadata": {
        "id": "kp0oS2CnZGLF"
      },
      "source": [
        "#토큰화하기 "
      ],
      "execution_count": null,
      "outputs": []
    },
    {
      "cell_type": "code",
      "metadata": {
        "id": "WiJxUreVtsZl"
      },
      "source": [
        "X_train = []\n",
        "for sentence in train_data['comment_text']:\n",
        "    temp_X = okt.morphs(sentence, stem=True) # 토큰화\n",
        "    temp_X = [word for word in temp_X if not word in stopwords] # 불용어 제거\n",
        "    X_train.append(temp_X)"
      ],
      "execution_count": null,
      "outputs": []
    },
    {
      "cell_type": "code",
      "metadata": {
        "colab": {
          "base_uri": "https://localhost:8080/"
        },
        "id": "Nc9h9yqutv0C",
        "outputId": "5e1a8e3b-1897-48d7-80f5-5b1c3c8278ca"
      },
      "source": [
        "print(X_train[:3])"
      ],
      "execution_count": null,
      "outputs": [
        {
          "output_type": "stream",
          "text": [
            "[['어디', '내놓다', '부끄럽다', '우리', '형', '쫌', '챙', '피해', '차살', '따다', '숄프', '옵션', '확인', '되다', '뒤', '여자', '놈', '보다', '보다', '같다', '형', '짜증', '내다', '같다', '눈치', '보다', '작다', '소리', '지르다', '닼'], ['햇님', '입맛', '없다', '입맛', '찾다', '먹다', '보다', '보통', '라면', '먹방', '이렇게', '억지로', '먹다', '꾸역꾸역', '자극', '적', '기록', '세우다', '먹방', '여기다', '허세', '청정', '구', '역임', '먹방', '수년', '차', '에도', '부끄럽다', '먹다', '양', '줄이다', '화면', '띄우다', '그녀', '구', '독자', '천천히', '늘', '지만', '순수', '코리안', '구', '독자', '보유', '위', '같다', '한국', '먹방', '기일', '순위', '라고', '봄', '댓글', '죄다', '한국어', '거짓말', '투성이', '방송', '달다', '먹다', '예요', '설마', '누나', '왜', '자꾸', '섬네일', '과일', '먹다', '척해'], ['우리', '팀', '유미', '만년', '서리', '사고', '박은이', '유', '라면', '들다', '장인', '첨', '보다', '유민', '장인', '꿀팁', '왜', '안녕하다', '여러분', '이번', '장인', '초대', '석', '나오다', '크다', '복', '평소', '유미', '인식', '너무', '좋다', '이번', '맘', '먹다', '멋지다', '모습', '보이다', '드리다', '싶다', '너무', '긴장', '그래도', '옆', '친절하다', '많이', '도와주다', '테스', '터훈', '매니저', '그리고', '편집', '잘해주다', '편집자', '들다', '너무', '너무', '감사', '드리다', '방송', '나오다', '곱다', '기르다', '막', '만지다', '겉모습', '실력', '적', '모습', '두다', '놓치다', '같다', '개인', '채널', '오시', '만년', '서리', '유미', '뿐', '아니다', '쌍둥이', '함께', '바텀', '듀오', '정글', '라이너', '듀오', '등', '다양하다', '모습', '보이다', '드릴', '있다', '부담', '없이', '찾아오다', '보다', '챔피언', '조합', '말씀', '해주다', '유튜브', '아프리카', '히든', '게이머', '보다', '장인', '초대', '석', '바로', '올라오다']]\n"
          ],
          "name": "stdout"
        }
      ]
    },
    {
      "cell_type": "code",
      "metadata": {
        "colab": {
          "base_uri": "https://localhost:8080/"
        },
        "id": "ymS7nFIYQ54W",
        "outputId": "69792278-8ebe-4a05-ecc3-6fcea448f4da"
      },
      "source": [
        "print(X_train[1])"
      ],
      "execution_count": null,
      "outputs": [
        {
          "output_type": "stream",
          "text": [
            "['햇님', '입맛', '없다', '입맛', '찾다', '먹다', '보다', '보통', '라면', '먹방', '이렇게', '억지로', '먹다', '꾸역꾸역', '자극', '적', '기록', '세우다', '먹방', '여기다', '허세', '청정', '구', '역임', '먹방', '수년', '차', '에도', '부끄럽다', '먹다', '양', '줄이다', '화면', '띄우다', '그녀', '구', '독자', '천천히', '늘', '지만', '순수', '코리안', '구', '독자', '보유', '위', '같다', '한국', '먹방', '기일', '순위', '라고', '봄', '댓글', '죄다', '한국어', '거짓말', '투성이', '방송', '달다', '먹다', '예요', '설마', '누나', '왜', '자꾸', '섬네일', '과일', '먹다', '척해']\n"
          ],
          "name": "stdout"
        }
      ]
    },
    {
      "cell_type": "code",
      "metadata": {
        "id": "Ed1rmqHHt2HF"
      },
      "source": [
        "X_test = []\n",
        "for sentence in test_data['comment_text']:\n",
        "    temp_X = okt.morphs(sentence, stem=True) # 토큰화\n",
        "    temp_X = [word for word in temp_X if not word in stopwords] # 불용어 제거\n",
        "    X_test.append(temp_X)"
      ],
      "execution_count": null,
      "outputs": []
    },
    {
      "cell_type": "code",
      "metadata": {
        "id": "D5Zu4T_Dt5ly"
      },
      "source": [
        "#정수 인코딩 \n",
        "tokenizer = Tokenizer()\n",
        "tokenizer.fit_on_texts(X_train)"
      ],
      "execution_count": null,
      "outputs": []
    },
    {
      "cell_type": "code",
      "metadata": {
        "colab": {
          "base_uri": "https://localhost:8080/"
        },
        "id": "0VrpMXTgt_8i",
        "outputId": "aef25818-4b21-4071-c685-0dd729aaffd8"
      },
      "source": [
        "print(tokenizer.word_index)"
      ],
      "execution_count": null,
      "outputs": [
        {
          "output_type": "stream",
          "text": [
            "{}\n"
          ],
          "name": "stdout"
        }
      ]
    },
    {
      "cell_type": "code",
      "metadata": {
        "colab": {
          "base_uri": "https://localhost:8080/"
        },
        "id": "ShpG2C0PuB4q",
        "outputId": "03774beb-a18d-4199-9923-5ed18ac36ab9"
      },
      "source": [
        "threshold = 3\n",
        "total_cnt = len(tokenizer.word_index) # 단어의 수\n",
        "rare_cnt = 0 # 등장 빈도수가 threshold보다 작은 단어의 개수를 카운트\n",
        "total_freq = 0 # 훈련 데이터의 전체 단어 빈도수 총 합\n",
        "rare_freq = 0 # 등장 빈도수가 threshold보다 작은 단어의 등장 빈도수의 총 합\n",
        "\n",
        "# 단어와 빈도수의 쌍(pair)을 key와 value로 받는다.\n",
        "for key, value in tokenizer.word_counts.items():\n",
        "    total_freq = total_freq + value\n",
        "\n",
        "    # 단어의 등장 빈도수가 threshold보다 작으면\n",
        "    if(value < threshold):\n",
        "        rare_cnt = rare_cnt + 1\n",
        "        rare_freq = rare_freq + value\n",
        "\n",
        "print('단어 집합(vocabulary)의 크기 :',total_cnt)\n",
        "print('등장 빈도가 %s번 이하인 희귀 단어의 수: %s'%(threshold - 1, rare_cnt))\n",
        "print(\"단어 집합에서 희귀 단어의 비율:\", (rare_cnt / total_cnt)*100)\n",
        "print(\"전체 등장 빈도에서 희귀 단어 등장 빈도 비율:\", (rare_freq / total_freq)*100)"
      ],
      "execution_count": null,
      "outputs": [
        {
          "output_type": "stream",
          "text": [
            "단어 집합(vocabulary)의 크기 : 7755\n",
            "등장 빈도가 2번 이하인 희귀 단어의 수: 5022\n",
            "단어 집합에서 희귀 단어의 비율: 64.75822050290135\n",
            "전체 등장 빈도에서 희귀 단어 등장 빈도 비율: 14.467740067184062\n"
          ],
          "name": "stdout"
        }
      ]
    },
    {
      "cell_type": "code",
      "metadata": {
        "colab": {
          "base_uri": "https://localhost:8080/"
        },
        "id": "4w5Wz1rvuExN",
        "outputId": "19db3733-13fd-449e-fec1-1019119a3cf1"
      },
      "source": [
        "# 전체 단어 개수 중 빈도수 2이하인 단어는 제거.\n",
        "# 0번 패딩 토큰을 고려하여 + 1\n",
        "vocab_size = total_cnt - rare_cnt + 1\n",
        "print('단어 집합의 크기 :',vocab_size)"
      ],
      "execution_count": null,
      "outputs": [
        {
          "output_type": "stream",
          "text": [
            "단어 집합의 크기 : 2734\n"
          ],
          "name": "stdout"
        }
      ]
    },
    {
      "cell_type": "code",
      "metadata": {
        "id": "YAvWPrcZuHK7"
      },
      "source": [
        "tokenizer = Tokenizer(vocab_size) \n",
        "tokenizer.fit_on_texts(X_train)\n",
        "X_train = tokenizer.texts_to_sequences(X_train)\n",
        "X_test = tokenizer.texts_to_sequences(X_test)"
      ],
      "execution_count": null,
      "outputs": []
    },
    {
      "cell_type": "code",
      "metadata": {
        "colab": {
          "base_uri": "https://localhost:8080/"
        },
        "id": "FBE47gyJuI2z",
        "outputId": "b3dda927-7917-4ae5-b3c8-6038e6863d27"
      },
      "source": [
        "print(X_train[:3])"
      ],
      "execution_count": null,
      "outputs": [
        {
          "output_type": "stream",
          "text": [
            "[[615, 2095, 1248, 91, 35, 1430, 466, 520, 8, 352, 393, 521, 1, 1, 6, 35, 315, 6, 2096, 1, 376, 202, 856, 1691], [958, 959, 13, 959, 244, 10, 1, 960, 165, 95, 54, 1249, 10, 2097, 522, 26, 1082, 1692, 95, 857, 59, 95, 394, 203, 1248, 10, 225, 1250, 1431, 1693, 1251, 59, 113, 616, 298, 440, 59, 113, 106, 6, 565, 95, 2098, 122, 858, 44, 1432, 137, 353, 10, 377, 859, 42, 720, 2099, 2100, 10], [91, 783, 860, 2101, 2102, 1433, 256, 165, 16, 395, 523, 1, 395, 566, 42, 204, 47, 185, 395, 721, 861, 37, 58, 1252, 414, 860, 2103, 7, 3, 185, 567, 10, 354, 209, 66, 38, 65, 7, 1434, 299, 441, 1435, 18, 722, 2104, 127, 245, 2105, 489, 16, 7, 7, 197, 38, 137, 37, 2106, 784, 316, 2107, 662, 26, 209, 355, 1694, 6, 257, 152, 2101, 2102, 860, 862, 9, 1695, 378, 117, 863, 209, 66, 961, 2, 1436, 186, 1083, 1, 2108, 524, 415, 19, 118, 568, 2109, 2110, 1, 395, 721, 861, 237, 663]]\n"
          ],
          "name": "stdout"
        }
      ]
    },
    {
      "cell_type": "code",
      "metadata": {
        "id": "CUpoC-7juKAi"
      },
      "source": [
        "y_train = np.array(train_data['label'])\n",
        "y_test = np.array(test_data['label'])"
      ],
      "execution_count": null,
      "outputs": []
    },
    {
      "cell_type": "code",
      "metadata": {
        "id": "tmO20eFauMWT"
      },
      "source": [
        "#빈샘플 제거하기\n",
        "drop_train = [index for index, sentence in enumerate(X_train) if len(sentence) < 1]"
      ],
      "execution_count": null,
      "outputs": []
    },
    {
      "cell_type": "code",
      "metadata": {
        "colab": {
          "base_uri": "https://localhost:8080/"
        },
        "id": "xxhAoCs1uPWN",
        "outputId": "18601ec9-efd1-47f3-996c-e9f1d23447f5"
      },
      "source": [
        "# 빈 샘플들을 제거\n",
        "X_train = np.delete(X_train, drop_train, axis=0)\n",
        "y_train = np.delete(y_train, drop_train, axis=0)\n",
        "print(len(X_train))\n",
        "print(len(y_train))"
      ],
      "execution_count": null,
      "outputs": [
        {
          "output_type": "stream",
          "text": [
            "550\n",
            "550\n"
          ],
          "name": "stdout"
        },
        {
          "output_type": "stream",
          "text": [
            "/usr/local/lib/python3.7/dist-packages/numpy/core/_asarray.py:83: VisibleDeprecationWarning: Creating an ndarray from ragged nested sequences (which is a list-or-tuple of lists-or-tuples-or ndarrays with different lengths or shapes) is deprecated. If you meant to do this, you must specify 'dtype=object' when creating the ndarray\n",
            "  return array(a, dtype, copy=False, order=order)\n"
          ],
          "name": "stderr"
        }
      ]
    },
    {
      "cell_type": "code",
      "metadata": {
        "colab": {
          "base_uri": "https://localhost:8080/",
          "height": 314
        },
        "id": "Z1U3KnbIuU9S",
        "outputId": "aeb119d7-3c15-4996-bf68-1eab4a16856e"
      },
      "source": [
        "#패딩\n",
        "print('댓글의 최대 길이 :',max(len(l) for l in X_train))\n",
        "print('댓글의 평균 길이 :',sum(map(len, X_train))/len(X_train))\n",
        "plt.hist([len(s) for s in X_train], bins=50)\n",
        "plt.xlabel('length of samples')\n",
        "plt.ylabel('number of samples')\n",
        "plt.show()"
      ],
      "execution_count": null,
      "outputs": [
        {
          "output_type": "stream",
          "text": [
            "댓글의 최대 길이 : 687\n",
            "댓글의 평균 길이 : 67.12727272727273\n"
          ],
          "name": "stdout"
        },
        {
          "output_type": "display_data",
          "data": {
            "image/png": "[encoded data removed]",
            "text/plain": [
              "<Figure size 432x288 with 1 Axes>"
            ]
          },
          "metadata": {
            "tags": [],
            "needs_background": "light"
          }
        }
      ]
    },
    {
      "cell_type": "code",
      "metadata": {
        "id": "4_0s00RAuanh"
      },
      "source": [
        "def below_threshold_len(max_len, nested_list):\n",
        "  cnt = 0\n",
        "  for s in nested_list:\n",
        "    if(len(s) <= max_len):\n",
        "        cnt = cnt + 1\n",
        "  print('전체 샘플 중 길이가 %s 이하인 샘플의 비율: %s'%(max_len, (cnt / len(nested_list))*100))"
      ],
      "execution_count": null,
      "outputs": []
    },
    {
      "cell_type": "code",
      "metadata": {
        "colab": {
          "base_uri": "https://localhost:8080/"
        },
        "id": "djyUb0NIue2R",
        "outputId": "7d9d0191-556c-4b9f-ff1d-4dbd5ef45075"
      },
      "source": [
        "max_len = 400\n",
        "below_threshold_len(max_len, X_train)"
      ],
      "execution_count": null,
      "outputs": [
        {
          "output_type": "stream",
          "text": [
            "전체 샘플 중 길이가 400 이하인 샘플의 비율: 99.63636363636364\n"
          ],
          "name": "stdout"
        }
      ]
    },
    {
      "cell_type": "code",
      "metadata": {
        "id": "syD6jlksujCv"
      },
      "source": [
        "X_train = pad_sequences(X_train, maxlen = max_len)\n",
        "X_test = pad_sequences(X_test, maxlen = max_len)"
      ],
      "execution_count": null,
      "outputs": []
    },
    {
      "cell_type": "code",
      "metadata": {
        "colab": {
          "base_uri": "https://localhost:8080/"
        },
        "id": "zdTHwwlgAVo-",
        "outputId": "8e67d3aa-021e-4baf-f98c-c34112a4d83a"
      },
      "source": [
        "X_test.shape"
      ],
      "execution_count": null,
      "outputs": [
        {
          "output_type": "execute_result",
          "data": {
            "text/plain": [
              "(132, 400)"
            ]
          },
          "metadata": {
            "tags": []
          },
          "execution_count": 42
        }
      ]
    },
    {
      "cell_type": "code",
      "metadata": {
        "colab": {
          "base_uri": "https://localhost:8080/"
        },
        "id": "t11yZuiRAZoC",
        "outputId": "2a0cc63b-08e3-4958-dcae-2bfe5f8d6b8e"
      },
      "source": [
        "X_train.shape"
      ],
      "execution_count": null,
      "outputs": [
        {
          "output_type": "execute_result",
          "data": {
            "text/plain": [
              "(550, 400)"
            ]
          },
          "metadata": {
            "tags": []
          },
          "execution_count": 43
        }
      ]
    },
    {
      "cell_type": "code",
      "metadata": {
        "id": "QFpdbJ82ulRK"
      },
      "source": [
        "from tensorflow.keras.layers import Embedding, Dense, LSTM\n",
        "from tensorflow.keras.models import Sequential\n",
        "from tensorflow.keras.models import load_model\n",
        "from tensorflow.keras.callbacks import EarlyStopping, ModelCheckpoint"
      ],
      "execution_count": null,
      "outputs": []
    },
    {
      "cell_type": "code",
      "metadata": {
        "id": "6fIy1X8wxgT4"
      },
      "source": [
        "from tensorflow.keras.utils import to_categorical\n",
        "y_train = to_categorical(y_train, 4)\n",
        "y_test = to_categorical(y_test, 4)"
      ],
      "execution_count": null,
      "outputs": []
    },
    {
      "cell_type": "code",
      "metadata": {
        "colab": {
          "base_uri": "https://localhost:8080/"
        },
        "id": "1Rv4X1UtvqjW",
        "outputId": "9797503b-bcb5-4b0d-a8fa-1c5182e22046"
      },
      "source": [
        "model = Sequential()\n",
        "model.add(Embedding(vocab_size, 100))\n",
        "model.add(LSTM(100, dropout=0.2, recurrent_dropout=0.2))\n",
        "model.add(Dense(4, activation='softmax'))\n",
        "model.compile(loss='categorical_crossentropy', optimizer='adam', metrics=['accuracy'])\n",
        "\n",
        "es = EarlyStopping(monitor='val_loss', mode='min', verbose=1, patience=4)\n",
        "mc = ModelCheckpoint('best_model.h5', monitor='val_acc', mode='max', verbose=1, save_best_only=True)\n",
        "\n",
        "epochs = 5\n",
        "batch_size = 64\n",
        "\n",
        "#model.compile(optimizer='adam', loss='categorical_crossentropy', metrics=['acc'])\n",
        "history = model.fit(X_train, y_train, epochs=15, callbacks=[es, mc], batch_size=60, validation_split=0.2)"
      ],
      "execution_count": null,
      "outputs": [
        {
          "output_type": "stream",
          "text": [
            "Epoch 1/15\n",
            "8/8 [==============================] - 12s 1s/step - loss: 1.3848 - accuracy: 0.2678 - val_loss: 1.3771 - val_accuracy: 0.3091\n",
            "WARNING:tensorflow:Can save best model only with val_acc available, skipping.\n",
            "Epoch 2/15\n",
            "8/8 [==============================] - 9s 1s/step - loss: 1.3627 - accuracy: 0.4592 - val_loss: 1.3572 - val_accuracy: 0.3091\n",
            "WARNING:tensorflow:Can save best model only with val_acc available, skipping.\n",
            "Epoch 3/15\n",
            "8/8 [==============================] - 9s 1s/step - loss: 1.3198 - accuracy: 0.4381 - val_loss: 1.3197 - val_accuracy: 0.4091\n",
            "WARNING:tensorflow:Can save best model only with val_acc available, skipping.\n",
            "Epoch 4/15\n",
            "8/8 [==============================] - 9s 1s/step - loss: 1.2073 - accuracy: 0.5653 - val_loss: 1.2412 - val_accuracy: 0.4182\n",
            "WARNING:tensorflow:Can save best model only with val_acc available, skipping.\n",
            "Epoch 5/15\n",
            "8/8 [==============================] - 9s 1s/step - loss: 0.9787 - accuracy: 0.6349 - val_loss: 1.0975 - val_accuracy: 0.5727\n",
            "WARNING:tensorflow:Can save best model only with val_acc available, skipping.\n",
            "Epoch 6/15\n",
            "8/8 [==============================] - 9s 1s/step - loss: 0.7704 - accuracy: 0.8228 - val_loss: 1.0532 - val_accuracy: 0.6091\n",
            "WARNING:tensorflow:Can save best model only with val_acc available, skipping.\n",
            "Epoch 7/15\n",
            "8/8 [==============================] - 9s 1s/step - loss: 0.6631 - accuracy: 0.8212 - val_loss: 0.9144 - val_accuracy: 0.6364\n",
            "WARNING:tensorflow:Can save best model only with val_acc available, skipping.\n",
            "Epoch 8/15\n",
            "8/8 [==============================] - 9s 1s/step - loss: 0.4370 - accuracy: 0.9367 - val_loss: 0.8495 - val_accuracy: 0.6636\n",
            "WARNING:tensorflow:Can save best model only with val_acc available, skipping.\n",
            "Epoch 9/15\n",
            "8/8 [==============================] - 9s 1s/step - loss: 0.3303 - accuracy: 0.9305 - val_loss: 0.9066 - val_accuracy: 0.6455\n",
            "WARNING:tensorflow:Can save best model only with val_acc available, skipping.\n",
            "Epoch 10/15\n",
            "8/8 [==============================] - 9s 1s/step - loss: 0.2469 - accuracy: 0.9577 - val_loss: 0.9193 - val_accuracy: 0.7000\n",
            "WARNING:tensorflow:Can save best model only with val_acc available, skipping.\n",
            "Epoch 11/15\n",
            "8/8 [==============================] - 9s 1s/step - loss: 0.2876 - accuracy: 0.9458 - val_loss: 0.8712 - val_accuracy: 0.6182\n",
            "WARNING:tensorflow:Can save best model only with val_acc available, skipping.\n",
            "Epoch 12/15\n",
            "8/8 [==============================] - 9s 1s/step - loss: 0.1870 - accuracy: 0.9528 - val_loss: 1.0006 - val_accuracy: 0.6091\n",
            "WARNING:tensorflow:Can save best model only with val_acc available, skipping.\n",
            "Epoch 00012: early stopping\n"
          ],
          "name": "stdout"
        }
      ]
    },
    {
      "cell_type": "code",
      "metadata": {
        "colab": {
          "base_uri": "https://localhost:8080/",
          "height": 541
        },
        "id": "Cb1sTjT81cay",
        "outputId": "52da94a9-b270-4667-bf86-1c55e5033d97"
      },
      "source": [
        "def plot_graphs(history, string):\n",
        "  plt.plot(history.history[string])\n",
        "  plt.plot(history.history['val_'+string])\n",
        "  plt.xlabel(\"Epochs\")\n",
        "  plt.ylabel(string)\n",
        "  plt.legend([string, 'val_'+string])\n",
        "  plt.show()\n",
        "  \n",
        "plot_graphs(history, \"accuracy\")\n",
        "plot_graphs(history, \"loss\")\n"
      ],
      "execution_count": null,
      "outputs": [
        {
          "output_type": "display_data",
          "data": {
            "image/png": "[encoded data removed]",
            "text/plain": [
              "<Figure size 432x288 with 1 Axes>"
            ]
          },
          "metadata": {
            "tags": [],
            "needs_background": "light"
          }
        },
        {
          "output_type": "display_data",
          "data": {
            "image/png": "[encoded data removed]",
            "text/plain": [
              "<Figure size 432x288 with 1 Axes>"
            ]
          },
          "metadata": {
            "tags": [],
            "needs_background": "light"
          }
        }
      ]
    },
    {
      "cell_type": "code",
      "metadata": {
        "id": "T8cbyq_YuxIo"
      },
      "source": [
        "#loaded_model = load_model('best_model.h5')\n",
        "#print(\"\\n 테스트 정확도: %.4f\" % (loaded_model.evaluate(X_test, y_test)[1]))"
      ],
      "execution_count": null,
      "outputs": []
    },
    {
      "cell_type": "code",
      "metadata": {
        "id": "OMesCaJi_E31"
      },
      "source": [
        "#loaded_model.summary()"
      ],
      "execution_count": null,
      "outputs": []
    },
    {
      "cell_type": "code",
      "metadata": {
        "id": "gXVcJEiuzaqG"
      },
      "source": [
        "#댓글의 카테고리를 예측하는 프로그램 만들기"
      ],
      "execution_count": null,
      "outputs": []
    },
    {
      "cell_type": "code",
      "metadata": {
        "id": "BzTIF8Bbx1IV"
      },
      "source": [
        "def sentiment_predict(new_sentence):\n",
        "  new_sentence = okt.morphs(new_sentence, stem=True) # 토큰화\n",
        "  new_sentence = [word for word in new_sentence if not word in stopwords] # 불용어 제거\n",
        "  encoded = tokenizer.texts_to_sequences([new_sentence]) # 정수 인코딩\n",
        "  pad_new = pad_sequences(encoded, maxlen = max_len) # 패딩\n",
        " # print(pad_new)\n",
        "  score = model.predict(pad_new) # 예측\n",
        "\n",
        " #if(score > 0.5):\n",
        "  #  print(\"{:.2f}% 확률로 긍정 리뷰입니다.\\n\".format(score * 100))\n",
        " #else:\n",
        "  #  print(\"{:.2f}% 확률로 부정 리뷰입니다.\\n\".format((1 - score) * 100))\n",
        "  return score"
      ],
      "execution_count": null,
      "outputs": []
    },
    {
      "cell_type": "code",
      "metadata": {
        "id": "YnVa5UYf0AkH"
      },
      "source": [
        "##str(dataset.loc[[0],['comment_text']])"
      ],
      "execution_count": null,
      "outputs": []
    },
    {
      "cell_type": "code",
      "metadata": {
        "colab": {
          "base_uri": "https://localhost:8080/",
          "height": 704
        },
        "id": "eVJf2bfL9X1w",
        "outputId": "a93892e5-f708-4dce-a3a8-ffdef1e95053"
      },
      "source": [
        "test_data"
      ],
      "execution_count": null,
      "outputs": [
        {
          "output_type": "execute_result",
          "data": {
            "text/html": [
              "<div>\n",
              "<style scoped>\n",
              "    .dataframe tbody tr th:only-of-type {\n",
              "        vertical-align: middle;\n",
              "    }\n",
              "\n",
              "    .dataframe tbody tr th {\n",
              "        vertical-align: top;\n",
              "    }\n",
              "\n",
              "    .dataframe thead th {\n",
              "        text-align: right;\n",
              "    }\n",
              "</style>\n",
              "<table border=\"1\" class=\"dataframe\">\n",
              "  <thead>\n",
              "    <tr style=\"text-align: right;\">\n",
              "      <th></th>\n",
              "      <th>title</th>\n",
              "      <th>view</th>\n",
              "      <th>like</th>\n",
              "      <th>unlike</th>\n",
              "      <th>comment</th>\n",
              "      <th>date</th>\n",
              "      <th>comment_text</th>\n",
              "      <th>뷰티</th>\n",
              "      <th>게임</th>\n",
              "      <th>운동</th>\n",
              "      <th>label</th>\n",
              "    </tr>\n",
              "  </thead>\n",
              "  <tbody>\n",
              "    <tr>\n",
              "      <th>158</th>\n",
              "      <td>[배틀그라운드] 뜨뜨뜨뜨(QUAD) - 솔로 15킬 우승! 친구야 길리슈트 고맙다!...</td>\n",
              "      <td>2258011</td>\n",
              "      <td>7400</td>\n",
              "      <td>628</td>\n",
              "      <td>813</td>\n",
              "      <td>2017.9.12</td>\n",
              "      <td>그렇게 길리슈트와 배율은 아무의미가 없었다 진짜 개잘쏘네 살벌하다 기만자같으니 길리...</td>\n",
              "      <td>0</td>\n",
              "      <td>1</td>\n",
              "      <td>0</td>\n",
              "      <td>1</td>\n",
              "    </tr>\n",
              "    <tr>\n",
              "      <th>500</th>\n",
              "      <td>얼룩덜룩 쉐딩은 이제 그만 왕초보도 쉽게하는 쉐딩 방법  (feat조효진 쉐딩) :...</td>\n",
              "      <td>203571</td>\n",
              "      <td>3900</td>\n",
              "      <td>67</td>\n",
              "      <td>520</td>\n",
              "      <td>2021.4.30</td>\n",
              "      <td>언니야 다음엔 뒤집어진 피부 진정이랑 트러블 가리는법이랑 피부도 해줘유 사랑하여 언...</td>\n",
              "      <td>1</td>\n",
              "      <td>0</td>\n",
              "      <td>0</td>\n",
              "      <td>0</td>\n",
              "    </tr>\n",
              "    <tr>\n",
              "      <th>396</th>\n",
              "      <td>피온4 제 동갑 친구들 전부 월클이네요 | 91년생 축구 선수 스쿼드</td>\n",
              "      <td>98385</td>\n",
              "      <td>1300</td>\n",
              "      <td>43</td>\n",
              "      <td>252</td>\n",
              "      <td>2021.4.28</td>\n",
              "      <td>여기서 가장 놀라운 점박성주는 년생이다 아 성주님 대인줄 알았는데 가 임을 증명하는...</td>\n",
              "      <td>0</td>\n",
              "      <td>1</td>\n",
              "      <td>0</td>\n",
              "      <td>1</td>\n",
              "    </tr>\n",
              "    <tr>\n",
              "      <th>155</th>\n",
              "      <td>배그 대회에서 역대급 캐리를 2번이나?? (지스타 배그 멸망전) - [배틀그라운드]</td>\n",
              "      <td>2713849</td>\n",
              "      <td>19000</td>\n",
              "      <td>562</td>\n",
              "      <td>2787</td>\n",
              "      <td>2018.11.16</td>\n",
              "      <td>홀수 공포증 있어요 홀수면 짝수로 바꿔주세요 이러면 관심 받겠다 킥킥 하하하사 뜨뜨...</td>\n",
              "      <td>0</td>\n",
              "      <td>1</td>\n",
              "      <td>0</td>\n",
              "      <td>1</td>\n",
              "    </tr>\n",
              "    <tr>\n",
              "      <th>321</th>\n",
              "      <td>단 3분만에 허벅지 안쪽살 정리해드립니다</td>\n",
              "      <td>1474164</td>\n",
              "      <td>좋아요</td>\n",
              "      <td>싫어요</td>\n",
              "      <td>2650</td>\n",
              "      <td>2020.10.8</td>\n",
              "      <td>심장 입으로 튀어나올라 한거 간신히 넣었네 휴 남돌 직캠 분은 걍 초도 안걸리는 거...</td>\n",
              "      <td>0</td>\n",
              "      <td>0</td>\n",
              "      <td>1</td>\n",
              "      <td>2</td>\n",
              "    </tr>\n",
              "    <tr>\n",
              "      <th>...</th>\n",
              "      <td>...</td>\n",
              "      <td>...</td>\n",
              "      <td>...</td>\n",
              "      <td>...</td>\n",
              "      <td>...</td>\n",
              "      <td>...</td>\n",
              "      <td>...</td>\n",
              "      <td>...</td>\n",
              "      <td>...</td>\n",
              "      <td>...</td>\n",
              "      <td>...</td>\n",
              "    </tr>\n",
              "    <tr>\n",
              "      <th>424</th>\n",
              "      <td>출산 인사 드립니다 이렇게 생겼어요 조리원 스킨케어까지</td>\n",
              "      <td>525280</td>\n",
              "      <td>13000</td>\n",
              "      <td>141</td>\n",
              "      <td>957</td>\n",
              "      <td>2021.3.27</td>\n",
              "      <td>진짜 유튜브 유씨다 좋은데 걱정되고 걱정된다고 하면 언니가 걱정한다고 미안해할것같고...</td>\n",
              "      <td>1</td>\n",
              "      <td>0</td>\n",
              "      <td>0</td>\n",
              "      <td>0</td>\n",
              "    </tr>\n",
              "    <tr>\n",
              "      <th>515</th>\n",
              "      <td>가짜사나이 2기 지원합니다(체력평가)</td>\n",
              "      <td>1343363</td>\n",
              "      <td>19000</td>\n",
              "      <td>582</td>\n",
              "      <td>5443</td>\n",
              "      <td>2020.8.16</td>\n",
              "      <td>피지컬갤러리 채널에 컷편집 없이 진행해야한다 명시되어있어 무편집으로 진행했습니다 합...</td>\n",
              "      <td>0</td>\n",
              "      <td>0</td>\n",
              "      <td>1</td>\n",
              "      <td>2</td>\n",
              "    </tr>\n",
              "    <tr>\n",
              "      <th>24</th>\n",
              "      <td>여성 구독자 운동 피드백 (part 3)</td>\n",
              "      <td>841805</td>\n",
              "      <td>4900</td>\n",
              "      <td>225</td>\n",
              "      <td>786</td>\n",
              "      <td>2020.1.26</td>\n",
              "      <td>아이구야 얼굴이 화끈화끈합니다 꿈같은 선생님께서 제 운동하는것 봐주셔서 너무나 염광...</td>\n",
              "      <td>0</td>\n",
              "      <td>0</td>\n",
              "      <td>1</td>\n",
              "      <td>2</td>\n",
              "    </tr>\n",
              "    <tr>\n",
              "      <th>218</th>\n",
              "      <td>모든것을 무기로 쓰는 게임</td>\n",
              "      <td>1658663</td>\n",
              "      <td>14000</td>\n",
              "      <td>697</td>\n",
              "      <td>1242</td>\n",
              "      <td>2019.9.22</td>\n",
              "      <td>계속 눌러보셈 이게 그 전설의 여동생을 무기로 팔 수 있는 인성겜인가요 아니 자막 ...</td>\n",
              "      <td>0</td>\n",
              "      <td>1</td>\n",
              "      <td>0</td>\n",
              "      <td>1</td>\n",
              "    </tr>\n",
              "    <tr>\n",
              "      <th>110</th>\n",
              "      <td>최애템으로 인생 데일리 메이크업 같이 준비해요 -Get Ready With Me |...</td>\n",
              "      <td>6605194</td>\n",
              "      <td>11000</td>\n",
              "      <td>3000</td>\n",
              "      <td>5280</td>\n",
              "      <td>2017.6.15</td>\n",
              "      <td>악 와 이거 진짜 리즈 말이 필요없다 지금 이거 보고 있는사람 눌러 또아언니가 다시...</td>\n",
              "      <td>1</td>\n",
              "      <td>0</td>\n",
              "      <td>0</td>\n",
              "      <td>0</td>\n",
              "    </tr>\n",
              "  </tbody>\n",
              "</table>\n",
              "<p>132 rows × 11 columns</p>\n",
              "</div>"
            ],
            "text/plain": [
              "                                                 title     view  ... 운동 label\n",
              "158  [배틀그라운드] 뜨뜨뜨뜨(QUAD) - 솔로 15킬 우승! 친구야 길리슈트 고맙다!...  2258011  ...  0     1\n",
              "500  얼룩덜룩 쉐딩은 이제 그만 왕초보도 쉽게하는 쉐딩 방법  (feat조효진 쉐딩) :...   203571  ...  0     0\n",
              "396             피온4 제 동갑 친구들 전부 월클이네요 | 91년생 축구 선수 스쿼드    98385  ...  0     1\n",
              "155     배그 대회에서 역대급 캐리를 2번이나?? (지스타 배그 멸망전) - [배틀그라운드]  2713849  ...  0     1\n",
              "321                             단 3분만에 허벅지 안쪽살 정리해드립니다  1474164  ...  1     2\n",
              "..                                                 ...      ...  ... ..   ...\n",
              "424                     출산 인사 드립니다 이렇게 생겼어요 조리원 스킨케어까지   525280  ...  0     0\n",
              "515                               가짜사나이 2기 지원합니다(체력평가)  1343363  ...  1     2\n",
              "24                              여성 구독자 운동 피드백 (part 3)   841805  ...  1     2\n",
              "218                                     모든것을 무기로 쓰는 게임  1658663  ...  0     1\n",
              "110  최애템으로 인생 데일리 메이크업 같이 준비해요 -Get Ready With Me |...  6605194  ...  0     0\n",
              "\n",
              "[132 rows x 11 columns]"
            ]
          },
          "metadata": {
            "tags": []
          },
          "execution_count": 57
        }
      ]
    },
    {
      "cell_type": "code",
      "metadata": {
        "colab": {
          "base_uri": "https://localhost:8080/"
        },
        "id": "3Hkp7MYS9ukr",
        "outputId": "fc912bcf-62b3-477c-bffc-57b3fe5a3bd0"
      },
      "source": [
        "test_data.iloc[0:1,6].values"
      ],
      "execution_count": null,
      "outputs": [
        {
          "output_type": "execute_result",
          "data": {
            "text/plain": [
              "array(['그렇게 길리슈트와 배율은 아무의미가 없었다 진짜 개잘쏘네 살벌하다 기만자같으니 길리입고 존버를 뚫지않나 찾아가서 죽이질않나 마지막 나야 저거미친놈처럼 차타고 오더니 샷건스무스하게 맞췄는데 안죽어서 존나빡쳤는데 뜨뜨였어 존나신기하다 길리얻 '],\n",
              "      dtype=object)"
            ]
          },
          "metadata": {
            "tags": []
          },
          "execution_count": 73
        }
      ]
    },
    {
      "cell_type": "code",
      "metadata": {
        "colab": {
          "base_uri": "https://localhost:8080/"
        },
        "id": "SlT_ctVOzkgA",
        "outputId": "cc0ed0dd-aaba-473f-9f8f-8223ad9aa587"
      },
      "source": [
        "sentiment_predict(test_data.iloc[0:1,6].values[0])"
      ],
      "execution_count": null,
      "outputs": [
        {
          "output_type": "execute_result",
          "data": {
            "text/plain": [
              "array([[0.00776077, 0.63463944, 0.331746  , 0.02585387]], dtype=float32)"
            ]
          },
          "metadata": {
            "tags": []
          },
          "execution_count": 50
        }
      ]
    },
    {
      "cell_type": "code",
      "metadata": {
        "id": "E82GnS3VBig4"
      },
      "source": [
        "y_pred = model.predict(X_test)"
      ],
      "execution_count": null,
      "outputs": []
    },
    {
      "cell_type": "code",
      "metadata": {
        "id": "CVqyb7rBtny9"
      },
      "source": [
        "y_pred_ = []\n",
        "for i in range(len(y_pred)):\n",
        "  arg = np.argmax(y_pred[i])\n",
        "  y_pred_.append(arg)\n"
      ],
      "execution_count": null,
      "outputs": []
    },
    {
      "cell_type": "code",
      "metadata": {
        "id": "-OWYAbC6xsID",
        "colab": {
          "base_uri": "https://localhost:8080/"
        },
        "outputId": "d919d782-0a54-4ca7-c90f-bd04d81454df"
      },
      "source": [
        "y_pred[:3]"
      ],
      "execution_count": null,
      "outputs": [
        {
          "output_type": "execute_result",
          "data": {
            "text/plain": [
              "array([[1.4765404e-02, 1.2619819e-01, 8.6973317e-02, 7.7206314e-01],\n",
              "       [9.9207366e-01, 3.0609248e-03, 4.1690255e-03, 6.9639523e-04],\n",
              "       [2.0714968e-01, 3.7500212e-01, 1.7931554e-01, 2.3853274e-01]],\n",
              "      dtype=float32)"
            ]
          },
          "metadata": {
            "tags": []
          },
          "execution_count": 61
        }
      ]
    },
    {
      "cell_type": "code",
      "metadata": {
        "colab": {
          "base_uri": "https://localhost:8080/"
        },
        "id": "3dPGDerHSuiE",
        "outputId": "15ae756b-52bd-4392-ab30-9d5e0b449038"
      },
      "source": [
        "y_pred_[:3]"
      ],
      "execution_count": null,
      "outputs": [
        {
          "output_type": "execute_result",
          "data": {
            "text/plain": [
              "[3, 0, 1]"
            ]
          },
          "metadata": {
            "tags": []
          },
          "execution_count": 62
        }
      ]
    },
    {
      "cell_type": "code",
      "metadata": {
        "id": "ajpQGvCR7lAT"
      },
      "source": [
        "y_train_ = []\n",
        "for i in range(len(y_train)):\n",
        "  arg = np.argmax(y_train[i])\n",
        "  y_train_.append(arg)"
      ],
      "execution_count": null,
      "outputs": []
    },
    {
      "cell_type": "code",
      "metadata": {
        "colab": {
          "base_uri": "https://localhost:8080/"
        },
        "id": "F7QzArlyS0fD",
        "outputId": "37546379-bd83-4e0b-b79d-03894aac6af7"
      },
      "source": [
        "y_train_[:3]"
      ],
      "execution_count": null,
      "outputs": [
        {
          "output_type": "execute_result",
          "data": {
            "text/plain": [
              "[3, 3, 1]"
            ]
          },
          "metadata": {
            "tags": []
          },
          "execution_count": 64
        }
      ]
    },
    {
      "cell_type": "markdown",
      "metadata": {
        "id": "btHgAxeo7k7K"
      },
      "source": [
        ""
      ]
    },
    {
      "cell_type": "markdown",
      "metadata": {
        "id": "kJ-nI40_zitn"
      },
      "source": [
        "성능 테스트"
      ]
    },
    {
      "cell_type": "code",
      "metadata": {
        "id": "c0Ocghu_BzeA"
      },
      "source": [
        "from sklearn.metrics import classification_report"
      ],
      "execution_count": null,
      "outputs": []
    },
    {
      "cell_type": "code",
      "metadata": {
        "id": "EvadD57vBvA3"
      },
      "source": [
        "y_test_ = []\n",
        "for i in range(len(y_test)):\n",
        "  arg = np.argmax(y_test[i])\n",
        "  y_test_.append(arg)"
      ],
      "execution_count": null,
      "outputs": []
    },
    {
      "cell_type": "code",
      "metadata": {
        "colab": {
          "base_uri": "https://localhost:8080/"
        },
        "id": "PCMs_7u6Tdb8",
        "outputId": "3473a440-70bb-4229-81d4-1a32e69bd558"
      },
      "source": [
        "y_test[:3]"
      ],
      "execution_count": null,
      "outputs": [
        {
          "output_type": "execute_result",
          "data": {
            "text/plain": [
              "array([[0., 1., 0., 0.],\n",
              "       [1., 0., 0., 0.],\n",
              "       [0., 1., 0., 0.]], dtype=float32)"
            ]
          },
          "metadata": {
            "tags": []
          },
          "execution_count": 67
        }
      ]
    },
    {
      "cell_type": "code",
      "metadata": {
        "colab": {
          "base_uri": "https://localhost:8080/"
        },
        "id": "foqcPiDpTfqM",
        "outputId": "5bb14e35-f10f-4c6f-ccfd-b4877ae92d91"
      },
      "source": [
        "y_test_[:3]"
      ],
      "execution_count": null,
      "outputs": [
        {
          "output_type": "execute_result",
          "data": {
            "text/plain": [
              "[1, 0, 1]"
            ]
          },
          "metadata": {
            "tags": []
          },
          "execution_count": 68
        }
      ]
    },
    {
      "cell_type": "code",
      "metadata": {
        "id": "y1YviN49B7cf",
        "colab": {
          "base_uri": "https://localhost:8080/"
        },
        "outputId": "f9239e21-927e-40b7-ffac-afc77acf5ea8"
      },
      "source": [
        "print(classification_report(y_pred_,y_test_))"
      ],
      "execution_count": null,
      "outputs": [
        {
          "output_type": "stream",
          "text": [
            "              precision    recall  f1-score   support\n",
            "\n",
            "           0       0.82      0.90      0.86        20\n",
            "           1       0.48      0.96      0.64        26\n",
            "           2       0.69      0.80      0.74        30\n",
            "           3       0.91      0.38      0.53        56\n",
            "\n",
            "    accuracy                           0.67       132\n",
            "   macro avg       0.72      0.76      0.69       132\n",
            "weighted avg       0.76      0.67      0.65       132\n",
            "\n"
          ],
          "name": "stdout"
        }
      ]
    },
    {
      "cell_type": "markdown",
      "metadata": {
        "id": "6d87I9URC7VM"
      },
      "source": [
        "# 영상 댓글만으로 분석할 시 case study"
      ]
    },
    {
      "cell_type": "code",
      "metadata": {
        "colab": {
          "base_uri": "https://localhost:8080/"
        },
        "id": "HQsQMx8IC6Z_",
        "outputId": "d64b02e3-1268-44dd-98ab-4c6547c0b25d"
      },
      "source": [
        "import numpy as np\n",
        "\n",
        "a = np.array(y_pred_)\n",
        "b = np.array(y_test_)\n",
        "c = a==b\n",
        "np.where(c==False)\n",
        "\n",
        "\n"
      ],
      "execution_count": null,
      "outputs": [
        {
          "output_type": "execute_result",
          "data": {
            "text/plain": [
              "(array([  2,   5,  13,  14,  15,  17,  18,  20,  23,  25,  28,  29,  30,\n",
              "         34,  36,  38,  43,  47,  49,  53,  57,  59,  62,  65,  67,  68,\n",
              "         78,  79,  82,  86,  89,  90,  95,  99, 101, 104, 107, 108, 110,\n",
              "        111, 112, 113, 115, 118, 131]),)"
            ]
          },
          "metadata": {
            "tags": []
          },
          "execution_count": 57
        }
      ]
    },
    {
      "cell_type": "code",
      "metadata": {
        "colab": {
          "base_uri": "https://localhost:8080/"
        },
        "id": "l4ZIB0uHC6Xu",
        "outputId": "42d97dad-c0a0-49b0-a01a-f41d8633599b"
      },
      "source": [
        "print(test_data['comment_text'].iloc[2])\n",
        "print(y_pred_[2])\n",
        "print(y_test_[2])"
      ],
      "execution_count": null,
      "outputs": [
        {
          "output_type": "stream",
          "text": [
            "여기서 가장 놀라운 점박성주는 년생이다 아 성주님 대인줄 알았는데 가 임을 증명하는 영상 오늘 영상 키 포인트 박성주가 년생 이라는것 쟤내가 아직 년생이라는것 똥싸는거 직관 \n",
            "1\n",
            "1\n"
          ],
          "name": "stdout"
        }
      ]
    },
    {
      "cell_type": "code",
      "metadata": {
        "colab": {
          "base_uri": "https://localhost:8080/"
        },
        "id": "_Yg6OSirFXcH",
        "outputId": "d1cd0d91-95de-4996-96b1-2f1e6c434c8d"
      },
      "source": [
        "print(test_data['title'].iloc[2])\n",
        "print(y_pred_[2])\n",
        "print(y_test_[2])"
      ],
      "execution_count": null,
      "outputs": [
        {
          "output_type": "stream",
          "text": [
            "피온4 제 동갑 친구들 전부 월클이네요 | 91년생 축구 선수 스쿼드\n",
            "1\n",
            "1\n"
          ],
          "name": "stdout"
        }
      ]
    },
    {
      "cell_type": "code",
      "metadata": {
        "colab": {
          "base_uri": "https://localhost:8080/"
        },
        "id": "4uOAtekbC6UQ",
        "outputId": "12ccca36-cffd-4938-e764-b82ba87b137b"
      },
      "source": [
        "print(test_data['comment_text'].iloc[5])\n",
        "print(y_pred_[5])\n",
        "print(y_test_[5])\n",
        "print(test_data['title'].iloc[5])\n",
        "print(y_pred_[5])\n",
        "print(y_test_[5])"
      ],
      "execution_count": null,
      "outputs": [
        {
          "output_type": "stream",
          "text": [
            "초딩들은 일루오지말고 안답답하고 시끄럽지 않은 도티잠뜰이나 보러가세요 도티님과 잠뜰님 등 어린 친구들이 주 시청자인 유튜버들에 대한 편견이 깨졌습니다 과거에 이런 댓글을 단 스스로가 참 부끄러워지네요 띠또 화이팅 원래 몇번씩 죽어가면서 깨닫는건데 훈수 겁나 하네 재미없고 노잼이고 억지로하는거 보인다고 그럼 왜 왔어 죽어 일부러 죽는게 아니라 원래 바보같고 시끄럽고 거칠고 따뜻한 사람이에요 안맞으시면 그냥 넘어가주세요이 채널은 공략방송이 아니기도 하고 완벽한걸 원하시면 다른거 보세요 안녕하세요 머독입니다 다음에는 더 재밌게 하겠습니다 고맙습니다 \n",
            "3\n",
            "1\n",
            "[직진게임] 오로지 직진만 해야하는게임 속임수에 넘어가면 죽음2018년 10월 9일\n",
            "3\n",
            "1\n"
          ],
          "name": "stdout"
        }
      ]
    },
    {
      "cell_type": "code",
      "metadata": {
        "colab": {
          "base_uri": "https://localhost:8080/"
        },
        "id": "QumLT1-aC6R0",
        "outputId": "dc769d34-7649-4a5a-9272-53b183d801c3"
      },
      "source": [
        "print(test_data['comment_text'].iloc[17])\n",
        "print(y_pred_[17])\n",
        "print(y_test_[17])"
      ],
      "execution_count": null,
      "outputs": [
        {
          "output_type": "stream",
          "text": [
            "조인극 맨날 올라와서 넘 좋아 언니 미안해썸네일보고 짜파게티와 함께한 박진영 자기야 왜 칭얼거려짤인줄 알았어 언니 편의점 알바하면서 영상 봤는데 깜빡하고 에어팟 안 껴서 인트로가 우렁차게 흘러나왔 덕분에 계산하러 오신 어르신께서 어린 분이 인간극장 보나보네 하셨어요 민망민망 닥터자르트 덕후 선생님들 이번에 닥자 시카페어 행사를 한다고하여 달려왔습니다 닥터자르트 공식 홈페이지 시카페어 익스프레스 프로모션 매일매일 달라지는 시카페어 혜택 기간 링크 시카페어 토너 원 더마 코튼 패드 매 원 시카페어 세럼 원 시카페어 크림 원 분명 닥터자르트 최종본 이었는데못 본척 해쥬기 \n",
            "1\n",
            "3\n"
          ],
          "name": "stdout"
        }
      ]
    },
    {
      "cell_type": "code",
      "metadata": {
        "colab": {
          "base_uri": "https://localhost:8080/"
        },
        "id": "SM0-3M9yHjBD",
        "outputId": "3df8ec35-3a46-41ce-c1e2-27cc2d4f8641"
      },
      "source": [
        "print(test_data['title'].iloc[17])\n",
        "print(y_pred_[17])\n",
        "print(y_test_[17])"
      ],
      "execution_count": null,
      "outputs": [
        {
          "output_type": "stream",
          "text": [
            "(with Subs) 조효진의 인간극장 - 제5부 오늘은 내가 요리사 :: Hyojins VLOG\n",
            "1\n",
            "3\n"
          ],
          "name": "stdout"
        }
      ]
    },
    {
      "cell_type": "code",
      "metadata": {
        "colab": {
          "base_uri": "https://localhost:8080/"
        },
        "id": "utH8-QgME5S-",
        "outputId": "5db0f30b-9953-49c9-a5a9-6ff46592e4f6"
      },
      "source": [
        "print(test_data['comment_text'].iloc[18])\n",
        "print(y_pred_[18])\n",
        "print(y_test_[18])"
      ],
      "execution_count": null,
      "outputs": [
        {
          "output_type": "stream",
          "text": [
            "협찬이라 맛있다고 말은 해야겠고 근데 뒤지게 맵고 아 두 개의 자아가 싸우는 느낌이랄까 저 여기 최애 장면이니까 누가 좋아요 좀 주기적으로 눌러주세요 아니면 뭐 내가 알아서 들어오지 음식구성도 존나 웃기다고 실비김치가 중간에 있어야 되는거아님 원래 댓글 안다는 사람인데 이 사람은 뭐지 진짜 미친사람 같앜 분명 첫 영상은 버블티였는데 한개씩 정주행 하고 있는 나 진짜 너무 웃겨욬 자기몸에서 나는 소린데 표정뭐냐곸 \n",
            "1\n",
            "3\n"
          ],
          "name": "stdout"
        }
      ]
    },
    {
      "cell_type": "code",
      "metadata": {
        "colab": {
          "base_uri": "https://localhost:8080/"
        },
        "id": "Nwk3ziFhHdzS",
        "outputId": "e298ba9d-f165-4b31-e3b6-b83ac7f3ef87"
      },
      "source": [
        "print(test_data['title'].iloc[18])\n",
        "print(y_pred_[18])\n",
        "print(y_test_[18])"
      ],
      "execution_count": null,
      "outputs": [
        {
          "output_type": "stream",
          "text": [
            "SUB)나울어매운실비김치 통스팸 짜파게티 리얼사운드 먹방ASMRTHE SPICIEST KOREAN KIMCHI 辛いキムチ  Korean Mukbang\n",
            "1\n",
            "3\n"
          ],
          "name": "stdout"
        }
      ]
    },
    {
      "cell_type": "code",
      "metadata": {
        "colab": {
          "base_uri": "https://localhost:8080/"
        },
        "id": "ZLMzUr3JE5QM",
        "outputId": "9e3195d4-0547-42bf-b177-b9395147f4c8"
      },
      "source": [
        "print(test_data['comment_text'].iloc[20])\n",
        "print(y_pred_[20])\n",
        "print(y_test_[20])"
      ],
      "execution_count": null,
      "outputs": [
        {
          "output_type": "stream",
          "text": [
            "진짜 믿고 보는 고멤 분 순삭 당했습니다 길이길이 남을 역작 번째 돌려보는중 고멤은 지옥이다 팀장꼰대진상할배호를 맡은 띵킹입니다 고멤은 지옥이다 정말 함께해주신 모든 분들 각본쓰고 연기해주신 고멤 여러분 맵 제작의 킴카멘님 잉푸님 저는 차려놓은 밥상에 그저 숟가락 하나만 올려놨을 뿐입니다 모두 함께 이런 좋은 작품 만들수 있어서 너무 행복하고 감사했습니다 앞으로 고멤 활동 열심히 하고 항상 재밌는 띵킹이 되겠습니다 왁굳님 항상 존경하고 사랑합니다 감사합니다 컨텐츠 일주일 남기고 아무것도 없이 모였습니다 고멤 모두가 일주일 내내 매일 밤새면서 머리싸매고 다같이 세계관스토리연출 아이디어 내가면서 열심히 했습니다 저희가 고멤이었기에 열정하나로 모인거였기에 좋은 결과가 나왔던것같아요 그렇기에 고멤이 아니신데도 매일 밤새며 맵 만드셨던 맵 제작자분들이 정말 대단했던것같습니다 맵 제작자분들 고멤분들 다들 정말 고생하셨습니다 제 입장의 비하인드 제가 고기를 씹는장면때는 동동쿤님이 풀트래킹으로 몸연기를하고 저는 고기를 씹는 소리만 냈습니다 저는 사람고기를 씹는 소리를 연출하기위해 육회만원어치를 깍둑썰기로 준비해 씹었습니다 육회를 먹어보는게 처음이었는데 막상 씹어보니 씹는소리는 잘 났지만 연기하며 삼키기가 너무 버거워 휴지에 뱉고 새로운 고기를 씹고를 반복했습니다 최종리허설까지도 없었는데 실전때 과몰입을 너무 하다보니 마지막 추격장면때 왁굳님이 저와 주르르님 사이를 방해한다고 생각이 드니 너무 속상하고 분해서 눈물이 흐르더라구요 주르르님 연습할땐 연기 못했는데 실전때 저 경멸하는 연기가 나오길래 진짜 저를 경멸하나싶었습니다주륵 재밌게 봐주신 여러분 정말 감사합니다 덕분에 저희 모두 매일 밤새며 고생했던게 더 보람있었던것같습니다 앞으로도 왁굳님의 고멤 컨텐츠 많이 좋아해주시고 응원해주시면 감사하겠습니다 감정에 벅차 눈물이 글썽이지만 다급하게 숨기며 뒤로도는 냉참 감 감사합니다 그리고 저 실제로 안저래요착해요 미쳤다이건진짜 와 회차 시청중이신 분은 좋아요를 늘러주세요 \n",
            "2\n",
            "1\n"
          ],
          "name": "stdout"
        }
      ]
    },
    {
      "cell_type": "code",
      "metadata": {
        "colab": {
          "base_uri": "https://localhost:8080/"
        },
        "id": "iUhwTzCEE5Mb",
        "outputId": "d97cdee9-b0ad-4ff4-bbab-a37ee170af19"
      },
      "source": [
        "print(test_data['comment_text'].iloc[21])\n",
        "print(y_pred_[21])\n",
        "print(y_test_[21])"
      ],
      "execution_count": null,
      "outputs": [
        {
          "output_type": "stream",
          "text": [
            "저도 노브랜드 제품들 너무 좋아해요 여기 나온것들 다 좋아한다는건 안 비밀 가성비가 진짜 좋은 것 같아요 머리에 왕먼지 붙었어요 거슬리게해서 죄송합니다 담엔 꼭 영상 찍기 전에 확인 할게요오 머리삼각김밥 노브랜드는원참좋아하는듯 여러분 이번에도 알람 안 갔나요오 \n",
            "2\n",
            "3\n"
          ],
          "name": "stdout"
        }
      ]
    },
    {
      "cell_type": "code",
      "metadata": {
        "colab": {
          "base_uri": "https://localhost:8080/"
        },
        "id": "5fekLqlwE5JS",
        "outputId": "05a84828-e450-403d-d4c5-a6f8417a75e6"
      },
      "source": [
        "print(test_data['comment_text'].iloc[24])\n",
        "print(y_pred_[24])\n",
        "print(y_test_[24])"
      ],
      "execution_count": null,
      "outputs": [
        {
          "output_type": "stream",
          "text": [
            "간증댓글 남깁니다 맨날 그냥 틴트바르면 너무 건조하고 각질경계안쪽으로만 착색되고 립밤바르고 발라도 지속력만 떨어지고 했던 사람인데 두콩언니 말대로 하니까 진짜 하루종일 윤기나면서 덜 건조하고 착색도 더럽게 안되고 매끈하고 자연스럽게 유지돼요 저는 차앤박 프로폴리스 앰플 썻어요 두콩쓰 꿀팁 이즈 베스트 여러분 브랜드없는 길거리에 파는 안경이에요 담부터 브랜드로 사볼게 대충 막바르고 음마음마하고 나갔다구요 안돼요 단계별로 차근차근 바르고 티슈로 착색 확인사살 꼭 하고 나가기 설명때매 단계가 많아보이지만 바르는데 분도 안걸려요 그리고 앰플 없으시면 스킵해주세요 여러분 어떤 연두부님이 술먹기 전에 이렇게 바르면 절대 거울 볼 일없다고 아 술먹고싶다 아무말 틴트마다 다르겠지만 너무 물완전 물 틴트는 저도 잘 얼룩지더라구요 사용한 컬러그램 썬더볼틴트 라이트닝은 물 젤 중간 제품이니 참고해주세요 \n",
            "2\n",
            "0\n"
          ],
          "name": "stdout"
        }
      ]
    },
    {
      "cell_type": "code",
      "metadata": {
        "colab": {
          "base_uri": "https://localhost:8080/"
        },
        "id": "lXhiNEz2E5Fq",
        "outputId": "1833f5d1-6392-4316-f89b-007a06fcb4c6"
      },
      "source": [
        "print(test_data['comment_text'].iloc[28])\n",
        "print(y_pred_[28])\n",
        "print(y_test_[28])"
      ],
      "execution_count": null,
      "outputs": [
        {
          "output_type": "stream",
          "text": [
            "여러분은 어떤 맛 드실래요 영상에서는 과일별로 한입만 베어 먹지만 실제로 촬영할 때는 가장 예쁜컷을 고르기 위해 몇십개의 탕후루를 먹었어요 저거 촬영하고 바로 김치찌개 먹으러 갔다는    \n",
            "3\n",
            "0\n"
          ],
          "name": "stdout"
        }
      ]
    },
    {
      "cell_type": "code",
      "metadata": {
        "colab": {
          "base_uri": "https://localhost:8080/"
        },
        "id": "MyNRcO1XC6Om",
        "outputId": "9d33d701-3791-472a-ddb1-dfa90cf76e34"
      },
      "source": [
        "print(test_data['title'].iloc[28])\n",
        "print(y_pred_[28])\n",
        "print(y_test_[28])"
      ],
      "execution_count": null,
      "outputs": [
        {
          "output_type": "stream",
          "text": [
            "탕후루맛zip 탕후루 광택 틴트 추천 + 오버립  메이크업  * OVERLINE LIPS TUTORIAL * LIP SWATCHES\n",
            "3\n",
            "0\n"
          ],
          "name": "stdout"
        }
      ]
    },
    {
      "cell_type": "code",
      "metadata": {
        "colab": {
          "base_uri": "https://localhost:8080/"
        },
        "id": "iDZUuN7ZKpSo",
        "outputId": "7d9e7669-3554-43f5-f544-4a94cc0baab3"
      },
      "source": [
        "print(test_data['comment_text'].iloc[34])\n",
        "print(y_pred_[34])\n",
        "print(y_test_[34])\n",
        "print(test_data['title'].iloc[34])"
      ],
      "execution_count": null,
      "outputs": [
        {
          "output_type": "stream",
          "text": [
            "누누더러워먹는거역겨워재생엄청나무서워라인클리어왜이래 아 하필 저랑 하실때 어머니가 부르셔서 그쵸 텔론님패드립 절대 아닙니다 텔론도 맘먹고 했으면 챌 달을듯 저 김만덕씨 계좌번호 확인 좀 다시 해주세요 입금이 안됐는데 죄송훱니다 텔청자님덜 텔론님의 루시안이 이렇게 셀 줄은 편집자형님 감사드려요 \n",
            "3\n",
            "1\n",
            "늬들은 훈수하지마라나부터 이기고 훈수해라★쌉졸렬 5단계★ 시청자 1대1 대전\n"
          ],
          "name": "stdout"
        }
      ]
    },
    {
      "cell_type": "code",
      "metadata": {
        "colab": {
          "base_uri": "https://localhost:8080/"
        },
        "id": "eR-89iGeKpOu",
        "outputId": "2fd834f0-a54c-459a-dac8-eff2d7128d1c"
      },
      "source": [
        "print(test_data['comment_text'].iloc[36])\n",
        "print(y_pred_[36])\n",
        "print(y_test_[36])\n",
        "print(test_data['title'].iloc[36])"
      ],
      "execution_count": null,
      "outputs": [
        {
          "output_type": "stream",
          "text": [
            "다이어트 하지맙시다 그냥 먹고 운동하면되는거 아니겠습니까 솔직히 먹는게 너무 좋아서 못참겠습니다 오늘부로 운동먹방유튜버합니다 영상 속에 나온 볶음밥 제품 링크입니다 링크 클릭 후 회원가입만하시면 저렴하게 많은 다이어트식품을 구매하실수있습니다 필요하신분들은 많은 이용 부탁드립니다 오프닝 혈색 안좋았는데 식사 및 운동후 급격히 좋아짐 첫끼니로 천칼로리 박는데 이걸 실패하겠냐고 아프리카 시청자 명이였을때 도대체 왜 인기가 없을까 했는데 오랜만에 들어와 보니까 역시나 성공하셨군요 번창하시길 바랍니다 자메이카 통다리 최애 치킨인데 대퇴사두가 제법 웅장해집니다 다이어트라 먹방유튜브 보는데 지피티님께 제일 제법입니다 \n",
            "3\n",
            "2\n",
            "다이어트 다 때려치우고 하루만에 10000Kcal 먹어봤습니다 (10000Kcal challenge)\n"
          ],
          "name": "stdout"
        }
      ]
    },
    {
      "cell_type": "code",
      "metadata": {
        "colab": {
          "base_uri": "https://localhost:8080/"
        },
        "id": "kkL9MIbAKpMB",
        "outputId": "bc94574d-bdc6-4f5b-f4f3-f15b53e283e2"
      },
      "source": [
        "print(test_data['comment_text'].iloc[37])\n",
        "print(y_pred_[37])\n",
        "print(y_test_[37])\n",
        "print(test_data['title'].iloc[37])"
      ],
      "execution_count": null,
      "outputs": [
        {
          "output_type": "stream",
          "text": [
            "뒤에 보라고 이자식아 라고 하시면서 정작 본인 뒤는 못보심 마지막 말에서 한번더 터졌네요 진짜 같답니다 이 영상을 안본사람은 있어도 한번만 본사람은 없을것이다 앜진짜 이거 생방 때 미친듯이 웃었는데 다시 봐도 너무 웃기당 윰댕님 웃는거봨 놀래키면서 만족한 표정 \n",
            "0\n",
            "1\n",
            "대도서관] 윰댕님의 손길 한번에 대깜놀한 사연은? (키친 VR 실황 中)\n"
          ],
          "name": "stdout"
        }
      ]
    },
    {
      "cell_type": "code",
      "metadata": {
        "colab": {
          "base_uri": "https://localhost:8080/"
        },
        "id": "gKQrc_S-KpIk",
        "outputId": "9506e944-aa90-4821-d05c-c23c633d2b6b"
      },
      "source": [
        "print(test_data['comment_text'].iloc[38])\n",
        "print(y_pred_[38])\n",
        "print(y_test_[38])\n",
        "print(test_data['title'].iloc[38])"
      ],
      "execution_count": null,
      "outputs": [
        {
          "output_type": "stream",
          "text": [
            "이런 장르는 처음인데 오히려 어쩡쩡하게하는 것보다 이렇게 아예 전문적으로 해버리니까 확실히 예술같아서 거부감이 줄어든다 하나의 작품으로 인식이 되는듯 워 저 나나라는 분 진짜 카리스마 사람을 매혹하는 게 엄청나다 드랙퀸이 뭔진 몰라도 메이크업 과정을 다 봤음에도 올드레스업하고 웃을 때 완전히 매혹됨을 느낌 솔직히 드랙퀸에 대해선 지금 굉장히 논란이 많음 나는 개인이 드랙을 왜 하고싶은지를 취향으로써 존중도 하지만 한편으로는 드랙의 논쟁거리에 대해서도 어느정도 동의를 하는사람임 그래서 내 시선도 딱히 고운 편은 아닌데 그냥 이 영상 끝까지 보고나니까 메컵후 끼쟁이 타임에서 끼부리는걸 보고있자니 그냥 참 예쁘다는 생각이 들었음 레제님 왜 배게 솜을 쓰고 오셨어욬 나비가사람이되면 이런기분일것같다 \n",
            "1\n",
            "0\n",
            "무려 11년차 드랙퀸 해외공연에 뮤비까지\n"
          ],
          "name": "stdout"
        }
      ]
    },
    {
      "cell_type": "markdown",
      "metadata": {
        "id": "F3n9GTlFymkp"
      },
      "source": [
        "#2. 제목만으로 분류하기\n"
      ]
    },
    {
      "cell_type": "code",
      "metadata": {
        "id": "kuSOAUCxztYj"
      },
      "source": [
        "dataset1 = pd.read_csv('result_먹방추가.csv',encoding='cp949')"
      ],
      "execution_count": null,
      "outputs": []
    },
    {
      "cell_type": "code",
      "metadata": {
        "id": "I9MpwSRbBgH9"
      },
      "source": [
        "X1  = dataset['title']\n",
        "y1  = dataset['label']"
      ],
      "execution_count": null,
      "outputs": []
    },
    {
      "cell_type": "code",
      "metadata": {
        "id": "zNPNDDwGyyAr"
      },
      "source": [
        "from sklearn.model_selection import train_test_split\n",
        "\n",
        "# train_test_split\n",
        "train_data , test_data = train_test_split(dataset, test_size=0.2, random_state=42)\n",
        "\n"
      ],
      "execution_count": null,
      "outputs": []
    },
    {
      "cell_type": "code",
      "metadata": {
        "colab": {
          "base_uri": "https://localhost:8080/"
        },
        "id": "tq7dr9Yx0JZ0",
        "outputId": "b445325f-d28a-4441-817e-679833b6321f"
      },
      "source": [
        "train_data.drop_duplicates(subset = ['title'], inplace=True) # document 열에서 중복인 내용이 있다면 중복 제거\n",
        "train_data['title'] = train_data['title'].str.replace(\"[^ㄱ-ㅎㅏ-ㅣ가-힣 ]\",\"\") # 정규 표현식 수행\n",
        "train_data['title'] = train_data['title'].str.replace('^ +', \"\") # 공백은 empty 값으로 변경\n",
        "train_data['title'].replace('', np.nan, inplace=True) # 공백은 Null 값으로 변경\n",
        "train_data = train_data.dropna(how='any') # Null 값 제거\n",
        "print('전처리 후 테스트용 샘플의 개수 :',len(train_data))"
      ],
      "execution_count": null,
      "outputs": [
        {
          "output_type": "stream",
          "text": [
            "전처리 후 테스트용 샘플의 개수 : 558\n"
          ],
          "name": "stdout"
        },
        {
          "output_type": "stream",
          "text": [
            "/usr/local/lib/python3.7/dist-packages/ipykernel_launcher.py:1: SettingWithCopyWarning: \n",
            "A value is trying to be set on a copy of a slice from a DataFrame\n",
            "\n",
            "See the caveats in the documentation: https://pandas.pydata.org/pandas-docs/stable/user_guide/indexing.html#returning-a-view-versus-a-copy\n",
            "  \"\"\"Entry point for launching an IPython kernel.\n",
            "/usr/local/lib/python3.7/dist-packages/ipykernel_launcher.py:2: SettingWithCopyWarning: \n",
            "A value is trying to be set on a copy of a slice from a DataFrame.\n",
            "Try using .loc[row_indexer,col_indexer] = value instead\n",
            "\n",
            "See the caveats in the documentation: https://pandas.pydata.org/pandas-docs/stable/user_guide/indexing.html#returning-a-view-versus-a-copy\n",
            "  \n",
            "/usr/local/lib/python3.7/dist-packages/ipykernel_launcher.py:3: SettingWithCopyWarning: \n",
            "A value is trying to be set on a copy of a slice from a DataFrame.\n",
            "Try using .loc[row_indexer,col_indexer] = value instead\n",
            "\n",
            "See the caveats in the documentation: https://pandas.pydata.org/pandas-docs/stable/user_guide/indexing.html#returning-a-view-versus-a-copy\n",
            "  This is separate from the ipykernel package so we can avoid doing imports until\n",
            "/usr/local/lib/python3.7/dist-packages/pandas/core/series.py:4582: SettingWithCopyWarning: \n",
            "A value is trying to be set on a copy of a slice from a DataFrame\n",
            "\n",
            "See the caveats in the documentation: https://pandas.pydata.org/pandas-docs/stable/user_guide/indexing.html#returning-a-view-versus-a-copy\n",
            "  method=method,\n"
          ],
          "name": "stderr"
        }
      ]
    },
    {
      "cell_type": "code",
      "metadata": {
        "colab": {
          "base_uri": "https://localhost:8080/"
        },
        "id": "lIOQReC1yx9Z",
        "outputId": "d20a4540-49bf-47d9-80e8-e159e434f211"
      },
      "source": [
        "test_data.drop_duplicates(subset = ['title'], inplace=True) # document 열에서 중복인 내용이 있다면 중복 제거\n",
        "test_data['title'] = test_data['title'].str.replace(\"[^ㄱ-ㅎㅏ-ㅣ가-힣 ]\",\"\") # 정규 표현식 수행\n",
        "test_data['title'] = test_data['title'].str.replace('^ +', \"\") # 공백은 empty 값으로 변경\n",
        "test_data['title'].replace('', np.nan, inplace=True) # 공백은 Null 값으로 변경\n",
        "test_data = test_data.dropna(how='any') # Null 값 제거\n",
        "print('전처리 후 테스트용 샘플의 개수 :',len(test_data))"
      ],
      "execution_count": null,
      "outputs": [
        {
          "output_type": "stream",
          "text": [
            "전처리 후 테스트용 샘플의 개수 : 140\n"
          ],
          "name": "stdout"
        },
        {
          "output_type": "stream",
          "text": [
            "/usr/local/lib/python3.7/dist-packages/ipykernel_launcher.py:1: SettingWithCopyWarning: \n",
            "A value is trying to be set on a copy of a slice from a DataFrame\n",
            "\n",
            "See the caveats in the documentation: https://pandas.pydata.org/pandas-docs/stable/user_guide/indexing.html#returning-a-view-versus-a-copy\n",
            "  \"\"\"Entry point for launching an IPython kernel.\n",
            "/usr/local/lib/python3.7/dist-packages/ipykernel_launcher.py:2: SettingWithCopyWarning: \n",
            "A value is trying to be set on a copy of a slice from a DataFrame.\n",
            "Try using .loc[row_indexer,col_indexer] = value instead\n",
            "\n",
            "See the caveats in the documentation: https://pandas.pydata.org/pandas-docs/stable/user_guide/indexing.html#returning-a-view-versus-a-copy\n",
            "  \n",
            "/usr/local/lib/python3.7/dist-packages/ipykernel_launcher.py:3: SettingWithCopyWarning: \n",
            "A value is trying to be set on a copy of a slice from a DataFrame.\n",
            "Try using .loc[row_indexer,col_indexer] = value instead\n",
            "\n",
            "See the caveats in the documentation: https://pandas.pydata.org/pandas-docs/stable/user_guide/indexing.html#returning-a-view-versus-a-copy\n",
            "  This is separate from the ipykernel package so we can avoid doing imports until\n",
            "/usr/local/lib/python3.7/dist-packages/pandas/core/series.py:4582: SettingWithCopyWarning: \n",
            "A value is trying to be set on a copy of a slice from a DataFrame\n",
            "\n",
            "See the caveats in the documentation: https://pandas.pydata.org/pandas-docs/stable/user_guide/indexing.html#returning-a-view-versus-a-copy\n",
            "  method=method,\n"
          ],
          "name": "stderr"
        }
      ]
    },
    {
      "cell_type": "code",
      "metadata": {
        "id": "EvWHzSjEyx7g"
      },
      "source": [
        "train_data['tokenized'] = train_data['title'].apply(okt.morphs)\n",
        "train_data['tokenized'] = train_data['tokenized'].apply(lambda x: [item for item in x if item not in stopwords])"
      ],
      "execution_count": null,
      "outputs": []
    },
    {
      "cell_type": "code",
      "metadata": {
        "id": "qhy5KOypyx5t"
      },
      "source": [
        "beauty = np.hstack(train_data[train_data.label == 0]['tokenized'].values)\n",
        "game = np.hstack(train_data[train_data.label == 1]['tokenized'].values)\n",
        "sport = np.hstack(train_data[train_data.label == 2]['tokenized'].values)\n",
        "eat = np.hstack(train_data[train_data.label == 3]['tokenized'].values)"
      ],
      "execution_count": null,
      "outputs": []
    },
    {
      "cell_type": "code",
      "metadata": {
        "colab": {
          "base_uri": "https://localhost:8080/"
        },
        "id": "f_2ho_fu0DMY",
        "outputId": "bc588ed9-c3ce-47e1-b7bc-9de2e1d105ec"
      },
      "source": [
        "beauty_word_count = Counter(beauty)\n",
        "print(beauty_word_count.most_common(20))"
      ],
      "execution_count": null,
      "outputs": [
        {
          "output_type": "stream",
          "text": [
            "[('메이크업', 90), ('법', 17), ('틴트', 14), ('같이', 14), ('추천', 13), ('준비', 13), ('데', 11), ('일리', 10), ('이사배', 10), ('뷰티', 10), ('바르는', 9), ('템', 9), ('해요', 9), ('윤쨔미', 9), ('화장', 8), ('로드', 8), ('샵', 8), ('피부', 7), ('화장품', 7), ('유나', 7)]\n"
          ],
          "name": "stdout"
        }
      ]
    },
    {
      "cell_type": "code",
      "metadata": {
        "colab": {
          "base_uri": "https://localhost:8080/"
        },
        "id": "0NwTasMHyx2x",
        "outputId": "603d9f32-3911-4009-fb1f-6cba6763a3b8"
      },
      "source": [
        "game_word_count = Counter(game)\n",
        "print(game_word_count.most_common(20))"
      ],
      "execution_count": null,
      "outputs": [
        {
          "output_type": "stream",
          "text": [
            "[('게임', 23), ('마인크래프트', 14), ('대', 12), ('양띵', 11), ('레전드', 11), ('배틀', 10), ('라운드', 10), ('화', 9), ('악어', 8), ('뜨', 8), ('어스', 7), ('핵', 7), ('롤', 7), ('편', 7), ('테스', 6), ('터훈', 6), ('감스트', 6), ('명', 6), ('탈출', 6), ('도서관', 6)]\n"
          ],
          "name": "stdout"
        }
      ]
    },
    {
      "cell_type": "code",
      "metadata": {
        "colab": {
          "base_uri": "https://localhost:8080/"
        },
        "id": "3ccwPUGcyx08",
        "outputId": "a5df067c-1310-4dce-dd15-ba16e37b4b30"
      },
      "source": [
        "sport_word_count = Counter(sport)\n",
        "print(sport_word_count.most_common(20))"
      ],
      "execution_count": null,
      "outputs": [
        {
          "output_type": "stream",
          "text": [
            "[('운동', 60), ('요가', 20), ('스트레칭', 16), ('법', 14), ('어깨', 13), ('살', 13), ('루틴', 12), ('방법', 11), ('팔뚝', 10), ('하세요', 9), ('타', 9), ('다이어트', 9), ('빼는', 8), ('바타', 8), ('전신', 8), ('위', 8), ('대', 8), ('슛포', 7), ('러브', 7), ('가지', 7)]\n"
          ],
          "name": "stdout"
        }
      ]
    },
    {
      "cell_type": "code",
      "metadata": {
        "colab": {
          "base_uri": "https://localhost:8080/"
        },
        "id": "w7JZyg76yxyB",
        "outputId": "9033cdb3-d20c-4b14-91e2-4218a70597f1"
      },
      "source": [
        "eat_word_count = Counter(eat)\n",
        "print(eat_word_count.most_common(20))"
      ],
      "execution_count": null,
      "outputs": [
        {
          "output_type": "stream",
          "text": [
            "[('먹방', 83), ('리얼', 24), ('사운드', 23), ('밥', 14), ('도전', 11), ('먹으면', 10), ('히', 10), ('야식', 8), ('라면', 7), ('하루', 7), ('시간', 6), ('짜파게티', 6), ('요리', 6), ('만원', 6), ('사장', 6), ('웅', 5), ('등', 5), ('공짜', 5), ('원', 5), ('먹는', 5)]\n"
          ],
          "name": "stdout"
        }
      ]
    },
    {
      "cell_type": "code",
      "metadata": {
        "id": "JiLoXUKVyxwD"
      },
      "source": [
        "X_train1 = []\n",
        "for sentence in train_data['title']:\n",
        "    temp_X = okt.morphs(sentence, stem=True) # 토큰화\n",
        "    temp_X = [word for word in temp_X if not word in stopwords] # 불용어 제거\n",
        "    X_train1.append(temp_X)\n",
        "\n",
        "\n",
        "X_test = []\n",
        "for sentence in test_data['title']:\n",
        "    temp_X = okt.morphs(sentence, stem=True) # 토큰화\n",
        "    temp_X = [word for word in temp_X if not word in stopwords] # 불용어 제거\n",
        "    X_test.append(temp_X)\n"
      ],
      "execution_count": null,
      "outputs": []
    },
    {
      "cell_type": "code",
      "metadata": {
        "id": "TB-ucbWwyxtK"
      },
      "source": [
        "#정수 인코딩 \n",
        "tokenizer = Tokenizer()\n",
        "tokenizer.fit_on_texts(X_train1)"
      ],
      "execution_count": null,
      "outputs": []
    },
    {
      "cell_type": "code",
      "metadata": {
        "colab": {
          "base_uri": "https://localhost:8080/"
        },
        "id": "oKRdASrQ0ZvY",
        "outputId": "d406b7ec-4972-4a3b-a7e9-8b229f6b1b79"
      },
      "source": [
        "threshold = 3\n",
        "total_cnt = len(tokenizer.word_index) # 단어의 수\n",
        "rare_cnt = 0 # 등장 빈도수가 threshold보다 작은 단어의 개수를 카운트\n",
        "total_freq = 0 # 훈련 데이터의 전체 단어 빈도수 총 합\n",
        "rare_freq = 0 # 등장 빈도수가 threshold보다 작은 단어의 등장 빈도수의 총 합\n",
        "\n",
        "# 단어와 빈도수의 쌍(pair)을 key와 value로 받는다.\n",
        "for key, value in tokenizer.word_counts.items():\n",
        "    total_freq = total_freq + value\n",
        "\n",
        "    # 단어의 등장 빈도수가 threshold보다 작으면\n",
        "    if(value < threshold):\n",
        "        rare_cnt = rare_cnt + 1\n",
        "        rare_freq = rare_freq + value\n",
        "\n",
        "print('단어 집합(vocabulary)의 크기 :',total_cnt)\n",
        "print('등장 빈도가 %s번 이하인 희귀 단어의 수: %s'%(threshold - 1, rare_cnt))\n",
        "print(\"단어 집합에서 희귀 단어의 비율:\", (rare_cnt / total_cnt)*100)\n",
        "print(\"전체 등장 빈도에서 희귀 단어 등장 빈도 비율:\", (rare_freq / total_freq)*100)"
      ],
      "execution_count": null,
      "outputs": [
        {
          "output_type": "stream",
          "text": [
            "단어 집합(vocabulary)의 크기 : 2223\n",
            "등장 빈도가 2번 이하인 희귀 단어의 수: 1745\n",
            "단어 집합에서 희귀 단어의 비율: 78.49752586594691\n",
            "전체 등장 빈도에서 희귀 단어 등장 빈도 비율: 41.21661142522909\n"
          ],
          "name": "stdout"
        }
      ]
    },
    {
      "cell_type": "code",
      "metadata": {
        "colab": {
          "base_uri": "https://localhost:8080/"
        },
        "id": "_UBFWQoV0ZtQ",
        "outputId": "b1e1909e-d5cf-4ef6-86ac-f7d6a461e51a"
      },
      "source": [
        "# 전체 단어 개수 중 빈도수 2이하인 단어는 제거.\n",
        "# 0번 패딩 토큰을 고려하여 + 1\n",
        "vocab_size = total_cnt - rare_cnt + 1\n",
        "print('단어 집합의 크기 :',vocab_size)"
      ],
      "execution_count": null,
      "outputs": [
        {
          "output_type": "stream",
          "text": [
            "단어 집합의 크기 : 479\n"
          ],
          "name": "stdout"
        }
      ]
    },
    {
      "cell_type": "code",
      "metadata": {
        "colab": {
          "base_uri": "https://localhost:8080/"
        },
        "id": "_wuBLgBK0Zop",
        "outputId": "a4da1f05-eafb-4961-a4e7-f779d0c33d1d"
      },
      "source": [
        "tokenizer = Tokenizer(vocab_size) \n",
        "tokenizer.fit_on_texts(X_train1)\n",
        "X_train1 = tokenizer.texts_to_sequences(X_train1)\n",
        "X_test = tokenizer.texts_to_sequences(X_test)\n",
        "\n",
        "y_train = np.array(train_data['label'])\n",
        "y_test = np.array(test_data['label'])\n",
        "\n",
        "#빈샘플 제거하기\n",
        "drop_train = [index for index, sentence in enumerate(X_train1) if len(sentence) < 1]\n",
        "\n",
        "# 빈 샘플들을 제거\n",
        "X_train1 = np.delete(X_train1, drop_train, axis=0)\n",
        "y_train = np.delete(y_train, drop_train, axis=0)\n",
        "print(len(X_train1))\n",
        "print(len(y_train))\n",
        "\n"
      ],
      "execution_count": null,
      "outputs": [
        {
          "output_type": "stream",
          "text": [
            "551\n",
            "551\n"
          ],
          "name": "stdout"
        },
        {
          "output_type": "stream",
          "text": [
            "/usr/local/lib/python3.7/dist-packages/numpy/core/_asarray.py:83: VisibleDeprecationWarning: Creating an ndarray from ragged nested sequences (which is a list-or-tuple of lists-or-tuples-or ndarrays with different lengths or shapes) is deprecated. If you meant to do this, you must specify 'dtype=object' when creating the ndarray\n",
            "  return array(a, dtype, copy=False, order=order)\n"
          ],
          "name": "stderr"
        }
      ]
    },
    {
      "cell_type": "code",
      "metadata": {
        "colab": {
          "base_uri": "https://localhost:8080/",
          "height": 314
        },
        "id": "p3Et0mpNyxqg",
        "outputId": "2fe69ad2-4eaf-49a8-8f8b-cf52309089b9"
      },
      "source": [
        "#패딩\n",
        "print('댓글의 최대 길이 :',max(len(l) for l in X_train1))\n",
        "print('댓글의 평균 길이 :',sum(map(len, X_train1))/len(X_train1))\n",
        "plt.hist([len(s) for s in X_train1], bins=50)\n",
        "plt.xlabel('length of samples')\n",
        "plt.ylabel('number of samples')\n",
        "plt.show()"
      ],
      "execution_count": null,
      "outputs": [
        {
          "output_type": "stream",
          "text": [
            "댓글의 최대 길이 : 19\n",
            "댓글의 평균 길이 : 5.471869328493648\n"
          ],
          "name": "stdout"
        },
        {
          "output_type": "display_data",
          "data": {
            "image/png": "[encoded data removed]",
            "text/plain": [
              "<Figure size 432x288 with 1 Axes>"
            ]
          },
          "metadata": {
            "tags": [],
            "needs_background": "light"
          }
        }
      ]
    },
    {
      "cell_type": "code",
      "metadata": {
        "colab": {
          "base_uri": "https://localhost:8080/"
        },
        "id": "gDUeFFCS0iBA",
        "outputId": "b804b0d4-e5aa-4fe2-89f4-24c1ecfb6938"
      },
      "source": [
        "max_len = 20\n",
        "below_threshold_len(max_len, X_train1)"
      ],
      "execution_count": null,
      "outputs": [
        {
          "output_type": "stream",
          "text": [
            "전체 샘플 중 길이가 20 이하인 샘플의 비율: 100.0\n"
          ],
          "name": "stdout"
        }
      ]
    },
    {
      "cell_type": "code",
      "metadata": {
        "id": "G5Zin1Mi0lIH"
      },
      "source": [
        "X_train1 = pad_sequences(X_train1, maxlen = max_len)\n",
        "X_test = pad_sequences(X_test, maxlen = max_len)"
      ],
      "execution_count": null,
      "outputs": []
    },
    {
      "cell_type": "code",
      "metadata": {
        "colab": {
          "base_uri": "https://localhost:8080/"
        },
        "id": "HRaBm7YU0lGK",
        "outputId": "999a2034-7627-43b5-d602-b2a4e7363457"
      },
      "source": [
        "#LSTM으로 유투브 댓글 분류하기\n",
        "from tensorflow.keras.layers import Embedding, Dense, LSTM\n",
        "from tensorflow.keras.models import Sequential\n",
        "from tensorflow.keras.models import load_model\n",
        "from tensorflow.keras.callbacks import EarlyStopping, ModelCheckpoint\n",
        "\n",
        "from tensorflow.keras.utils import to_categorical\n",
        "y_train = to_categorical(y_train, 4)\n",
        "y_test = to_categorical(y_test, 4)\n",
        "\n",
        "\n",
        "model = Sequential()\n",
        "model.add(Embedding(vocab_size, 100))\n",
        "model.add(LSTM(100, dropout=0.2, recurrent_dropout=0.2))\n",
        "model.add(Dense(4, activation='softmax'))\n",
        "model.compile(loss='categorical_crossentropy', optimizer='adam', metrics=['accuracy'])\n",
        "\n",
        "es = EarlyStopping(monitor='val_loss', mode='min', verbose=1, patience=4)\n",
        "mc = ModelCheckpoint('best_model.h5', monitor='val_acc', mode='max', verbose=1, save_best_only=True)\n",
        "\n",
        "epochs = 5\n",
        "batch_size = 64\n",
        "\n",
        "#model.compile(optimizer='adam', loss='categorical_crossentropy', metrics=['acc'])\n",
        "history = model.fit(X_train1, y_train, epochs=15, callbacks=[es, mc], batch_size=60, validation_split=0.2)"
      ],
      "execution_count": null,
      "outputs": [
        {
          "output_type": "stream",
          "text": [
            "Epoch 1/15\n",
            "8/8 [==============================] - 4s 125ms/step - loss: 1.3811 - accuracy: 0.2658 - val_loss: 1.3563 - val_accuracy: 0.2613\n",
            "WARNING:tensorflow:Can save best model only with val_acc available, skipping.\n",
            "Epoch 2/15\n",
            "8/8 [==============================] - 1s 71ms/step - loss: 1.3419 - accuracy: 0.3544 - val_loss: 1.3317 - val_accuracy: 0.3964\n",
            "WARNING:tensorflow:Can save best model only with val_acc available, skipping.\n",
            "Epoch 3/15\n",
            "8/8 [==============================] - 1s 70ms/step - loss: 1.2964 - accuracy: 0.4700 - val_loss: 1.2735 - val_accuracy: 0.4775\n",
            "WARNING:tensorflow:Can save best model only with val_acc available, skipping.\n",
            "Epoch 4/15\n",
            "8/8 [==============================] - 1s 69ms/step - loss: 1.2149 - accuracy: 0.6636 - val_loss: 1.1956 - val_accuracy: 0.5225\n",
            "WARNING:tensorflow:Can save best model only with val_acc available, skipping.\n",
            "Epoch 5/15\n",
            "8/8 [==============================] - 1s 70ms/step - loss: 1.0772 - accuracy: 0.7329 - val_loss: 1.0283 - val_accuracy: 0.5495\n",
            "WARNING:tensorflow:Can save best model only with val_acc available, skipping.\n",
            "Epoch 6/15\n",
            "8/8 [==============================] - 1s 70ms/step - loss: 0.8271 - accuracy: 0.7847 - val_loss: 0.8540 - val_accuracy: 0.7117\n",
            "WARNING:tensorflow:Can save best model only with val_acc available, skipping.\n",
            "Epoch 7/15\n",
            "8/8 [==============================] - 1s 69ms/step - loss: 0.5933 - accuracy: 0.8878 - val_loss: 0.7297 - val_accuracy: 0.6847\n",
            "WARNING:tensorflow:Can save best model only with val_acc available, skipping.\n",
            "Epoch 8/15\n",
            "8/8 [==============================] - 1s 67ms/step - loss: 0.4222 - accuracy: 0.9265 - val_loss: 0.7943 - val_accuracy: 0.6396\n",
            "WARNING:tensorflow:Can save best model only with val_acc available, skipping.\n",
            "Epoch 9/15\n",
            "8/8 [==============================] - 1s 72ms/step - loss: 0.3253 - accuracy: 0.9078 - val_loss: 0.6509 - val_accuracy: 0.7297\n",
            "WARNING:tensorflow:Can save best model only with val_acc available, skipping.\n",
            "Epoch 10/15\n",
            "8/8 [==============================] - 1s 69ms/step - loss: 0.2480 - accuracy: 0.9486 - val_loss: 0.5273 - val_accuracy: 0.8108\n",
            "WARNING:tensorflow:Can save best model only with val_acc available, skipping.\n",
            "Epoch 11/15\n",
            "8/8 [==============================] - 1s 70ms/step - loss: 0.1666 - accuracy: 0.9552 - val_loss: 0.5887 - val_accuracy: 0.7928\n",
            "WARNING:tensorflow:Can save best model only with val_acc available, skipping.\n",
            "Epoch 12/15\n",
            "8/8 [==============================] - 1s 71ms/step - loss: 0.1133 - accuracy: 0.9774 - val_loss: 0.5008 - val_accuracy: 0.8108\n",
            "WARNING:tensorflow:Can save best model only with val_acc available, skipping.\n",
            "Epoch 13/15\n",
            "8/8 [==============================] - 1s 70ms/step - loss: 0.1089 - accuracy: 0.9783 - val_loss: 0.5421 - val_accuracy: 0.8288\n",
            "WARNING:tensorflow:Can save best model only with val_acc available, skipping.\n",
            "Epoch 14/15\n",
            "8/8 [==============================] - 1s 71ms/step - loss: 0.0709 - accuracy: 0.9874 - val_loss: 0.4650 - val_accuracy: 0.8468\n",
            "WARNING:tensorflow:Can save best model only with val_acc available, skipping.\n",
            "Epoch 15/15\n",
            "8/8 [==============================] - 1s 70ms/step - loss: 0.0583 - accuracy: 0.9911 - val_loss: 0.6033 - val_accuracy: 0.7658\n",
            "WARNING:tensorflow:Can save best model only with val_acc available, skipping.\n"
          ],
          "name": "stdout"
        }
      ]
    },
    {
      "cell_type": "code",
      "metadata": {
        "colab": {
          "base_uri": "https://localhost:8080/"
        },
        "id": "-JMkot5-0lEB",
        "outputId": "4eb96754-dbea-4718-ee9f-602b504a8bcf"
      },
      "source": [
        "y_pred = model.predict(X_test)\n",
        "\n",
        "y_pred_ = []\n",
        "for i in range(len(y_pred)):\n",
        "  arg = np.argmax(y_pred[i])\n",
        "  y_pred_.append(arg)\n",
        "\n",
        "\n",
        "y_train_ = []\n",
        "for i in range(len(y_train)):\n",
        "  arg = np.argmax(y_train[i])\n",
        "  y_train_.append(arg)\n",
        "\n",
        "\n",
        "y_test_ = []\n",
        "for i in range(len(y_test)):\n",
        "  arg = np.argmax(y_test[i])\n",
        "  y_test_.append(arg)\n",
        "\n",
        "print(classification_report(y_pred_,y_test_))"
      ],
      "execution_count": null,
      "outputs": [
        {
          "output_type": "stream",
          "text": [
            "              precision    recall  f1-score   support\n",
            "\n",
            "           0       1.00      0.61      0.76        44\n",
            "           1       0.74      0.95      0.83        41\n",
            "           2       0.65      1.00      0.79        24\n",
            "           3       0.87      0.65      0.74        31\n",
            "\n",
            "    accuracy                           0.79       140\n",
            "   macro avg       0.81      0.80      0.78       140\n",
            "weighted avg       0.83      0.79      0.78       140\n",
            "\n"
          ],
          "name": "stdout"
        }
      ]
    },
    {
      "cell_type": "code",
      "metadata": {
        "colab": {
          "base_uri": "https://localhost:8080/"
        },
        "id": "uzZd9hAYha_E",
        "outputId": "596356b2-2e0b-4e90-9521-bbeaeb787bd8"
      },
      "source": [
        "X_train"
      ],
      "execution_count": null,
      "outputs": [
        {
          "output_type": "execute_result",
          "data": {
            "text/plain": [
              "array([[   0,    0,    0, ...,  202,  856, 1691],\n",
              "       [   0,    0,    0, ..., 2099, 2100,   10],\n",
              "       [   0,    0,    0, ...,  861,  237,  663],\n",
              "       ...,\n",
              "       [   0,    0,    0, ...,    4, 2273,  341],\n",
              "       [   0,    0,    0, ...,  251,  577,  432],\n",
              "       [   0,    0,    0, ...,   51, 2729,  935]], dtype=int32)"
            ]
          },
          "metadata": {
            "tags": []
          },
          "execution_count": 93
        }
      ]
    },
    {
      "cell_type": "code",
      "metadata": {
        "colab": {
          "base_uri": "https://localhost:8080/"
        },
        "id": "bvsjR0iuhcVd",
        "outputId": "3ffdcfb8-6889-47e5-81b4-f23515e85c10"
      },
      "source": [
        "X_train1"
      ],
      "execution_count": null,
      "outputs": [
        {
          "output_type": "execute_result",
          "data": {
            "text/plain": [
              "array([[  0,   0,   0, ...,   1, 323,   1],\n",
              "       [  0,   0,   0, ..., 324,  21, 136],\n",
              "       [  0,   0,   0, ...,  15,  33,   5],\n",
              "       ...,\n",
              "       [  0,   0,   0, ..., 143, 469,  93],\n",
              "       [  0,   0,   0, ...,   2, 215,  36],\n",
              "       [  0,   0,   0, ...,  21, 206,  45]], dtype=int32)"
            ]
          },
          "metadata": {
            "tags": []
          },
          "execution_count": 108
        }
      ]
    },
    {
      "cell_type": "markdown",
      "metadata": {
        "id": "nQHYjOvF7o_f"
      },
      "source": [
        "#3.  정확가 높지 않아서 제목을 변수로 추가"
      ]
    },
    {
      "cell_type": "code",
      "metadata": {
        "id": "yC99ImlV1NkG"
      },
      "source": [
        "dataset = pd.read_csv('result_먹방추가.csv',encoding='cp949')"
      ],
      "execution_count": null,
      "outputs": []
    },
    {
      "cell_type": "code",
      "metadata": {
        "id": "XRta6WtZ7n_t"
      },
      "source": [
        "X1 = dataset[['title','comment_text']]\n",
        "y1 = dataset['label']"
      ],
      "execution_count": null,
      "outputs": []
    },
    {
      "cell_type": "code",
      "metadata": {
        "colab": {
          "base_uri": "https://localhost:8080/",
          "height": 536
        },
        "id": "ACNVMl-M_P36",
        "outputId": "93463efe-14eb-47ea-a475-549a48976932"
      },
      "source": [
        "X1"
      ],
      "execution_count": null,
      "outputs": [
        {
          "output_type": "execute_result",
          "data": {
            "text/html": [
              "<div>\n",
              "<style scoped>\n",
              "    .dataframe tbody tr th:only-of-type {\n",
              "        vertical-align: middle;\n",
              "    }\n",
              "\n",
              "    .dataframe tbody tr th {\n",
              "        vertical-align: top;\n",
              "    }\n",
              "\n",
              "    .dataframe thead th {\n",
              "        text-align: right;\n",
              "    }\n",
              "</style>\n",
              "<table border=\"1\" class=\"dataframe\">\n",
              "  <thead>\n",
              "    <tr style=\"text-align: right;\">\n",
              "      <th></th>\n",
              "      <th>title</th>\n",
              "      <th>comment_text</th>\n",
              "    </tr>\n",
              "  </thead>\n",
              "  <tbody>\n",
              "    <tr>\n",
              "      <th>0</th>\n",
              "      <td>웜 청초 메이크업 Warm Transparent Makeup</td>\n",
              "      <td>유료 광고 없는게 거의 없네 뒷광고 전에 이분이 설명하시는거 좋아보여서 많이 따라...</td>\n",
              "    </tr>\n",
              "    <tr>\n",
              "      <th>1</th>\n",
              "      <td>문수진X포니 저 달(the moon) 라이브 클립 메이크업 MOON SUJIN X ...</td>\n",
              "      <td>닮았다 자매인줄 포니화가 잘된듯</td>\n",
              "    </tr>\n",
              "    <tr>\n",
              "      <th>2</th>\n",
              "      <td>Matte Caramel Makeup 매트 캬라멜 메이크업</td>\n",
              "      <td>광고 없는 찐템들도 보고싶어요 요즘 옛날 영상들 돌려보고 있는데 그때 언니가 쓰던...</td>\n",
              "    </tr>\n",
              "    <tr>\n",
              "      <th>3</th>\n",
              "      <td>싱그러운 오후 메이크업Golden Hour Glow Makeup</td>\n",
              "      <td>포니님 역시 프로시다 노랑볼터치 망한거같았는데 프로의 손길로 더 예쁘게 바르심...</td>\n",
              "    </tr>\n",
              "    <tr>\n",
              "      <th>4</th>\n",
              "      <td>방구석 셀피 메이크업 Chilling at Home Selfie Makeup</td>\n",
              "      <td>나만 광고 들어올때만 영상찍는 느낌이냐 옛날의 집구석 겟레디가 그립다   진짜 광고...</td>\n",
              "    </tr>\n",
              "    <tr>\n",
              "      <th>...</th>\n",
              "      <td>...</td>\n",
              "      <td>...</td>\n",
              "    </tr>\n",
              "    <tr>\n",
              "      <th>695</th>\n",
              "      <td>SUB) [도전먹방] 제한시간 40분 일반인분들은 아직까지 성공한 사람이 없다는 그...</td>\n",
              "      <td>저렇게 해서 만원이면 그냥도 괜찮은 구성인거 같아여 아 성공은 당연할거라구 생각했음...</td>\n",
              "    </tr>\n",
              "    <tr>\n",
              "      <th>696</th>\n",
              "      <td>[도전먹방] 일반위는 절대 따라 하지 마시오 라최몇 시즌 2 Challenge Mu...</td>\n",
              "      <td>이 아이가 배가 부르다는 느낌을 알까요 이정도면 설날에 할머니가 그만먹으라 할정도네...</td>\n",
              "    </tr>\n",
              "    <tr>\n",
              "      <th>697</th>\n",
              "      <td>한국 먹방 랭킹 1위 컨버터피자 내 기록이 깨졌다고 10분컷 간다  (with봉준x...</td>\n",
              "      <td>이분은 잘먹는분이 아닙니다 잘먹고 못먹고를 논할 급이 아님 기인이나 초능력자로 분류...</td>\n",
              "    </tr>\n",
              "    <tr>\n",
              "      <th>698</th>\n",
              "      <td>[도전먹방]일반인이 도전장을 내밀었다 일반인VS히밥 제한시간15분 잔치국수 5인분 ...</td>\n",
              "      <td>그러니까 이게 점심으로 햄버거 개 드시고 저녁밥으로 드신게 맞죠 유튭 시청자들은 모...</td>\n",
              "    </tr>\n",
              "    <tr>\n",
              "      <th>699</th>\n",
              "      <td>요청문의 폭주 대식가가 맥도날드 가서 배부르게 먹으면 과연 얼마나 나올까 McDon...</td>\n",
              "      <td>안녕하세요 미국가수 제이슨 레이입니다 감스트님을 통해서 님을 알 수 있었습니다 햄버...</td>\n",
              "    </tr>\n",
              "  </tbody>\n",
              "</table>\n",
              "<p>700 rows × 2 columns</p>\n",
              "</div>"
            ],
            "text/plain": [
              "                                                 title                                       comment_text\n",
              "0                    웜 청초 메이크업 Warm Transparent Makeup   유료 광고 없는게 거의 없네 뒷광고 전에 이분이 설명하시는거 좋아보여서 많이 따라...\n",
              "1    문수진X포니 저 달(the moon) 라이브 클립 메이크업 MOON SUJIN X ...                                 닮았다 자매인줄 포니화가 잘된듯 \n",
              "2                     Matte Caramel Makeup 매트 캬라멜 메이크업   광고 없는 찐템들도 보고싶어요 요즘 옛날 영상들 돌려보고 있는데 그때 언니가 쓰던...\n",
              "3                  싱그러운 오후 메이크업Golden Hour Glow Makeup     포니님 역시 프로시다 노랑볼터치 망한거같았는데 프로의 손길로 더 예쁘게 바르심...\n",
              "4           방구석 셀피 메이크업 Chilling at Home Selfie Makeup  나만 광고 들어올때만 영상찍는 느낌이냐 옛날의 집구석 겟레디가 그립다   진짜 광고...\n",
              "..                                                 ...                                                ...\n",
              "695  SUB) [도전먹방] 제한시간 40분 일반인분들은 아직까지 성공한 사람이 없다는 그...  저렇게 해서 만원이면 그냥도 괜찮은 구성인거 같아여 아 성공은 당연할거라구 생각했음...\n",
              "696  [도전먹방] 일반위는 절대 따라 하지 마시오 라최몇 시즌 2 Challenge Mu...  이 아이가 배가 부르다는 느낌을 알까요 이정도면 설날에 할머니가 그만먹으라 할정도네...\n",
              "697  한국 먹방 랭킹 1위 컨버터피자 내 기록이 깨졌다고 10분컷 간다  (with봉준x...  이분은 잘먹는분이 아닙니다 잘먹고 못먹고를 논할 급이 아님 기인이나 초능력자로 분류...\n",
              "698  [도전먹방]일반인이 도전장을 내밀었다 일반인VS히밥 제한시간15분 잔치국수 5인분 ...  그러니까 이게 점심으로 햄버거 개 드시고 저녁밥으로 드신게 맞죠 유튭 시청자들은 모...\n",
              "699  요청문의 폭주 대식가가 맥도날드 가서 배부르게 먹으면 과연 얼마나 나올까 McDon...  안녕하세요 미국가수 제이슨 레이입니다 감스트님을 통해서 님을 알 수 있었습니다 햄버...\n",
              "\n",
              "[700 rows x 2 columns]"
            ]
          },
          "metadata": {
            "tags": []
          },
          "execution_count": 76
        }
      ]
    },
    {
      "cell_type": "code",
      "metadata": {
        "id": "sZm8SQEU9k6R"
      },
      "source": [
        "from sklearn.model_selection import train_test_split\n",
        "\n",
        "# train_test_split\n",
        "train_data , test_data = train_test_split(dataset, test_size=0.2, random_state=42)"
      ],
      "execution_count": null,
      "outputs": []
    },
    {
      "cell_type": "code",
      "metadata": {
        "colab": {
          "base_uri": "https://localhost:8080/"
        },
        "id": "dxE98DgF_rWB",
        "outputId": "9d93d3f7-bf8a-438d-915a-00ebf420d546"
      },
      "source": [
        "train_data['tokenized'] = train_data['title'] + train_data['comment_text']"
      ],
      "execution_count": null,
      "outputs": [
        {
          "output_type": "stream",
          "text": [
            "/usr/local/lib/python3.7/dist-packages/ipykernel_launcher.py:1: SettingWithCopyWarning: \n",
            "A value is trying to be set on a copy of a slice from a DataFrame.\n",
            "Try using .loc[row_indexer,col_indexer] = value instead\n",
            "\n",
            "See the caveats in the documentation: https://pandas.pydata.org/pandas-docs/stable/user_guide/indexing.html#returning-a-view-versus-a-copy\n",
            "  \"\"\"Entry point for launching an IPython kernel.\n"
          ],
          "name": "stderr"
        }
      ]
    },
    {
      "cell_type": "code",
      "metadata": {
        "id": "Xsi-oUff1oBO",
        "colab": {
          "base_uri": "https://localhost:8080/"
        },
        "outputId": "e9922719-cdea-4215-c1f1-77dcc1e11e60"
      },
      "source": [
        "test_data['tokenized'] = test_data['title'] + test_data['comment_text']"
      ],
      "execution_count": null,
      "outputs": [
        {
          "output_type": "stream",
          "text": [
            "/usr/local/lib/python3.7/dist-packages/ipykernel_launcher.py:1: SettingWithCopyWarning: \n",
            "A value is trying to be set on a copy of a slice from a DataFrame.\n",
            "Try using .loc[row_indexer,col_indexer] = value instead\n",
            "\n",
            "See the caveats in the documentation: https://pandas.pydata.org/pandas-docs/stable/user_guide/indexing.html#returning-a-view-versus-a-copy\n",
            "  \"\"\"Entry point for launching an IPython kernel.\n"
          ],
          "name": "stderr"
        }
      ]
    },
    {
      "cell_type": "code",
      "metadata": {
        "colab": {
          "base_uri": "https://localhost:8080/"
        },
        "id": "G20rKpBT1T5J",
        "outputId": "4943a2b5-e337-4370-e36c-f76ec0e0b058"
      },
      "source": [
        "train_data.drop_duplicates(subset = ['tokenized'], inplace=True) # document 열에서 중복인 내용이 있다면 중복 제거\n",
        "train_data['tokenized'] = train_data['tokenized'].str.replace(\"[^ㄱ-ㅎㅏ-ㅣ가-힣 ]\",\"\") # 정규 표현식 수행\n",
        "train_data['tokenized'] = train_data['tokenized'].str.replace('^ +', \"\") # 공백은 empty 값으로 변경\n",
        "train_data['tokenized'].replace('', np.nan, inplace=True) # 공백은 Null 값으로 변경\n",
        "train_data = train_data.dropna(how='any') # Null 값 제거\n",
        "print('전처리 후 테스트용 샘플의 개수 :',len(train_data))\n",
        "\n",
        "test_data.drop_duplicates(subset = ['tokenized'], inplace=True) # document 열에서 중복인 내용이 있다면 중복 제거\n",
        "test_data['tokenized'] = test_data['tokenized'].str.replace(\"[^ㄱ-ㅎㅏ-ㅣ가-힣 ]\",\"\") # 정규 표현식 수행\n",
        "test_data['tokenized'] = test_data['tokenized'].str.replace('^ +', \"\") # 공백은 empty 값으로 변경\n",
        "test_data['tokenized'].replace('', np.nan, inplace=True) # 공백은 Null 값으로 변경\n",
        "test_data = test_data.dropna(how='any') # Null 값 제거\n",
        "print('전처리 후 테스트용 샘플의 개수 :',len(test_data))"
      ],
      "execution_count": null,
      "outputs": [
        {
          "output_type": "stream",
          "text": [
            "전처리 후 테스트용 샘플의 개수 : 560\n",
            "전처리 후 테스트용 샘플의 개수 : 140\n"
          ],
          "name": "stdout"
        },
        {
          "output_type": "stream",
          "text": [
            "/usr/local/lib/python3.7/dist-packages/ipykernel_launcher.py:1: SettingWithCopyWarning: \n",
            "A value is trying to be set on a copy of a slice from a DataFrame\n",
            "\n",
            "See the caveats in the documentation: https://pandas.pydata.org/pandas-docs/stable/user_guide/indexing.html#returning-a-view-versus-a-copy\n",
            "  \"\"\"Entry point for launching an IPython kernel.\n",
            "/usr/local/lib/python3.7/dist-packages/ipykernel_launcher.py:2: SettingWithCopyWarning: \n",
            "A value is trying to be set on a copy of a slice from a DataFrame.\n",
            "Try using .loc[row_indexer,col_indexer] = value instead\n",
            "\n",
            "See the caveats in the documentation: https://pandas.pydata.org/pandas-docs/stable/user_guide/indexing.html#returning-a-view-versus-a-copy\n",
            "  \n",
            "/usr/local/lib/python3.7/dist-packages/ipykernel_launcher.py:3: SettingWithCopyWarning: \n",
            "A value is trying to be set on a copy of a slice from a DataFrame.\n",
            "Try using .loc[row_indexer,col_indexer] = value instead\n",
            "\n",
            "See the caveats in the documentation: https://pandas.pydata.org/pandas-docs/stable/user_guide/indexing.html#returning-a-view-versus-a-copy\n",
            "  This is separate from the ipykernel package so we can avoid doing imports until\n",
            "/usr/local/lib/python3.7/dist-packages/pandas/core/series.py:4582: SettingWithCopyWarning: \n",
            "A value is trying to be set on a copy of a slice from a DataFrame\n",
            "\n",
            "See the caveats in the documentation: https://pandas.pydata.org/pandas-docs/stable/user_guide/indexing.html#returning-a-view-versus-a-copy\n",
            "  method=method,\n",
            "/usr/local/lib/python3.7/dist-packages/ipykernel_launcher.py:8: SettingWithCopyWarning: \n",
            "A value is trying to be set on a copy of a slice from a DataFrame\n",
            "\n",
            "See the caveats in the documentation: https://pandas.pydata.org/pandas-docs/stable/user_guide/indexing.html#returning-a-view-versus-a-copy\n",
            "  \n",
            "/usr/local/lib/python3.7/dist-packages/ipykernel_launcher.py:9: SettingWithCopyWarning: \n",
            "A value is trying to be set on a copy of a slice from a DataFrame.\n",
            "Try using .loc[row_indexer,col_indexer] = value instead\n",
            "\n",
            "See the caveats in the documentation: https://pandas.pydata.org/pandas-docs/stable/user_guide/indexing.html#returning-a-view-versus-a-copy\n",
            "  if __name__ == '__main__':\n",
            "/usr/local/lib/python3.7/dist-packages/ipykernel_launcher.py:10: SettingWithCopyWarning: \n",
            "A value is trying to be set on a copy of a slice from a DataFrame.\n",
            "Try using .loc[row_indexer,col_indexer] = value instead\n",
            "\n",
            "See the caveats in the documentation: https://pandas.pydata.org/pandas-docs/stable/user_guide/indexing.html#returning-a-view-versus-a-copy\n",
            "  # Remove the CWD from sys.path while we load stuff.\n",
            "/usr/local/lib/python3.7/dist-packages/pandas/core/series.py:4582: SettingWithCopyWarning: \n",
            "A value is trying to be set on a copy of a slice from a DataFrame\n",
            "\n",
            "See the caveats in the documentation: https://pandas.pydata.org/pandas-docs/stable/user_guide/indexing.html#returning-a-view-versus-a-copy\n",
            "  method=method,\n"
          ],
          "name": "stderr"
        }
      ]
    },
    {
      "cell_type": "code",
      "metadata": {
        "id": "gFlHckFx9krc"
      },
      "source": [
        "train_data['tokenized'] = train_data['tokenized'].apply(okt.morphs)\n",
        "train_data['tokenized'] = train_data['tokenized'].apply(lambda x: [item for item in x if item not in stopwords])"
      ],
      "execution_count": null,
      "outputs": []
    },
    {
      "cell_type": "code",
      "metadata": {
        "id": "E4uB_y5Z9kme"
      },
      "source": [
        "beauty = np.hstack(train_data[train_data.label == 0]['tokenized'].values)\n",
        "game = np.hstack(train_data[train_data.label == 1]['tokenized'].values)\n",
        "sport = np.hstack(train_data[train_data.label == 2]['tokenized'].values)\n",
        "etc = np.hstack(train_data[train_data.label == 3]['tokenized'].values)"
      ],
      "execution_count": null,
      "outputs": []
    },
    {
      "cell_type": "code",
      "metadata": {
        "colab": {
          "base_uri": "https://localhost:8080/"
        },
        "id": "a24Fcsc19kkU",
        "outputId": "b1774714-9f1f-453d-ad30-4dfc7cc81045"
      },
      "source": [
        "beauty_word_count = Counter(beauty)\n",
        "print(beauty_word_count.most_common(20))"
      ],
      "execution_count": null,
      "outputs": [
        {
          "output_type": "stream",
          "text": [
            "[('진짜', 153), ('메이크업', 151), ('언니', 133), ('영상', 130), ('완료', 113), ('너무', 101), ('화장', 67), ('얼굴', 59), ('피부', 56), ('사람', 55), ('많이', 52), ('정말', 41), ('보고', 40), ('말', 38), ('할', 37), ('적', 36), ('광고', 36), ('같아요', 35), ('뷰티', 34), ('추천', 33)]\n"
          ],
          "name": "stdout"
        }
      ]
    },
    {
      "cell_type": "code",
      "metadata": {
        "colab": {
          "base_uri": "https://localhost:8080/"
        },
        "id": "SuXIpSoN9kXI",
        "outputId": "44676ea4-c7dc-4806-ea0f-7959ba8f1dd9"
      },
      "source": [
        "game_word_count = Counter(game)\n",
        "print(game_word_count.most_common(20))"
      ],
      "execution_count": null,
      "outputs": [
        {
          "output_type": "stream",
          "text": [
            "[('진짜', 71), ('게임', 58), ('영상', 52), ('사람', 42), ('너무', 39), ('형', 33), ('핵', 32), ('말', 30), ('레전드', 28), ('명', 27), ('적', 26), ('방송', 25), ('왜', 24), ('생각', 24), ('장인', 23), ('할', 22), ('욕', 22), ('악어', 21), ('보고', 21), ('야', 20)]\n"
          ],
          "name": "stdout"
        }
      ]
    },
    {
      "cell_type": "code",
      "metadata": {
        "colab": {
          "base_uri": "https://localhost:8080/"
        },
        "id": "-LZvDbDnAQyl",
        "outputId": "e2bb03a1-d61d-4568-b883-854214df1d77"
      },
      "source": [
        "sport_word_count = Counter(sport)\n",
        "print(sport_word_count.most_common(20))"
      ],
      "execution_count": null,
      "outputs": [
        {
          "output_type": "stream",
          "text": [
            "[('운동', 273), ('일차', 208), ('진짜', 145), ('영상', 138), ('너무', 109), ('일', 71), ('할', 66), ('오늘', 63), ('많이', 63), ('자세', 59), ('스트레칭', 55), ('정말', 54), ('사람', 54), ('몸', 54), ('적', 52), ('감사합니다', 51), ('요가', 50), ('월', 48), ('어깨', 46), ('선수', 44)]\n"
          ],
          "name": "stdout"
        }
      ]
    },
    {
      "cell_type": "code",
      "metadata": {
        "colab": {
          "base_uri": "https://localhost:8080/"
        },
        "id": "tS2nJKFGAQvk",
        "outputId": "5af9ff55-b9c4-4dcb-db6a-face17419e1b"
      },
      "source": [
        "etc_word_count = Counter(etc)\n",
        "print(etc_word_count.most_common(20))"
      ],
      "execution_count": null,
      "outputs": [
        {
          "output_type": "stream",
          "text": [
            "[('먹방', 135), ('너무', 101), ('진짜', 92), ('치즈', 71), ('사람', 70), ('밥', 64), ('야식', 57), ('많이', 53), ('영상', 53), ('랑', 44), ('사장', 41), ('히', 39), ('구독', 36), ('할머니', 35), ('좋아요', 35), ('오늘', 35), ('라면', 34), ('먹는', 34), ('돈', 34), ('말', 33)]\n"
          ],
          "name": "stdout"
        }
      ]
    },
    {
      "cell_type": "code",
      "metadata": {
        "id": "r00x5MXwkSOG"
      },
      "source": [
        ""
      ],
      "execution_count": null,
      "outputs": []
    },
    {
      "cell_type": "code",
      "metadata": {
        "colab": {
          "base_uri": "https://localhost:8080/"
        },
        "id": "bf-BFwmQkMrw",
        "outputId": "0ff5753d-3fb8-418f-e525-57fc28c467c4"
      },
      "source": [
        "train_data['tokenized']"
      ],
      "execution_count": null,
      "outputs": [
        {
          "output_type": "execute_result",
          "data": {
            "text/plain": [
              "82         [요청, 폭주, 악녀, 되고, 싶은, 메이크업, 버건디, 겨울, 쿨톤, 메이크업]\n",
              "51     [헬창, 오픈카, 안타, 되는, 이유, 어디, 내놔도, 부끄러운, 우리, 형, 쫌,...\n",
              "220                     [말린, 장미, 맛, 립스틱, 틴트, 추천, 바르는, 법]\n",
              "669    [입맛, 없어서, 과일, 먹방, 편, 방송, 편집, 버전, 햇님, 입맛, 없다, 입...\n",
              "545    [유미, 원, 챔, 마스터, 티어, 달성, 딜량, 등, 만년, 서리, 템, 트리, ...\n",
              "                             ...                        \n",
              "71     [파밍, 귀찮은, 고인, 물의, 치킨, 먹기, 배틀, 라운드, 인물, 근황, 이제,...\n",
              "106    [이천수, 평가, 이승우, 이강인, 냉정함, 주의, 채널, 장점, 홍명보, 황선홍,...\n",
              "270    [세상, 제일, 맛있는, 젤리, 영, 양제, 보증, 리뷰, 미국, 과자, 화장품, ...\n",
              "435    [팅구들, 양양, 피, 비치, 박일, 브이, 로그, 먹방, 나이트, 케어, 루틴, ...\n",
              "102    [시대, 잘못, 타고난, 김병지, 킥, 실력, 현재, 프로, 에도, 되는, 골키퍼,...\n",
              "Name: tokenized, Length: 560, dtype: object"
            ]
          },
          "metadata": {
            "tags": []
          },
          "execution_count": 91
        }
      ]
    },
    {
      "cell_type": "code",
      "metadata": {
        "colab": {
          "base_uri": "https://localhost:8080/",
          "height": 267
        },
        "id": "5wqNpsW56ovc",
        "outputId": "a1a44167-55ec-4b62-830f-c2a7a2a2995a"
      },
      "source": [
        "pip install jpype1==0.7.0"
      ],
      "execution_count": null,
      "outputs": [
        {
          "output_type": "stream",
          "text": [
            "Collecting jpype1==0.7.0\n",
            "\u001b[?25l  Downloading https://files.pythonhosted.org/packages/2a/7c/1ce9a8271e7382e21c6e649f9a29095924af1c43d6901acb9762cedbd7d3/JPype1-0.7.0-cp37-cp37m-manylinux2010_x86_64.whl (2.8MB)\n",
            "\u001b[K     |████████████████████████████████| 2.8MB 5.1MB/s \n",
            "\u001b[?25hInstalling collected packages: jpype1\n",
            "  Found existing installation: JPype1 1.2.1\n",
            "    Uninstalling JPype1-1.2.1:\n",
            "      Successfully uninstalled JPype1-1.2.1\n",
            "Successfully installed jpype1-0.7.0\n"
          ],
          "name": "stdout"
        },
        {
          "output_type": "display_data",
          "data": {
            "application/vnd.colab-display-data+json": {
              "pip_warning": {
                "packages": [
                  "_jpype",
                  "jpype"
                ]
              }
            }
          },
          "metadata": {
            "tags": []
          }
        }
      ]
    },
    {
      "cell_type": "code",
      "metadata": {
        "colab": {
          "base_uri": "https://localhost:8080/"
        },
        "id": "8D4Q7ASZ_uWg",
        "outputId": "e6300ce2-c6f1-4a3c-a069-56d033f725ae"
      },
      "source": [
        "train_data['tokenized']"
      ],
      "execution_count": null,
      "outputs": [
        {
          "output_type": "execute_result",
          "data": {
            "text/plain": [
              "82         [요청, 폭주, 악녀, 되고, 싶은, 메이크업, 버건디, 겨울, 쿨톤, 메이크업]\n",
              "51     [헬창, 오픈카, 안타, 되는, 이유, 어디, 내놔도, 부끄러운, 우리, 형, 쫌,...\n",
              "220                     [말린, 장미, 맛, 립스틱, 틴트, 추천, 바르는, 법]\n",
              "669    [입맛, 없어서, 과일, 먹방, 편, 방송, 편집, 버전, 햇님, 입맛, 없다, 입...\n",
              "545    [유미, 원, 챔, 마스터, 티어, 달성, 딜량, 등, 만년, 서리, 템, 트리, ...\n",
              "                             ...                        \n",
              "71     [파밍, 귀찮은, 고인, 물의, 치킨, 먹기, 배틀, 라운드, 인물, 근황, 이제,...\n",
              "106    [이천수, 평가, 이승우, 이강인, 냉정함, 주의, 채널, 장점, 홍명보, 황선홍,...\n",
              "270    [세상, 제일, 맛있는, 젤리, 영, 양제, 보증, 리뷰, 미국, 과자, 화장품, ...\n",
              "435    [팅구들, 양양, 피, 비치, 박일, 브이, 로그, 먹방, 나이트, 케어, 루틴, ...\n",
              "102    [시대, 잘못, 타고난, 김병지, 킥, 실력, 현재, 프로, 에도, 되는, 골키퍼,...\n",
              "Name: tokenized, Length: 560, dtype: object"
            ]
          },
          "metadata": {
            "tags": []
          },
          "execution_count": 92
        }
      ]
    },
    {
      "cell_type": "code",
      "metadata": {
        "id": "-U4HxNt3AQs_"
      },
      "source": [
        "X_train = []\n",
        "for wd in train_data['tokenized']:\n",
        "    k = ' '.join(wd)\n",
        "    temp_X = okt.morphs(k, stem=True) # 토큰화\n",
        "    temp_X = [word for word in temp_X if not word in stopwords] # 불용어 제거\n",
        "    X_train.append(temp_X)"
      ],
      "execution_count": null,
      "outputs": []
    },
    {
      "cell_type": "code",
      "metadata": {
        "id": "SHqR_hpOAQqb"
      },
      "source": [
        "X_test = []\n",
        "for sentence in test_data['tokenized']:\n",
        "    temp_X = okt.morphs(sentence, stem=True) # 토큰화\n",
        "    temp_X = [word for word in temp_X if not word in stopwords] # 불용어 제거\n",
        "    X_test.append(temp_X)"
      ],
      "execution_count": null,
      "outputs": []
    },
    {
      "cell_type": "code",
      "metadata": {
        "id": "iDdFkENVAQk7"
      },
      "source": [
        "#정수 인코딩 \n",
        "tokenizer = Tokenizer()\n",
        "tokenizer.fit_on_texts(X_train)"
      ],
      "execution_count": null,
      "outputs": []
    },
    {
      "cell_type": "code",
      "metadata": {
        "id": "jTNqTa_gAWBN"
      },
      "source": [
        "tokenizer = Tokenizer(vocab_size) \n",
        "tokenizer.fit_on_texts(X_train)\n",
        "X_train = tokenizer.texts_to_sequences(X_train)\n",
        "X_test = tokenizer.texts_to_sequences(X_test)"
      ],
      "execution_count": null,
      "outputs": []
    },
    {
      "cell_type": "code",
      "metadata": {
        "id": "9TsEt9vqAV_F"
      },
      "source": [
        "y_train = np.array(train_data['label'])\n",
        "y_test = np.array(test_data['label'])"
      ],
      "execution_count": null,
      "outputs": []
    },
    {
      "cell_type": "code",
      "metadata": {
        "id": "S8RtaHwiAV7D"
      },
      "source": [
        "drop_train = [index for index, sentence in enumerate(X_train) if len(sentence) < 1]"
      ],
      "execution_count": null,
      "outputs": []
    },
    {
      "cell_type": "code",
      "metadata": {
        "colab": {
          "base_uri": "https://localhost:8080/"
        },
        "id": "3U28cArCAV4-",
        "outputId": "1c894aa9-ea2b-49cb-e881-d1c8b792ccdb"
      },
      "source": [
        "X_train = np.delete(X_train, drop_train, axis=0)\n",
        "y_train = np.delete(y_train, drop_train, axis=0)\n",
        "print(len(X_train))\n",
        "print(len(y_train))"
      ],
      "execution_count": null,
      "outputs": [
        {
          "output_type": "stream",
          "text": [
            "560\n",
            "560\n"
          ],
          "name": "stdout"
        }
      ]
    },
    {
      "cell_type": "code",
      "metadata": {
        "colab": {
          "base_uri": "https://localhost:8080/",
          "height": 314
        },
        "id": "rWrM54OTBMEz",
        "outputId": "7ffa505e-1602-4015-c427-7007d1a1c95d"
      },
      "source": [
        "#패딩\n",
        "print('댓글의 최대 길이 :',max(len(l) for l in X_train))\n",
        "print('댓글의 평균 길이 :',sum(map(len, X_train))/len(X_train))\n",
        "plt.hist([len(s) for s in X_train], bins=50)\n",
        "plt.xlabel('length of samples')\n",
        "plt.ylabel('number of samples')\n",
        "plt.show()"
      ],
      "execution_count": null,
      "outputs": [
        {
          "output_type": "stream",
          "text": [
            "댓글의 최대 길이 : 495\n",
            "댓글의 평균 길이 : 44.52142857142857\n"
          ],
          "name": "stdout"
        },
        {
          "output_type": "display_data",
          "data": {
            "image/png": "[encoded data removed]",
            "text/plain": [
              "<Figure size 432x288 with 1 Axes>"
            ]
          },
          "metadata": {
            "tags": [],
            "needs_background": "light"
          }
        }
      ]
    },
    {
      "cell_type": "code",
      "metadata": {
        "colab": {
          "base_uri": "https://localhost:8080/"
        },
        "id": "oiL74fEmBMDE",
        "outputId": "510a164d-cb96-4482-d1fe-cda1cf26852b"
      },
      "source": [
        "max_len = 300\n",
        "below_threshold_len(max_len, X_train)"
      ],
      "execution_count": null,
      "outputs": [
        {
          "output_type": "stream",
          "text": [
            "전체 샘플 중 길이가 300 이하인 샘플의 비율: 99.64285714285714\n"
          ],
          "name": "stdout"
        }
      ]
    },
    {
      "cell_type": "code",
      "metadata": {
        "id": "2Oi1RsSTBMBV"
      },
      "source": [
        "X_train = pad_sequences(X_train, maxlen = max_len)\n",
        "X_test = pad_sequences(X_test, maxlen = max_len)"
      ],
      "execution_count": null,
      "outputs": []
    },
    {
      "cell_type": "code",
      "metadata": {
        "id": "n10GLWkcBL_W"
      },
      "source": [
        "#LSTM으로 유투브 댓글 분류하기\n",
        "from tensorflow.keras.layers import Embedding, Dense, LSTM\n",
        "from tensorflow.keras.models import Sequential\n",
        "from tensorflow.keras.models import load_model\n",
        "from tensorflow.keras.callbacks import EarlyStopping, ModelCheckpoint"
      ],
      "execution_count": null,
      "outputs": []
    },
    {
      "cell_type": "code",
      "metadata": {
        "id": "BtIJHX7VBXJ9"
      },
      "source": [
        "from tensorflow.keras.utils import to_categorical\n",
        "y_train = to_categorical(y_train, 4)\n",
        "y_test = to_categorical(y_test, 4)"
      ],
      "execution_count": null,
      "outputs": []
    },
    {
      "cell_type": "code",
      "metadata": {
        "colab": {
          "base_uri": "https://localhost:8080/"
        },
        "id": "aYJ197keBXHc",
        "outputId": "82773716-ded4-4c16-a88e-bf45d969d000"
      },
      "source": [
        "model = Sequential()\n",
        "model.add(Embedding(vocab_size, 100))\n",
        "model.add(LSTM(100, dropout=0.2, recurrent_dropout=0.2))\n",
        "model.add(Dense(4, activation='softmax'))\n",
        "model.compile(loss='categorical_crossentropy', optimizer='adam', metrics=['accuracy'])\n",
        "\n",
        "es = EarlyStopping(monitor='val_loss', mode='min', verbose=1, patience=4)\n",
        "mc = ModelCheckpoint('best_model.h5', monitor='val_acc', mode='max', verbose=1, save_best_only=True)\n",
        "\n",
        "epochs = 5\n",
        "batch_size = 64\n",
        "\n",
        "#model.compile(optimizer='adam', loss='categorical_crossentropy', metrics=['acc'])\n",
        "history = model.fit(X_train, y_train, epochs=15, callbacks=[es, mc], batch_size=60, validation_split=0.2)\n",
        "#X_train을 두개 넣어야한다, embedding도 같이해야한다\n",
        "#title "
      ],
      "execution_count": null,
      "outputs": [
        {
          "output_type": "stream",
          "text": [
            "Epoch 1/15\n",
            "8/8 [==============================] - 10s 890ms/step - loss: 1.3831 - accuracy: 0.3054 - val_loss: 1.3729 - val_accuracy: 0.3393\n",
            "WARNING:tensorflow:Can save best model only with val_acc available, skipping.\n",
            "Epoch 2/15\n",
            "8/8 [==============================] - 7s 833ms/step - loss: 1.3555 - accuracy: 0.3880 - val_loss: 1.3343 - val_accuracy: 0.2768\n",
            "WARNING:tensorflow:Can save best model only with val_acc available, skipping.\n",
            "Epoch 3/15\n",
            "8/8 [==============================] - 7s 825ms/step - loss: 1.2949 - accuracy: 0.4297 - val_loss: 1.3013 - val_accuracy: 0.4018\n",
            "WARNING:tensorflow:Can save best model only with val_acc available, skipping.\n",
            "Epoch 4/15\n",
            "8/8 [==============================] - 7s 829ms/step - loss: 1.2590 - accuracy: 0.4976 - val_loss: 1.4780 - val_accuracy: 0.3125\n",
            "WARNING:tensorflow:Can save best model only with val_acc available, skipping.\n",
            "Epoch 5/15\n",
            "8/8 [==============================] - 7s 826ms/step - loss: 1.1991 - accuracy: 0.5079 - val_loss: 1.2330 - val_accuracy: 0.5714\n",
            "WARNING:tensorflow:Can save best model only with val_acc available, skipping.\n",
            "Epoch 6/15\n",
            "8/8 [==============================] - 7s 842ms/step - loss: 1.0847 - accuracy: 0.7555 - val_loss: 1.1407 - val_accuracy: 0.6250\n",
            "WARNING:tensorflow:Can save best model only with val_acc available, skipping.\n",
            "Epoch 7/15\n",
            "8/8 [==============================] - 7s 828ms/step - loss: 0.9116 - accuracy: 0.7708 - val_loss: 0.9807 - val_accuracy: 0.5982\n",
            "WARNING:tensorflow:Can save best model only with val_acc available, skipping.\n",
            "Epoch 8/15\n",
            "8/8 [==============================] - 7s 823ms/step - loss: 0.7455 - accuracy: 0.7610 - val_loss: 0.8474 - val_accuracy: 0.6875\n",
            "WARNING:tensorflow:Can save best model only with val_acc available, skipping.\n",
            "Epoch 9/15\n",
            "8/8 [==============================] - 7s 836ms/step - loss: 0.6422 - accuracy: 0.8020 - val_loss: 0.8010 - val_accuracy: 0.7232\n",
            "WARNING:tensorflow:Can save best model only with val_acc available, skipping.\n",
            "Epoch 10/15\n",
            "8/8 [==============================] - 7s 831ms/step - loss: 0.5050 - accuracy: 0.8963 - val_loss: 0.7534 - val_accuracy: 0.7589\n",
            "WARNING:tensorflow:Can save best model only with val_acc available, skipping.\n",
            "Epoch 11/15\n",
            "8/8 [==============================] - 7s 829ms/step - loss: 0.4316 - accuracy: 0.9119 - val_loss: 0.6965 - val_accuracy: 0.7500\n",
            "WARNING:tensorflow:Can save best model only with val_acc available, skipping.\n",
            "Epoch 12/15\n",
            "8/8 [==============================] - 7s 816ms/step - loss: 0.3412 - accuracy: 0.9163 - val_loss: 0.6359 - val_accuracy: 0.7857\n",
            "WARNING:tensorflow:Can save best model only with val_acc available, skipping.\n",
            "Epoch 13/15\n",
            "8/8 [==============================] - 7s 824ms/step - loss: 0.2402 - accuracy: 0.9461 - val_loss: 0.5924 - val_accuracy: 0.8125\n",
            "WARNING:tensorflow:Can save best model only with val_acc available, skipping.\n",
            "Epoch 14/15\n",
            "8/8 [==============================] - 7s 835ms/step - loss: 0.1349 - accuracy: 0.9737 - val_loss: 0.6220 - val_accuracy: 0.8304\n",
            "WARNING:tensorflow:Can save best model only with val_acc available, skipping.\n",
            "Epoch 15/15\n",
            "8/8 [==============================] - 7s 826ms/step - loss: 0.1220 - accuracy: 0.9688 - val_loss: 0.7268 - val_accuracy: 0.7857\n",
            "WARNING:tensorflow:Can save best model only with val_acc available, skipping.\n"
          ],
          "name": "stdout"
        }
      ]
    },
    {
      "cell_type": "code",
      "metadata": {
        "id": "GswiFWw-BXDo"
      },
      "source": [
        "y_pred = model.predict(X_test)"
      ],
      "execution_count": null,
      "outputs": []
    },
    {
      "cell_type": "code",
      "metadata": {
        "id": "GK2XDHuaBL8u"
      },
      "source": [
        "y_pred_ = []\n",
        "for i in range(len(y_pred)):\n",
        "  arg = np.argmax(y_pred[i])\n",
        "  y_pred_.append(arg)"
      ],
      "execution_count": null,
      "outputs": []
    },
    {
      "cell_type": "code",
      "metadata": {
        "id": "FXO9t1Cg7n8V"
      },
      "source": [
        "y_test_ = []\n",
        "for i in range(len(y_test)):\n",
        "  arg = np.argmax(y_test[i])\n",
        "  y_test_.append(arg)"
      ],
      "execution_count": null,
      "outputs": []
    },
    {
      "cell_type": "code",
      "metadata": {
        "colab": {
          "base_uri": "https://localhost:8080/"
        },
        "id": "Sg0NZsFZDmVX",
        "outputId": "994f2bc3-e1fd-40e6-fa7d-29150413d279"
      },
      "source": [
        ""
      ],
      "execution_count": null,
      "outputs": [
        {
          "output_type": "execute_result",
          "data": {
            "text/plain": [
              "140"
            ]
          },
          "metadata": {
            "tags": []
          },
          "execution_count": 138
        }
      ]
    },
    {
      "cell_type": "code",
      "metadata": {
        "colab": {
          "base_uri": "https://localhost:8080/"
        },
        "id": "EIAW0anY7nn9",
        "outputId": "1e688946-4773-45a0-9084-ec0d3b242dba"
      },
      "source": [
        "print(classification_report(y_pred_,y_test_))"
      ],
      "execution_count": null,
      "outputs": [
        {
          "output_type": "stream",
          "text": [
            "              precision    recall  f1-score   support\n",
            "\n",
            "           0       0.93      0.81      0.86        31\n",
            "           1       0.83      0.83      0.83        53\n",
            "           2       0.73      0.69      0.71        39\n",
            "           3       0.74      1.00      0.85        17\n",
            "\n",
            "    accuracy                           0.81       140\n",
            "   macro avg       0.81      0.83      0.81       140\n",
            "weighted avg       0.81      0.81      0.81       140\n",
            "\n"
          ],
          "name": "stdout"
        }
      ]
    },
    {
      "cell_type": "markdown",
      "metadata": {
        "id": "Pe8bdRyOhh7m"
      },
      "source": [
        "#워드벡터로 합치기"
      ]
    },
    {
      "cell_type": "code",
      "metadata": {
        "colab": {
          "base_uri": "https://localhost:8080/"
        },
        "id": "Ej2L7fZnhhGz",
        "outputId": "2bbac230-2869-4090-d0cc-4f333a35fd54"
      },
      "source": [
        "len(X_train)"
      ],
      "execution_count": null,
      "outputs": [
        {
          "output_type": "execute_result",
          "data": {
            "text/plain": [
              "560"
            ]
          },
          "metadata": {
            "tags": []
          },
          "execution_count": 132
        }
      ]
    },
    {
      "cell_type": "code",
      "metadata": {
        "colab": {
          "base_uri": "https://localhost:8080/"
        },
        "id": "2fUa-k4mh7-G",
        "outputId": "192d969c-9f21-4781-aa71-5cbd206a9aff"
      },
      "source": [
        "len(X_train1)"
      ],
      "execution_count": null,
      "outputs": [
        {
          "output_type": "execute_result",
          "data": {
            "text/plain": [
              "551"
            ]
          },
          "metadata": {
            "tags": []
          },
          "execution_count": 133
        }
      ]
    },
    {
      "cell_type": "code",
      "metadata": {
        "id": "OO3S7cXLhnK6"
      },
      "source": [
        "#LSTM으로 유투브 댓글 분류하기\n",
        "from tensorflow.keras.layers import Embedding, Dense, LSTM\n",
        "from tensorflow.keras.models import Sequential\n",
        "from tensorflow.keras.models import load_model\n",
        "from tensorflow.keras.callbacks import EarlyStopping, ModelCheckpoint"
      ],
      "execution_count": null,
      "outputs": []
    },
    {
      "cell_type": "code",
      "metadata": {
        "id": "cNV9VSKxhn2Y"
      },
      "source": [
        "from tensorflow.keras.utils import to_categorical\n",
        "y_train = to_categorical(y_train, 4)\n",
        "y_test = to_categorical(y_test, 4)"
      ],
      "execution_count": null,
      "outputs": []
    },
    {
      "cell_type": "code",
      "metadata": {
        "colab": {
          "base_uri": "https://localhost:8080/"
        },
        "id": "eYPYzg-1CFFY",
        "outputId": "24705938-bb90-4d77-eb02-a415a23b1b40"
      },
      "source": [
        "X_train"
      ],
      "execution_count": null,
      "outputs": [
        {
          "output_type": "execute_result",
          "data": {
            "text/plain": [
              "array([[  0,   0,   0, ...,  64,  17,  17],\n",
              "       [  0,   0,   0, ...,   1, 350, 210],\n",
              "       [  0,   0,   0, ..., 140,  89, 141],\n",
              "       ...,\n",
              "       [  0,   0,   0, ...,  22,   3, 365],\n",
              "       [  0,   0,   0, ..., 313, 253, 431],\n",
              "       [  0,   0,   0, ...,  62,  20,  65]], dtype=int32)"
            ]
          },
          "metadata": {
            "tags": []
          },
          "execution_count": 118
        }
      ]
    },
    {
      "cell_type": "code",
      "metadata": {
        "colab": {
          "base_uri": "https://localhost:8080/"
        },
        "id": "x9ewdxRvB8Dx",
        "outputId": "c8a4f3ff-7854-4b20-de48-3abf731dd1f6"
      },
      "source": [
        "X_train1"
      ],
      "execution_count": null,
      "outputs": [
        {
          "output_type": "execute_result",
          "data": {
            "text/plain": [
              "array([[  0,   0,   0, ...,   1, 323,   1],\n",
              "       [  0,   0,   0, ..., 324,  21, 136],\n",
              "       [  0,   0,   0, ...,  15,  33,   5],\n",
              "       ...,\n",
              "       [  0,   0,   0, ..., 143, 469,  93],\n",
              "       [  0,   0,   0, ...,   2, 215,  36],\n",
              "       [  0,   0,   0, ...,  21, 206,  45]], dtype=int32)"
            ]
          },
          "metadata": {
            "tags": []
          },
          "execution_count": 120
        }
      ]
    },
    {
      "cell_type": "code",
      "metadata": {
        "id": "wCQamWxbCA7m"
      },
      "source": [
        ""
      ],
      "execution_count": null,
      "outputs": []
    },
    {
      "cell_type": "code",
      "metadata": {
        "colab": {
          "base_uri": "https://localhost:8080/",
          "height": 239
        },
        "id": "KeB93TLmhn0a",
        "outputId": "b0fee45a-cffb-465c-cbd6-3466ddfc37ba"
      },
      "source": [
        "model = Sequential()\n",
        "model.add(Embedding(vocab_size, 100))\n",
        "model.add(LSTM(100, dropout=0.2, recurrent_dropout=0.2))\n",
        "model.add(Dense(4, activation='softmax'))\n",
        "model.compile(loss='categorical_crossentropy', optimizer='adam', metrics=['accuracy'])\n",
        "\n",
        "es = EarlyStopping(monitor='val_loss', mode='min', verbose=1, patience=4)\n",
        "mc = ModelCheckpoint('best_model.h5', monitor='val_acc', mode='max', verbose=1, save_best_only=True)\n",
        "\n",
        "epochs = 5\n",
        "batch_size = 64\n",
        "\n",
        "#model.compile(optimizer='adam', loss='categorical_crossentropy', metrics=['acc'])\n",
        "history = model.fit(X_train, X_train1, y_train, epochs=15, callbacks=[es, mc], batch_size=60, validation_split=0.2)\n",
        "\n",
        "#X_train을 두개 넣어야한다, embedding도 같이해야한다\n",
        "#title \n",
        "\n",
        "y_pred = model.predict(X_test)"
      ],
      "execution_count": null,
      "outputs": [
        {
          "output_type": "error",
          "ename": "TypeError",
          "evalue": "ignored",
          "traceback": [
            "\u001b[0;31m---------------------------------------------------------------------------\u001b[0m",
            "\u001b[0;31mTypeError\u001b[0m                                 Traceback (most recent call last)",
            "\u001b[0;32m<ipython-input-115-124e0d873452>\u001b[0m in \u001b[0;36m<module>\u001b[0;34m()\u001b[0m\n\u001b[1;32m     12\u001b[0m \u001b[0;34m\u001b[0m\u001b[0m\n\u001b[1;32m     13\u001b[0m \u001b[0;31m#model.compile(optimizer='adam', loss='categorical_crossentropy', metrics=['acc'])\u001b[0m\u001b[0;34m\u001b[0m\u001b[0;34m\u001b[0m\u001b[0;34m\u001b[0m\u001b[0m\n\u001b[0;32m---> 14\u001b[0;31m \u001b[0mhistory\u001b[0m \u001b[0;34m=\u001b[0m \u001b[0mmodel\u001b[0m\u001b[0;34m.\u001b[0m\u001b[0mfit\u001b[0m\u001b[0;34m(\u001b[0m\u001b[0mX_train\u001b[0m\u001b[0;34m,\u001b[0m \u001b[0mX_train1\u001b[0m\u001b[0;34m,\u001b[0m \u001b[0my_train\u001b[0m\u001b[0;34m,\u001b[0m \u001b[0mepochs\u001b[0m\u001b[0;34m=\u001b[0m\u001b[0;36m15\u001b[0m\u001b[0;34m,\u001b[0m \u001b[0mcallbacks\u001b[0m\u001b[0;34m=\u001b[0m\u001b[0;34m[\u001b[0m\u001b[0mes\u001b[0m\u001b[0;34m,\u001b[0m \u001b[0mmc\u001b[0m\u001b[0;34m]\u001b[0m\u001b[0;34m,\u001b[0m \u001b[0mbatch_size\u001b[0m\u001b[0;34m=\u001b[0m\u001b[0;36m60\u001b[0m\u001b[0;34m,\u001b[0m \u001b[0mvalidation_split\u001b[0m\u001b[0;34m=\u001b[0m\u001b[0;36m0.2\u001b[0m\u001b[0;34m)\u001b[0m\u001b[0;34m\u001b[0m\u001b[0;34m\u001b[0m\u001b[0m\n\u001b[0m\u001b[1;32m     15\u001b[0m \u001b[0;34m\u001b[0m\u001b[0m\n\u001b[1;32m     16\u001b[0m \u001b[0;31m#X_train을 두개 넣어야한다, embedding도 같이해야한다\u001b[0m\u001b[0;34m\u001b[0m\u001b[0;34m\u001b[0m\u001b[0;34m\u001b[0m\u001b[0m\n",
            "\u001b[0;31mTypeError\u001b[0m: fit() got multiple values for argument 'batch_size'"
          ]
        }
      ]
    },
    {
      "cell_type": "code",
      "metadata": {
        "id": "n9rn_wurhnx2"
      },
      "source": [
        "y_pred_ = []\n",
        "for i in range(len(y_pred)):\n",
        "  arg = np.argmax(y_pred[i])\n",
        "  y_pred_.append(arg)\n",
        "\n",
        "\n",
        "y_test_ = []\n",
        "for i in range(len(y_test)):\n",
        "  arg = np.argmax(y_test[i])\n",
        "  y_test_.append(arg)"
      ],
      "execution_count": null,
      "outputs": []
    },
    {
      "cell_type": "code",
      "metadata": {
        "colab": {
          "base_uri": "https://localhost:8080/"
        },
        "id": "fuavEWWThnnf",
        "outputId": "72e11f70-c659-431d-e1ad-38bbd49eaa12"
      },
      "source": [
        "print(classification_report(y_pred_,y_test_))"
      ],
      "execution_count": null,
      "outputs": [
        {
          "output_type": "stream",
          "text": [
            "              precision    recall  f1-score   support\n",
            "\n",
            "           0       0.05      0.19      0.08        31\n",
            "           1       0.04      0.02      0.03        53\n",
            "           2       0.00      0.00      0.00        39\n",
            "           3       0.00      0.00      0.00        17\n",
            "\n",
            "    accuracy                           0.05       140\n",
            "   macro avg       0.02      0.05      0.03       140\n",
            "weighted avg       0.03      0.05      0.03       140\n",
            "\n"
          ],
          "name": "stdout"
        },
        {
          "output_type": "stream",
          "text": [
            "/usr/local/lib/python3.7/dist-packages/sklearn/metrics/_classification.py:1272: UndefinedMetricWarning: Precision and F-score are ill-defined and being set to 0.0 in labels with no predicted samples. Use `zero_division` parameter to control this behavior.\n",
            "  _warn_prf(average, modifier, msg_start, len(result))\n"
          ],
          "name": "stderr"
        }
      ]
    },
    {
      "cell_type": "code",
      "metadata": {
        "id": "-Cq8Wjt9h5jT"
      },
      "source": [
        ""
      ],
      "execution_count": null,
      "outputs": []
    },
    {
      "cell_type": "markdown",
      "metadata": {
        "id": "o-Me8iOT29Ca"
      },
      "source": [
        "# 모델이 잘못 분류한 데이터 살펴보기"
      ]
    },
    {
      "cell_type": "code",
      "metadata": {
        "id": "VTY92DBU36Pc"
      },
      "source": [
        "import numpy as np\n",
        "\n",
        "a = np.array(y_pred_)\n",
        "b = np.array(y_test_)\n",
        "c = a==b\n",
        "np.where(c==False)\n",
        "test_data['tokenized'].iloc[2]\n",
        "\n",
        "\n"
      ],
      "execution_count": null,
      "outputs": []
    },
    {
      "cell_type": "code",
      "metadata": {
        "id": "KNt2WNM728YO"
      },
      "source": [
        "a = np.array(y_pred_)\n",
        "b = np.array(y_test_)"
      ],
      "execution_count": null,
      "outputs": []
    },
    {
      "cell_type": "code",
      "metadata": {
        "id": "_ZP53SQD28WR"
      },
      "source": [
        "c = a==b"
      ],
      "execution_count": null,
      "outputs": []
    },
    {
      "cell_type": "code",
      "metadata": {
        "id": "Er-oKIggHi6G",
        "colab": {
          "base_uri": "https://localhost:8080/"
        },
        "outputId": "d8d5e8af-c66c-41de-a079-c1ab139f480f"
      },
      "source": [
        "np.where(c==False)"
      ],
      "execution_count": null,
      "outputs": [
        {
          "output_type": "execute_result",
          "data": {
            "text/plain": [
              "(array([  0,   1,   3,   4,   6,   7,   8,   9,  10,  11,  12,  13,  14,\n",
              "         15,  16,  18,  21,  22,  23,  24,  25,  26,  27,  28,  29,  30,\n",
              "         31,  32,  33,  34,  35,  36,  37,  38,  39,  40,  41,  42,  43,\n",
              "         44,  45,  46,  48,  49,  50,  51,  52,  53,  54,  55,  56,  58,\n",
              "         59,  60,  61,  62,  63,  64,  65,  66,  67,  68,  70,  71,  73,\n",
              "         75,  76,  77,  78,  79,  80,  81,  82,  83,  84,  85,  87,  88,\n",
              "         89,  90,  91,  92,  93,  94,  95,  96,  97,  98,  99, 100, 101,\n",
              "        103, 105, 106, 107, 109, 110, 112, 114, 116, 117, 118, 119, 120,\n",
              "        121, 122, 123, 124, 125, 126, 127, 128, 129, 130, 131]),)"
            ]
          },
          "metadata": {
            "tags": []
          },
          "execution_count": 144
        }
      ]
    },
    {
      "cell_type": "code",
      "metadata": {
        "colab": {
          "base_uri": "https://localhost:8080/",
          "height": 585
        },
        "id": "2jBTN7sg5P1u",
        "outputId": "80749ff7-06be-4fed-9452-0fe22d8b295a"
      },
      "source": [
        "test_data['tokenized'].iloc[2]# 케이스 스터디를 할 때 이런 케이스가 좋은 케이스, 좋은 제안을 줘야한다. \n",
        "# 모델을 발전할 수 있는 방향을 전달해줘야한다\n",
        "#이런 결과가 나왔는데 이런 결과는 이렇게 되었고 \n",
        "# 이런 케이스를 안만들려면 데이터 수를 늘리거나, \"피온\" 이런 고유 명사를 제거하고 하거나, 고유 명사에대한 사전을 만들어서 진행"
      ],
      "execution_count": null,
      "outputs": [
        {
          "output_type": "error",
          "ename": "KeyError",
          "evalue": "ignored",
          "traceback": [
            "\u001b[0;31m---------------------------------------------------------------------------\u001b[0m",
            "\u001b[0;31mKeyError\u001b[0m                                  Traceback (most recent call last)",
            "\u001b[0;32m/usr/local/lib/python3.7/dist-packages/pandas/core/indexes/base.py\u001b[0m in \u001b[0;36mget_loc\u001b[0;34m(self, key, method, tolerance)\u001b[0m\n\u001b[1;32m   2897\u001b[0m             \u001b[0;32mtry\u001b[0m\u001b[0;34m:\u001b[0m\u001b[0;34m\u001b[0m\u001b[0;34m\u001b[0m\u001b[0m\n\u001b[0;32m-> 2898\u001b[0;31m                 \u001b[0;32mreturn\u001b[0m \u001b[0mself\u001b[0m\u001b[0;34m.\u001b[0m\u001b[0m_engine\u001b[0m\u001b[0;34m.\u001b[0m\u001b[0mget_loc\u001b[0m\u001b[0;34m(\u001b[0m\u001b[0mcasted_key\u001b[0m\u001b[0;34m)\u001b[0m\u001b[0;34m\u001b[0m\u001b[0;34m\u001b[0m\u001b[0m\n\u001b[0m\u001b[1;32m   2899\u001b[0m             \u001b[0;32mexcept\u001b[0m \u001b[0mKeyError\u001b[0m \u001b[0;32mas\u001b[0m \u001b[0merr\u001b[0m\u001b[0;34m:\u001b[0m\u001b[0;34m\u001b[0m\u001b[0;34m\u001b[0m\u001b[0m\n",
            "\u001b[0;32mpandas/_libs/index.pyx\u001b[0m in \u001b[0;36mpandas._libs.index.IndexEngine.get_loc\u001b[0;34m()\u001b[0m\n",
            "\u001b[0;32mpandas/_libs/index.pyx\u001b[0m in \u001b[0;36mpandas._libs.index.IndexEngine.get_loc\u001b[0;34m()\u001b[0m\n",
            "\u001b[0;32mpandas/_libs/hashtable_class_helper.pxi\u001b[0m in \u001b[0;36mpandas._libs.hashtable.PyObjectHashTable.get_item\u001b[0;34m()\u001b[0m\n",
            "\u001b[0;32mpandas/_libs/hashtable_class_helper.pxi\u001b[0m in \u001b[0;36mpandas._libs.hashtable.PyObjectHashTable.get_item\u001b[0;34m()\u001b[0m\n",
            "\u001b[0;31mKeyError\u001b[0m: 'tokenized'",
            "\nThe above exception was the direct cause of the following exception:\n",
            "\u001b[0;31mKeyError\u001b[0m                                  Traceback (most recent call last)",
            "\u001b[0;32m<ipython-input-145-eca1932edd21>\u001b[0m in \u001b[0;36m<module>\u001b[0;34m()\u001b[0m\n\u001b[0;32m----> 1\u001b[0;31m \u001b[0mtest_data\u001b[0m\u001b[0;34m[\u001b[0m\u001b[0;34m'tokenized'\u001b[0m\u001b[0;34m]\u001b[0m\u001b[0;34m.\u001b[0m\u001b[0miloc\u001b[0m\u001b[0;34m[\u001b[0m\u001b[0;36m2\u001b[0m\u001b[0;34m]\u001b[0m\u001b[0;31m# 케이스 스터디를 할 때 이런 케이스가 좋은 케이스, 좋은 제안을 줘야한다.\u001b[0m\u001b[0;34m\u001b[0m\u001b[0;34m\u001b[0m\u001b[0m\n\u001b[0m\u001b[1;32m      2\u001b[0m \u001b[0;31m# 모델을 발전할 수 있는 방향을 전달해줘야한다\u001b[0m\u001b[0;34m\u001b[0m\u001b[0;34m\u001b[0m\u001b[0;34m\u001b[0m\u001b[0m\n\u001b[1;32m      3\u001b[0m \u001b[0;31m#이런 결과가 나왔는데 이런 결과는 이렇게 되었고\u001b[0m\u001b[0;34m\u001b[0m\u001b[0;34m\u001b[0m\u001b[0;34m\u001b[0m\u001b[0m\n\u001b[1;32m      4\u001b[0m \u001b[0;31m# 이런 케이스를 안만들려면 데이터 수를 늘리거나, \"피온\" 이런 고유 명사를 제거하고 하거나, 고유 명사에대한 사전을 만들어서 진행\u001b[0m\u001b[0;34m\u001b[0m\u001b[0;34m\u001b[0m\u001b[0;34m\u001b[0m\u001b[0m\n",
            "\u001b[0;32m/usr/local/lib/python3.7/dist-packages/pandas/core/frame.py\u001b[0m in \u001b[0;36m__getitem__\u001b[0;34m(self, key)\u001b[0m\n\u001b[1;32m   2904\u001b[0m             \u001b[0;32mif\u001b[0m \u001b[0mself\u001b[0m\u001b[0;34m.\u001b[0m\u001b[0mcolumns\u001b[0m\u001b[0;34m.\u001b[0m\u001b[0mnlevels\u001b[0m \u001b[0;34m>\u001b[0m \u001b[0;36m1\u001b[0m\u001b[0;34m:\u001b[0m\u001b[0;34m\u001b[0m\u001b[0;34m\u001b[0m\u001b[0m\n\u001b[1;32m   2905\u001b[0m                 \u001b[0;32mreturn\u001b[0m \u001b[0mself\u001b[0m\u001b[0;34m.\u001b[0m\u001b[0m_getitem_multilevel\u001b[0m\u001b[0;34m(\u001b[0m\u001b[0mkey\u001b[0m\u001b[0;34m)\u001b[0m\u001b[0;34m\u001b[0m\u001b[0;34m\u001b[0m\u001b[0m\n\u001b[0;32m-> 2906\u001b[0;31m             \u001b[0mindexer\u001b[0m \u001b[0;34m=\u001b[0m \u001b[0mself\u001b[0m\u001b[0;34m.\u001b[0m\u001b[0mcolumns\u001b[0m\u001b[0;34m.\u001b[0m\u001b[0mget_loc\u001b[0m\u001b[0;34m(\u001b[0m\u001b[0mkey\u001b[0m\u001b[0;34m)\u001b[0m\u001b[0;34m\u001b[0m\u001b[0;34m\u001b[0m\u001b[0m\n\u001b[0m\u001b[1;32m   2907\u001b[0m             \u001b[0;32mif\u001b[0m \u001b[0mis_integer\u001b[0m\u001b[0;34m(\u001b[0m\u001b[0mindexer\u001b[0m\u001b[0;34m)\u001b[0m\u001b[0;34m:\u001b[0m\u001b[0;34m\u001b[0m\u001b[0;34m\u001b[0m\u001b[0m\n\u001b[1;32m   2908\u001b[0m                 \u001b[0mindexer\u001b[0m \u001b[0;34m=\u001b[0m \u001b[0;34m[\u001b[0m\u001b[0mindexer\u001b[0m\u001b[0;34m]\u001b[0m\u001b[0;34m\u001b[0m\u001b[0;34m\u001b[0m\u001b[0m\n",
            "\u001b[0;32m/usr/local/lib/python3.7/dist-packages/pandas/core/indexes/base.py\u001b[0m in \u001b[0;36mget_loc\u001b[0;34m(self, key, method, tolerance)\u001b[0m\n\u001b[1;32m   2898\u001b[0m                 \u001b[0;32mreturn\u001b[0m \u001b[0mself\u001b[0m\u001b[0;34m.\u001b[0m\u001b[0m_engine\u001b[0m\u001b[0;34m.\u001b[0m\u001b[0mget_loc\u001b[0m\u001b[0;34m(\u001b[0m\u001b[0mcasted_key\u001b[0m\u001b[0;34m)\u001b[0m\u001b[0;34m\u001b[0m\u001b[0;34m\u001b[0m\u001b[0m\n\u001b[1;32m   2899\u001b[0m             \u001b[0;32mexcept\u001b[0m \u001b[0mKeyError\u001b[0m \u001b[0;32mas\u001b[0m \u001b[0merr\u001b[0m\u001b[0;34m:\u001b[0m\u001b[0;34m\u001b[0m\u001b[0;34m\u001b[0m\u001b[0m\n\u001b[0;32m-> 2900\u001b[0;31m                 \u001b[0;32mraise\u001b[0m \u001b[0mKeyError\u001b[0m\u001b[0;34m(\u001b[0m\u001b[0mkey\u001b[0m\u001b[0;34m)\u001b[0m \u001b[0;32mfrom\u001b[0m \u001b[0merr\u001b[0m\u001b[0;34m\u001b[0m\u001b[0;34m\u001b[0m\u001b[0m\n\u001b[0m\u001b[1;32m   2901\u001b[0m \u001b[0;34m\u001b[0m\u001b[0m\n\u001b[1;32m   2902\u001b[0m         \u001b[0;32mif\u001b[0m \u001b[0mtolerance\u001b[0m \u001b[0;32mis\u001b[0m \u001b[0;32mnot\u001b[0m \u001b[0;32mNone\u001b[0m\u001b[0;34m:\u001b[0m\u001b[0;34m\u001b[0m\u001b[0;34m\u001b[0m\u001b[0m\n",
            "\u001b[0;31mKeyError\u001b[0m: 'tokenized'"
          ]
        }
      ]
    },
    {
      "cell_type": "code",
      "metadata": {
        "id": "opP_0Wv656Ek"
      },
      "source": [
        "print(y_pred_[2])\n",
        "print(y_test_[2])"
      ],
      "execution_count": null,
      "outputs": []
    },
    {
      "cell_type": "code",
      "metadata": {
        "id": "2GkJL8Mv6Aiy"
      },
      "source": [
        "print(test_data['tokenized'].iloc[5])\n",
        "print(y_pred_[5])\n",
        "print(y_test_[5])"
      ],
      "execution_count": null,
      "outputs": []
    },
    {
      "cell_type": "code",
      "metadata": {
        "id": "OaOBnePk6Agj"
      },
      "source": [
        "print(test_data['tokenized'].iloc[8])\n",
        "print(y_pred_[8])\n",
        "print(y_test_[8])"
      ],
      "execution_count": null,
      "outputs": []
    },
    {
      "cell_type": "code",
      "metadata": {
        "id": "eSLuEXFb6AeM"
      },
      "source": [
        "print(test_data['tokenized'].iloc[17])\n",
        "print(y_pred_[17])\n",
        "print(y_test_[17])"
      ],
      "execution_count": null,
      "outputs": []
    },
    {
      "cell_type": "code",
      "metadata": {
        "colab": {
          "base_uri": "https://localhost:8080/"
        },
        "id": "ze4LCiYh6Abm",
        "outputId": "4e43d76e-c4b9-4b74-88d4-f4256250201c"
      },
      "source": [
        "print(test_data['tokenized'].iloc[20])\n",
        "print(y_pred_[20])\n",
        "print(y_test_[20])"
      ],
      "execution_count": null,
      "outputs": [
        {
          "output_type": "stream",
          "text": [
            "편의점 알바하면 찾아오는 진상들이 한 번에 다 온다면 ㅋㅋㅋ  챗 상황극진짜 믿고 보는 고멤 분 순삭 당했습니다 길이길이 남을 역작 번째 돌려보는중 고멤은 지옥이다 팀장꼰대진상할배호를 맡은 띵킹입니다 고멤은 지옥이다 정말 함께해주신 모든 분들 각본쓰고 연기해주신 고멤 여러분 맵 제작의 킴카멘님 잉푸님 저는 차려놓은 밥상에 그저 숟가락 하나만 올려놨을 뿐입니다 모두 함께 이런 좋은 작품 만들수 있어서 너무 행복하고 감사했습니다 앞으로 고멤 활동 열심히 하고 항상 재밌는 띵킹이 되겠습니다 왁굳님 항상 존경하고 사랑합니다 감사합니다 컨텐츠 일주일 남기고 아무것도 없이 모였습니다 고멤 모두가 일주일 내내 매일 밤새면서 머리싸매고 다같이 세계관스토리연출 아이디어 내가면서 열심히 했습니다 저희가 고멤이었기에 열정하나로 모인거였기에 좋은 결과가 나왔던것같아요 그렇기에 고멤이 아니신데도 매일 밤새며 맵 만드셨던 맵 제작자분들이 정말 대단했던것같습니다 맵 제작자분들 고멤분들 다들 정말 고생하셨습니다 제 입장의 비하인드 제가 고기를 씹는장면때는 동동쿤님이 풀트래킹으로 몸연기를하고 저는 고기를 씹는 소리만 냈습니다 저는 사람고기를 씹는 소리를 연출하기위해 육회만원어치를 깍둑썰기로 준비해 씹었습니다 육회를 먹어보는게 처음이었는데 막상 씹어보니 씹는소리는 잘 났지만 연기하며 삼키기가 너무 버거워 휴지에 뱉고 새로운 고기를 씹고를 반복했습니다 최종리허설까지도 없었는데 실전때 과몰입을 너무 하다보니 마지막 추격장면때 왁굳님이 저와 주르르님 사이를 방해한다고 생각이 드니 너무 속상하고 분해서 눈물이 흐르더라구요 주르르님 연습할땐 연기 못했는데 실전때 저 경멸하는 연기가 나오길래 진짜 저를 경멸하나싶었습니다주륵 재밌게 봐주신 여러분 정말 감사합니다 덕분에 저희 모두 매일 밤새며 고생했던게 더 보람있었던것같습니다 앞으로도 왁굳님의 고멤 컨텐츠 많이 좋아해주시고 응원해주시면 감사하겠습니다 감정에 벅차 눈물이 글썽이지만 다급하게 숨기며 뒤로도는 냉참 감 감사합니다 그리고 저 실제로 안저래요착해요 미쳤다이건진짜 와 회차 시청중이신 분은 좋아요를 늘러주세요 \n",
            "2\n",
            "1\n"
          ],
          "name": "stdout"
        }
      ]
    },
    {
      "cell_type": "code",
      "metadata": {
        "colab": {
          "base_uri": "https://localhost:8080/"
        },
        "id": "rONelvW34gNw",
        "outputId": "9b99a929-7ea1-4dce-d9be-5fee97552cd0"
      },
      "source": [
        "print(test_data['tokenized'].iloc[21])\n",
        "print(y_pred_[21])\n",
        "print(y_test_[21])"
      ],
      "execution_count": null,
      "outputs": [
        {
          "output_type": "stream",
          "text": [
            "콩혼자산다  이마트 노브랜드 식품 개 리뷰  연두콩 저도 노브랜드 제품들 너무 좋아해요 여기 나온것들 다 좋아한다는건 안 비밀 가성비가 진짜 좋은 것 같아요 머리에 왕먼지 붙었어요 거슬리게해서 죄송합니다 담엔 꼭 영상 찍기 전에 확인 할게요오 머리삼각김밥 노브랜드는원참좋아하는듯 여러분 이번에도 알람 안 갔나요오 \n",
            "2\n",
            "3\n"
          ],
          "name": "stdout"
        }
      ]
    },
    {
      "cell_type": "code",
      "metadata": {
        "id": "pcHW0lxG4gLN"
      },
      "source": [
        "#case study 발표 자료를 만들어서 : 모델의 한계점 분석 및 발전 방향 제시\n",
        "# 문장이 길긴 한데 중요한 단어들이 \n",
        "#ex) 조효진 - 레이블 \n",
        "# 뷰티유투버가 먹방하면 라벨링이 애매하다 "
      ],
      "execution_count": null,
      "outputs": []
    },
    {
      "cell_type": "code",
      "metadata": {
        "id": "smZwupu7CArR"
      },
      "source": [
        "# 결과 분석 : 제목과 댓글을 같이 분류할 시 정확도가 85프로까지 올라감."
      ],
      "execution_count": null,
      "outputs": []
    },
    {
      "cell_type": "code",
      "metadata": {
        "id": "6F0YjZ1ddkYd"
      },
      "source": [
        ""
      ],
      "execution_count": null,
      "outputs": []
    },
    {
      "cell_type": "code",
      "metadata": {
        "id": "ZSrP-M1eCH-P"
      },
      "source": [
        "# 1. 데이터 라벨링을 하지 않을 때 : 70-80\n",
        "# 2. 데이터 라벨링을 할 때 : 75-80\n",
        "# 3. 제목을 함께 고려할시 : 85%\n",
        "# \n",
        "\n",
        "#테스트 데이터\n",
        "# 1. 댓글 상위 5개\n",
        "# 2. 댓글 상위 15개 "
      ],
      "execution_count": null,
      "outputs": []
    },
    {
      "cell_type": "code",
      "metadata": {
        "id": "PxSwsmZYCH47"
      },
      "source": [
        "# 정확도가 안나오면, "
      ],
      "execution_count": null,
      "outputs": []
    },
    {
      "cell_type": "code",
      "metadata": {
        "id": "d49nGEHdCAit"
      },
      "source": [
        ""
      ],
      "execution_count": null,
      "outputs": []
    },
    {
      "cell_type": "markdown",
      "metadata": {
        "id": "x609udOi0D7D"
      },
      "source": [
        "비교대상 1 - RandomForest"
      ]
    },
    {
      "cell_type": "code",
      "metadata": {
        "id": "GgqHYzI1EtZa"
      },
      "source": [
        ""
      ],
      "execution_count": null,
      "outputs": []
    },
    {
      "cell_type": "code",
      "metadata": {
        "id": "Xoe61HKfxseP"
      },
      "source": [
        "from sklearn.ensemble import RandomForestClassifier"
      ],
      "execution_count": null,
      "outputs": []
    },
    {
      "cell_type": "code",
      "metadata": {
        "id": "IHKErkJHxsyD"
      },
      "source": [
        "rf_clf = RandomForestClassifier()"
      ],
      "execution_count": null,
      "outputs": []
    },
    {
      "cell_type": "code",
      "metadata": {
        "colab": {
          "base_uri": "https://localhost:8080/"
        },
        "id": "ZE8eC1xtCt6l",
        "outputId": "270dc926-7ede-4fda-806e-4729069510b0"
      },
      "source": [
        "len(X_train)"
      ],
      "execution_count": null,
      "outputs": [
        {
          "output_type": "execute_result",
          "data": {
            "text/plain": [
              "560"
            ]
          },
          "metadata": {
            "tags": []
          },
          "execution_count": 131
        }
      ]
    },
    {
      "cell_type": "code",
      "metadata": {
        "colab": {
          "base_uri": "https://localhost:8080/"
        },
        "id": "zsZVWi12Cxt4",
        "outputId": "33d96225-bbcd-4829-f4ec-13a4b37ac6e5"
      },
      "source": [
        "len(y_train)"
      ],
      "execution_count": null,
      "outputs": [
        {
          "output_type": "execute_result",
          "data": {
            "text/plain": [
              "560"
            ]
          },
          "metadata": {
            "tags": []
          },
          "execution_count": 140
        }
      ]
    },
    {
      "cell_type": "code",
      "metadata": {
        "colab": {
          "base_uri": "https://localhost:8080/"
        },
        "id": "MNM2qIONEgzJ",
        "outputId": "13a55e91-593a-4254-a12a-a5b1e41562bb"
      },
      "source": [
        "y_train"
      ],
      "execution_count": null,
      "outputs": [
        {
          "output_type": "execute_result",
          "data": {
            "text/plain": [
              "array([[[0., 1., 0., 0.],\n",
              "        [1., 0., 0., 0.],\n",
              "        [1., 0., 0., 0.],\n",
              "        [1., 0., 0., 0.]],\n",
              "\n",
              "       [[1., 0., 0., 0.],\n",
              "        [1., 0., 0., 0.],\n",
              "        [1., 0., 0., 0.],\n",
              "        [0., 1., 0., 0.]],\n",
              "\n",
              "       [[0., 1., 0., 0.],\n",
              "        [1., 0., 0., 0.],\n",
              "        [1., 0., 0., 0.],\n",
              "        [1., 0., 0., 0.]],\n",
              "\n",
              "       ...,\n",
              "\n",
              "       [[1., 0., 0., 0.],\n",
              "        [1., 0., 0., 0.],\n",
              "        [1., 0., 0., 0.],\n",
              "        [0., 1., 0., 0.]],\n",
              "\n",
              "       [[0., 1., 0., 0.],\n",
              "        [1., 0., 0., 0.],\n",
              "        [1., 0., 0., 0.],\n",
              "        [1., 0., 0., 0.]],\n",
              "\n",
              "       [[1., 0., 0., 0.],\n",
              "        [1., 0., 0., 0.],\n",
              "        [0., 1., 0., 0.],\n",
              "        [1., 0., 0., 0.]]], dtype=float32)"
            ]
          },
          "metadata": {
            "tags": []
          },
          "execution_count": 152
        }
      ]
    },
    {
      "cell_type": "code",
      "metadata": {
        "id": "Mbh4u_wxD2s0"
      },
      "source": [
        "y_train1 = []\n",
        "for i in range(len(y_train)):\n",
        "  arg = np.argmax(y_train[i])\n",
        "  y_train1.append(arg)"
      ],
      "execution_count": null,
      "outputs": []
    },
    {
      "cell_type": "code",
      "metadata": {
        "colab": {
          "base_uri": "https://localhost:8080/"
        },
        "id": "SNzIfFXcEGF0",
        "outputId": "e3745769-325f-43d3-e870-bf0fe48d4f7e"
      },
      "source": [
        "len(y_train1)"
      ],
      "execution_count": null,
      "outputs": [
        {
          "output_type": "execute_result",
          "data": {
            "text/plain": [
              "560"
            ]
          },
          "metadata": {
            "tags": []
          },
          "execution_count": 142
        }
      ]
    },
    {
      "cell_type": "code",
      "metadata": {
        "colab": {
          "base_uri": "https://localhost:8080/"
        },
        "id": "ILrvMlLjEdMZ",
        "outputId": "ad42ed96-b7d7-4551-e39b-e6ba82015dad"
      },
      "source": [
        "y_train1"
      ],
      "execution_count": null,
      "outputs": [
        {
          "output_type": "execute_result",
          "data": {
            "text/plain": [
              "[1,\n",
              " 0,\n",
              " 1,\n",
              " 0,\n",
              " 0,\n",
              " 0,\n",
              " 0,\n",
              " 0,\n",
              " 0,\n",
              " 0,\n",
              " 0,\n",
              " 0,\n",
              " 1,\n",
              " 0,\n",
              " 0,\n",
              " 0,\n",
              " 0,\n",
              " 0,\n",
              " 1,\n",
              " 0,\n",
              " 0,\n",
              " 0,\n",
              " 1,\n",
              " 0,\n",
              " 1,\n",
              " 0,\n",
              " 1,\n",
              " 1,\n",
              " 0,\n",
              " 0,\n",
              " 0,\n",
              " 0,\n",
              " 0,\n",
              " 1,\n",
              " 0,\n",
              " 1,\n",
              " 1,\n",
              " 0,\n",
              " 0,\n",
              " 0,\n",
              " 1,\n",
              " 1,\n",
              " 0,\n",
              " 1,\n",
              " 0,\n",
              " 1,\n",
              " 0,\n",
              " 0,\n",
              " 1,\n",
              " 1,\n",
              " 0,\n",
              " 0,\n",
              " 0,\n",
              " 0,\n",
              " 0,\n",
              " 0,\n",
              " 0,\n",
              " 0,\n",
              " 0,\n",
              " 0,\n",
              " 0,\n",
              " 1,\n",
              " 0,\n",
              " 0,\n",
              " 0,\n",
              " 0,\n",
              " 0,\n",
              " 0,\n",
              " 1,\n",
              " 0,\n",
              " 0,\n",
              " 0,\n",
              " 0,\n",
              " 1,\n",
              " 1,\n",
              " 1,\n",
              " 1,\n",
              " 1,\n",
              " 1,\n",
              " 0,\n",
              " 0,\n",
              " 0,\n",
              " 0,\n",
              " 0,\n",
              " 0,\n",
              " 0,\n",
              " 0,\n",
              " 1,\n",
              " 0,\n",
              " 0,\n",
              " 0,\n",
              " 0,\n",
              " 0,\n",
              " 0,\n",
              " 0,\n",
              " 1,\n",
              " 0,\n",
              " 1,\n",
              " 0,\n",
              " 0,\n",
              " 1,\n",
              " 1,\n",
              " 0,\n",
              " 1,\n",
              " 1,\n",
              " 1,\n",
              " 0,\n",
              " 1,\n",
              " 0,\n",
              " 0,\n",
              " 0,\n",
              " 0,\n",
              " 0,\n",
              " 0,\n",
              " 0,\n",
              " 0,\n",
              " 0,\n",
              " 0,\n",
              " 0,\n",
              " 1,\n",
              " 0,\n",
              " 0,\n",
              " 0,\n",
              " 0,\n",
              " 1,\n",
              " 0,\n",
              " 0,\n",
              " 0,\n",
              " 0,\n",
              " 1,\n",
              " 0,\n",
              " 1,\n",
              " 1,\n",
              " 0,\n",
              " 0,\n",
              " 1,\n",
              " 0,\n",
              " 0,\n",
              " 0,\n",
              " 0,\n",
              " 1,\n",
              " 1,\n",
              " 1,\n",
              " 0,\n",
              " 0,\n",
              " 1,\n",
              " 0,\n",
              " 1,\n",
              " 0,\n",
              " 1,\n",
              " 0,\n",
              " 1,\n",
              " 0,\n",
              " 0,\n",
              " 0,\n",
              " 0,\n",
              " 0,\n",
              " 0,\n",
              " 1,\n",
              " 0,\n",
              " 0,\n",
              " 0,\n",
              " 0,\n",
              " 0,\n",
              " 0,\n",
              " 0,\n",
              " 1,\n",
              " 1,\n",
              " 0,\n",
              " 0,\n",
              " 0,\n",
              " 0,\n",
              " 0,\n",
              " 0,\n",
              " 1,\n",
              " 1,\n",
              " 1,\n",
              " 0,\n",
              " 0,\n",
              " 0,\n",
              " 1,\n",
              " 0,\n",
              " 0,\n",
              " 0,\n",
              " 0,\n",
              " 1,\n",
              " 0,\n",
              " 0,\n",
              " 0,\n",
              " 0,\n",
              " 0,\n",
              " 0,\n",
              " 0,\n",
              " 1,\n",
              " 0,\n",
              " 1,\n",
              " 0,\n",
              " 0,\n",
              " 1,\n",
              " 0,\n",
              " 0,\n",
              " 1,\n",
              " 0,\n",
              " 0,\n",
              " 1,\n",
              " 1,\n",
              " 0,\n",
              " 1,\n",
              " 0,\n",
              " 0,\n",
              " 1,\n",
              " 1,\n",
              " 1,\n",
              " 0,\n",
              " 1,\n",
              " 0,\n",
              " 0,\n",
              " 1,\n",
              " 0,\n",
              " 0,\n",
              " 1,\n",
              " 0,\n",
              " 0,\n",
              " 0,\n",
              " 1,\n",
              " 0,\n",
              " 0,\n",
              " 0,\n",
              " 0,\n",
              " 1,\n",
              " 1,\n",
              " 1,\n",
              " 0,\n",
              " 0,\n",
              " 0,\n",
              " 0,\n",
              " 1,\n",
              " 0,\n",
              " 0,\n",
              " 0,\n",
              " 0,\n",
              " 1,\n",
              " 1,\n",
              " 1,\n",
              " 0,\n",
              " 0,\n",
              " 1,\n",
              " 1,\n",
              " 1,\n",
              " 0,\n",
              " 1,\n",
              " 0,\n",
              " 0,\n",
              " 0,\n",
              " 0,\n",
              " 0,\n",
              " 1,\n",
              " 0,\n",
              " 0,\n",
              " 0,\n",
              " 0,\n",
              " 0,\n",
              " 0,\n",
              " 1,\n",
              " 0,\n",
              " 0,\n",
              " 0,\n",
              " 0,\n",
              " 0,\n",
              " 0,\n",
              " 1,\n",
              " 1,\n",
              " 1,\n",
              " 0,\n",
              " 1,\n",
              " 0,\n",
              " 0,\n",
              " 0,\n",
              " 1,\n",
              " 1,\n",
              " 1,\n",
              " 0,\n",
              " 0,\n",
              " 0,\n",
              " 0,\n",
              " 0,\n",
              " 0,\n",
              " 0,\n",
              " 0,\n",
              " 0,\n",
              " 0,\n",
              " 1,\n",
              " 1,\n",
              " 0,\n",
              " 0,\n",
              " 1,\n",
              " 0,\n",
              " 0,\n",
              " 0,\n",
              " 1,\n",
              " 1,\n",
              " 0,\n",
              " 1,\n",
              " 0,\n",
              " 0,\n",
              " 1,\n",
              " 0,\n",
              " 0,\n",
              " 0,\n",
              " 0,\n",
              " 0,\n",
              " 0,\n",
              " 1,\n",
              " 0,\n",
              " 0,\n",
              " 1,\n",
              " 0,\n",
              " 0,\n",
              " 0,\n",
              " 0,\n",
              " 0,\n",
              " 0,\n",
              " 0,\n",
              " 1,\n",
              " 0,\n",
              " 0,\n",
              " 0,\n",
              " 0,\n",
              " 1,\n",
              " 0,\n",
              " 1,\n",
              " 0,\n",
              " 1,\n",
              " 0,\n",
              " 1,\n",
              " 0,\n",
              " 0,\n",
              " 0,\n",
              " 0,\n",
              " 0,\n",
              " 0,\n",
              " 1,\n",
              " 1,\n",
              " 1,\n",
              " 0,\n",
              " 0,\n",
              " 0,\n",
              " 0,\n",
              " 0,\n",
              " 1,\n",
              " 0,\n",
              " 0,\n",
              " 1,\n",
              " 1,\n",
              " 0,\n",
              " 0,\n",
              " 0,\n",
              " 0,\n",
              " 0,\n",
              " 0,\n",
              " 1,\n",
              " 0,\n",
              " 0,\n",
              " 0,\n",
              " 1,\n",
              " 0,\n",
              " 0,\n",
              " 0,\n",
              " 0,\n",
              " 0,\n",
              " 0,\n",
              " 0,\n",
              " 1,\n",
              " 0,\n",
              " 1,\n",
              " 1,\n",
              " 1,\n",
              " 0,\n",
              " 1,\n",
              " 0,\n",
              " 1,\n",
              " 0,\n",
              " 1,\n",
              " 1,\n",
              " 0,\n",
              " 0,\n",
              " 0,\n",
              " 0,\n",
              " 0,\n",
              " 0,\n",
              " 0,\n",
              " 0,\n",
              " 0,\n",
              " 0,\n",
              " 0,\n",
              " 1,\n",
              " 0,\n",
              " 1,\n",
              " 0,\n",
              " 0,\n",
              " 0,\n",
              " 0,\n",
              " 0,\n",
              " 0,\n",
              " 1,\n",
              " 0,\n",
              " 0,\n",
              " 0,\n",
              " 1,\n",
              " 0,\n",
              " 0,\n",
              " 1,\n",
              " 0,\n",
              " 0,\n",
              " 0,\n",
              " 0,\n",
              " 1,\n",
              " 0,\n",
              " 0,\n",
              " 0,\n",
              " 0,\n",
              " 0,\n",
              " 1,\n",
              " 0,\n",
              " 0,\n",
              " 0,\n",
              " 0,\n",
              " 0,\n",
              " 1,\n",
              " 0,\n",
              " 1,\n",
              " 0,\n",
              " 0,\n",
              " 0,\n",
              " 0,\n",
              " 0,\n",
              " 0,\n",
              " 0,\n",
              " 0,\n",
              " 0,\n",
              " 0,\n",
              " 0,\n",
              " 0,\n",
              " 0,\n",
              " 1,\n",
              " 0,\n",
              " 0,\n",
              " 0,\n",
              " 0,\n",
              " 1,\n",
              " 1,\n",
              " 0,\n",
              " 0,\n",
              " 0,\n",
              " 0,\n",
              " 0,\n",
              " 0,\n",
              " 0,\n",
              " 0,\n",
              " 0,\n",
              " 1,\n",
              " 1,\n",
              " 0,\n",
              " 0,\n",
              " 0,\n",
              " 0,\n",
              " 0,\n",
              " 0,\n",
              " 0,\n",
              " 0,\n",
              " 0,\n",
              " 0,\n",
              " 0,\n",
              " 0,\n",
              " 0,\n",
              " 0,\n",
              " 0,\n",
              " 1,\n",
              " 0,\n",
              " 0,\n",
              " 1,\n",
              " 0,\n",
              " 0,\n",
              " 0,\n",
              " 1,\n",
              " 0,\n",
              " 0,\n",
              " 0,\n",
              " 1,\n",
              " 0,\n",
              " 1,\n",
              " 0,\n",
              " 0,\n",
              " 0,\n",
              " 0,\n",
              " 1,\n",
              " 0,\n",
              " 0,\n",
              " 1,\n",
              " 0,\n",
              " 0,\n",
              " 0,\n",
              " 1,\n",
              " 1,\n",
              " 0,\n",
              " 0,\n",
              " 1,\n",
              " 0,\n",
              " 0,\n",
              " 0,\n",
              " 0,\n",
              " 0,\n",
              " 0,\n",
              " 0,\n",
              " 1,\n",
              " 1,\n",
              " 0,\n",
              " 0,\n",
              " 0,\n",
              " 0,\n",
              " 1,\n",
              " 0,\n",
              " 0,\n",
              " 0,\n",
              " 1,\n",
              " 0,\n",
              " 0,\n",
              " 0,\n",
              " 0,\n",
              " 0,\n",
              " 0,\n",
              " 0,\n",
              " 0,\n",
              " 1,\n",
              " 1,\n",
              " 1,\n",
              " 0,\n",
              " 0,\n",
              " 1,\n",
              " 0,\n",
              " 0,\n",
              " 0,\n",
              " 0,\n",
              " 0,\n",
              " 0,\n",
              " 0,\n",
              " 0,\n",
              " 1,\n",
              " 1,\n",
              " 1,\n",
              " 0,\n",
              " 0,\n",
              " 1,\n",
              " 0,\n",
              " 0,\n",
              " 0,\n",
              " 0,\n",
              " 0,\n",
              " 1,\n",
              " 0]"
            ]
          },
          "metadata": {
            "tags": []
          },
          "execution_count": 151
        }
      ]
    },
    {
      "cell_type": "code",
      "metadata": {
        "colab": {
          "base_uri": "https://localhost:8080/"
        },
        "id": "u5O7rEedzOsV",
        "outputId": "555d65b8-4a18-4815-dfd4-8b7140b8f78a"
      },
      "source": [
        "rf_clf.fit(X_train, y_train)"
      ],
      "execution_count": null,
      "outputs": [
        {
          "output_type": "execute_result",
          "data": {
            "text/plain": [
              "RandomForestClassifier(bootstrap=True, ccp_alpha=0.0, class_weight=None,\n",
              "                       criterion='gini', max_depth=None, max_features='auto',\n",
              "                       max_leaf_nodes=None, max_samples=None,\n",
              "                       min_impurity_decrease=0.0, min_impurity_split=None,\n",
              "                       min_samples_leaf=1, min_samples_split=2,\n",
              "                       min_weight_fraction_leaf=0.0, n_estimators=100,\n",
              "                       n_jobs=None, oob_score=False, random_state=None,\n",
              "                       verbose=0, warm_start=False)"
            ]
          },
          "metadata": {
            "tags": []
          },
          "execution_count": 204
        }
      ]
    },
    {
      "cell_type": "code",
      "metadata": {
        "colab": {
          "base_uri": "https://localhost:8080/"
        },
        "id": "iVgrthDvpVEO",
        "outputId": "3efe8e93-39f5-477d-e4a1-f4b08a6ae5ed"
      },
      "source": [
        "X_train.shape"
      ],
      "execution_count": null,
      "outputs": [
        {
          "output_type": "execute_result",
          "data": {
            "text/plain": [
              "(560, 300)"
            ]
          },
          "metadata": {
            "tags": []
          },
          "execution_count": 317
        }
      ]
    },
    {
      "cell_type": "code",
      "metadata": {
        "colab": {
          "base_uri": "https://localhost:8080/"
        },
        "id": "mTqkZsi_pWet",
        "outputId": "c1ac58ab-c097-4e71-d1fe-00bfc79852f4"
      },
      "source": [
        "y_train.shape"
      ],
      "execution_count": null,
      "outputs": [
        {
          "output_type": "execute_result",
          "data": {
            "text/plain": [
              "(560, 4)"
            ]
          },
          "metadata": {
            "tags": []
          },
          "execution_count": 318
        }
      ]
    },
    {
      "cell_type": "code",
      "metadata": {
        "id": "2LWT33LbE2G3"
      },
      "source": [
        "y_train = np.array(train_data['label'])\n",
        "y_test = np.array(test_data['label'])"
      ],
      "execution_count": null,
      "outputs": []
    },
    {
      "cell_type": "code",
      "metadata": {
        "colab": {
          "base_uri": "https://localhost:8080/"
        },
        "id": "lOb61lJqE26P",
        "outputId": "ef8bb2ec-bafd-402d-d9ba-5f459d77c168"
      },
      "source": [
        "y_train"
      ],
      "execution_count": null,
      "outputs": [
        {
          "output_type": "execute_result",
          "data": {
            "text/plain": [
              "array([0, 3, 0, 3, 1, 1, 2, 1, 2, 1, 1, 2, 0, 2, 1, 3, 1, 2, 0, 1, 2, 2,\n",
              "       0, 1, 0, 2, 0, 0, 2, 1, 3, 2, 2, 0, 3, 0, 0, 3, 2, 2, 0, 0, 2, 0,\n",
              "       3, 0, 2, 2, 0, 0, 1, 2, 1, 2, 1, 3, 2, 2, 1, 1, 1, 0, 1, 3, 1, 3,\n",
              "       3, 2, 0, 2, 2, 3, 1, 0, 0, 0, 0, 0, 0, 2, 2, 2, 1, 2, 1, 2, 1, 0,\n",
              "       3, 1, 3, 1, 1, 2, 2, 0, 1, 0, 2, 1, 0, 0, 3, 0, 0, 0, 1, 0, 3, 2,\n",
              "       2, 3, 2, 1, 3, 2, 1, 2, 1, 0, 3, 2, 1, 1, 0, 1, 3, 3, 2, 0, 2, 0,\n",
              "       0, 2, 2, 0, 3, 2, 1, 3, 0, 0, 0, 3, 1, 0, 2, 0, 2, 0, 3, 0, 2, 2,\n",
              "       1, 2, 2, 3, 0, 2, 2, 1, 2, 2, 2, 3, 0, 0, 1, 2, 2, 3, 1, 3, 0, 0,\n",
              "       0, 3, 2, 3, 0, 2, 1, 2, 1, 0, 3, 1, 3, 1, 1, 2, 2, 0, 1, 0, 1, 1,\n",
              "       0, 3, 1, 0, 2, 2, 0, 0, 1, 0, 2, 2, 0, 0, 0, 1, 0, 2, 1, 0, 3, 2,\n",
              "       0, 3, 3, 3, 0, 1, 3, 2, 3, 0, 0, 0, 3, 1, 1, 1, 0, 1, 1, 3, 3, 0,\n",
              "       0, 0, 1, 3, 0, 0, 0, 3, 0, 2, 1, 2, 2, 1, 0, 2, 1, 2, 3, 1, 1, 0,\n",
              "       3, 1, 2, 2, 2, 3, 0, 0, 0, 3, 0, 3, 1, 2, 0, 0, 0, 1, 2, 1, 1, 2,\n",
              "       3, 2, 1, 2, 3, 0, 0, 1, 2, 0, 3, 1, 3, 0, 0, 3, 0, 2, 1, 0, 3, 2,\n",
              "       3, 1, 2, 2, 0, 3, 2, 0, 1, 1, 1, 3, 1, 1, 2, 0, 2, 3, 2, 2, 0, 1,\n",
              "       0, 1, 0, 1, 0, 3, 2, 3, 2, 3, 2, 0, 0, 0, 1, 2, 2, 2, 2, 0, 3, 1,\n",
              "       0, 0, 3, 3, 1, 2, 2, 2, 0, 3, 2, 2, 0, 2, 1, 2, 2, 2, 1, 2, 0, 1,\n",
              "       0, 0, 0, 2, 0, 1, 0, 3, 0, 0, 1, 1, 3, 3, 2, 3, 2, 3, 3, 3, 2, 0,\n",
              "       2, 0, 2, 3, 3, 2, 1, 1, 0, 3, 2, 1, 0, 1, 2, 0, 3, 2, 1, 2, 0, 3,\n",
              "       3, 3, 2, 1, 0, 1, 1, 1, 2, 1, 0, 2, 0, 3, 3, 2, 1, 2, 2, 1, 3, 2,\n",
              "       1, 1, 2, 1, 0, 3, 1, 2, 2, 0, 0, 1, 2, 2, 1, 3, 3, 2, 1, 1, 0, 0,\n",
              "       1, 2, 2, 1, 1, 1, 3, 3, 1, 1, 3, 1, 1, 2, 1, 0, 1, 2, 0, 1, 1, 2,\n",
              "       0, 3, 2, 2, 0, 1, 0, 1, 2, 2, 2, 0, 3, 2, 0, 2, 2, 3, 0, 0, 1, 2,\n",
              "       0, 2, 2, 1, 1, 1, 3, 2, 0, 0, 3, 3, 1, 3, 0, 1, 2, 2, 0, 1, 2, 2,\n",
              "       1, 2, 1, 2, 1, 0, 0, 0, 3, 2, 0, 2, 2, 1, 3, 1, 3, 2, 1, 0, 0, 0,\n",
              "       1, 2, 0, 3, 3, 1, 2, 3, 0, 2])"
            ]
          },
          "metadata": {
            "tags": []
          },
          "execution_count": 154
        }
      ]
    },
    {
      "cell_type": "code",
      "metadata": {
        "id": "qCZ1S7muzXV8"
      },
      "source": [
        "rf_pred = rf_clf.predict(X_test)"
      ],
      "execution_count": null,
      "outputs": []
    },
    {
      "cell_type": "code",
      "metadata": {
        "colab": {
          "base_uri": "https://localhost:8080/"
        },
        "id": "-gbGs_aJE_nD",
        "outputId": "69928452-a26a-44b1-cfe1-bd1bff86dcf9"
      },
      "source": [
        "y_test"
      ],
      "execution_count": null,
      "outputs": [
        {
          "output_type": "execute_result",
          "data": {
            "text/plain": [
              "array([1, 0, 1, 1, 2, 1, 2, 0, 1, 2, 3, 2, 2, 1, 2, 2, 0, 3, 3, 2, 1, 3,\n",
              "       1, 1, 0, 0, 1, 2, 1, 0, 1, 2, 1, 2, 0, 0, 1, 1, 2, 1, 0, 1, 1, 2,\n",
              "       3, 2, 3, 2, 1, 3, 2, 2, 1, 1, 1, 3, 1, 0, 1, 3, 2, 1, 1, 1, 3, 1,\n",
              "       1, 2, 1, 3, 2, 0, 0, 0, 1, 3, 2, 3, 0, 1, 2, 1, 3, 0, 1, 3, 1, 1,\n",
              "       2, 1, 3, 1, 1, 3, 1, 2, 3, 1, 2, 0, 1, 0, 3, 2, 1, 0, 2, 0, 2, 2,\n",
              "       1, 0, 0, 2, 1, 1, 1, 0, 1, 2, 1, 2, 2, 3, 1, 0, 3, 1, 3, 1, 2, 3,\n",
              "       2, 0, 2, 2, 1, 0, 0, 0])"
            ]
          },
          "metadata": {
            "tags": []
          },
          "execution_count": 206
        }
      ]
    },
    {
      "cell_type": "code",
      "metadata": {
        "id": "5q34tRB3E9Qn"
      },
      "source": [
        "rf"
      ],
      "execution_count": null,
      "outputs": []
    },
    {
      "cell_type": "code",
      "metadata": {
        "id": "x_IfBpF4nxgU"
      },
      "source": [
        "y_test_ = []\n",
        "for i in range(len(y_test)):\n",
        "  arg = np.argmax(y_test[i])\n",
        "  y_test_.append(arg)"
      ],
      "execution_count": null,
      "outputs": []
    },
    {
      "cell_type": "code",
      "metadata": {
        "colab": {
          "base_uri": "https://localhost:8080/"
        },
        "id": "toB5_snoEUlu",
        "outputId": "4e9d5163-e7b3-4ebb-815f-07a691e4ac79"
      },
      "source": [
        "rf_pred"
      ],
      "execution_count": null,
      "outputs": [
        {
          "output_type": "execute_result",
          "data": {
            "text/plain": [
              "array([1, 2, 1, 1, 3, 0, 3, 0, 1, 3, 2, 0, 0, 2, 1, 1, 0, 2, 0, 1, 3, 0,\n",
              "       1, 2, 2, 2, 1, 2, 0, 1, 1, 2, 1, 0, 0, 0, 1, 1, 2, 0, 2, 0, 1, 0,\n",
              "       2, 2, 0, 2, 0, 3, 0, 2, 1, 1, 2, 0, 1, 2, 0, 0, 2, 1, 0, 0, 0, 3,\n",
              "       2, 2, 0, 0, 0, 0, 1, 1, 1, 2, 2, 3, 2, 1, 1, 0, 0, 2, 1, 1, 1, 0,\n",
              "       1, 1, 0, 1, 1, 2, 0, 1, 3, 1, 2, 2, 1, 0, 3, 2, 2, 0, 0, 0, 2, 2,\n",
              "       0, 1, 1, 1, 2, 1, 2, 0, 2, 2, 1, 2, 2, 3, 0, 1, 2, 1, 2, 1, 0, 2,\n",
              "       0, 0, 1, 3, 1, 0, 0, 0])"
            ]
          },
          "metadata": {
            "tags": []
          },
          "execution_count": 207
        }
      ]
    },
    {
      "cell_type": "code",
      "metadata": {
        "colab": {
          "base_uri": "https://localhost:8080/"
        },
        "id": "GlitmiR6z110",
        "outputId": "b4424273-35cf-4704-b011-03e812f9c0c0"
      },
      "source": [
        "from sklearn.metrics import classification_report\n",
        "print(classification_report(rf_pred,y_test))"
      ],
      "execution_count": null,
      "outputs": [
        {
          "output_type": "stream",
          "text": [
            "              precision    recall  f1-score   support\n",
            "\n",
            "           0       0.48      0.29      0.36        45\n",
            "           1       0.55      0.66      0.60        44\n",
            "           2       0.43      0.40      0.42        40\n",
            "           3       0.22      0.45      0.29        11\n",
            "\n",
            "    accuracy                           0.45       140\n",
            "   macro avg       0.42      0.45      0.42       140\n",
            "weighted avg       0.47      0.45      0.45       140\n",
            "\n"
          ],
          "name": "stdout"
        }
      ]
    },
    {
      "cell_type": "markdown",
      "metadata": {
        "id": "Rp_qgrCJ3yMe"
      },
      "source": [
        "비교대상 2 - 선형 분류"
      ]
    },
    {
      "cell_type": "code",
      "metadata": {
        "id": "5KjVolsx31j0"
      },
      "source": [
        "from sklearn.naive_bayes import GaussianNB"
      ],
      "execution_count": null,
      "outputs": []
    },
    {
      "cell_type": "code",
      "metadata": {
        "id": "p0GUCVf931yE"
      },
      "source": [
        "g_nb = GaussianNB([0.2785714285714286, 0.25, 0.2875, 0.18392857142857144])"
      ],
      "execution_count": null,
      "outputs": []
    },
    {
      "cell_type": "code",
      "metadata": {
        "id": "PbHmN9X1Lx8h"
      },
      "source": [
        "arr, num = np.unique(y_train, return_counts=True)"
      ],
      "execution_count": null,
      "outputs": []
    },
    {
      "cell_type": "code",
      "metadata": {
        "colab": {
          "base_uri": "https://localhost:8080/"
        },
        "id": "c2lnJodeMacW",
        "outputId": "888a4e6f-7cf5-440c-9244-02821aeb2f2b"
      },
      "source": [
        "numl = num.tolist()\n",
        "for i in range(len(numl)):\n",
        "  numl[i] = numl[i]/len(y_train)\n",
        "numl"
      ],
      "execution_count": null,
      "outputs": [
        {
          "output_type": "execute_result",
          "data": {
            "text/plain": [
              "[0.2785714285714286, 0.25, 0.2875, 0.18392857142857144]"
            ]
          },
          "metadata": {
            "tags": []
          },
          "execution_count": 212
        }
      ]
    },
    {
      "cell_type": "code",
      "metadata": {
        "colab": {
          "base_uri": "https://localhost:8080/"
        },
        "id": "-6WEN_tMFtHg",
        "outputId": "23edc366-8bda-4ae5-b39b-789d28f127ba"
      },
      "source": [
        "X_train"
      ],
      "execution_count": null,
      "outputs": [
        {
          "output_type": "execute_result",
          "data": {
            "text/plain": [
              "array([[  0,   0,   0, ...,  64,  17,  17],\n",
              "       [  0,   0,   0, ...,   1, 350, 210],\n",
              "       [  0,   0,   0, ..., 140,  89, 141],\n",
              "       ...,\n",
              "       [  0,   0,   0, ...,  22,   3, 365],\n",
              "       [  0,   0,   0, ..., 313, 253, 431],\n",
              "       [  0,   0,   0, ...,  62,  20,  65]], dtype=int32)"
            ]
          },
          "metadata": {
            "tags": []
          },
          "execution_count": 213
        }
      ]
    },
    {
      "cell_type": "code",
      "metadata": {
        "colab": {
          "base_uri": "https://localhost:8080/"
        },
        "id": "3xMV1RWJF6p0",
        "outputId": "48e2503d-a1cd-4bd9-9572-7a905d4cc1da"
      },
      "source": [
        "y_train"
      ],
      "execution_count": null,
      "outputs": [
        {
          "output_type": "execute_result",
          "data": {
            "text/plain": [
              "array([0, 3, 0, 3, 1, 1, 2, 1, 2, 1, 1, 2, 0, 2, 1, 3, 1, 2, 0, 1, 2, 2,\n",
              "       0, 1, 0, 2, 0, 0, 2, 1, 3, 2, 2, 0, 3, 0, 0, 3, 2, 2, 0, 0, 2, 0,\n",
              "       3, 0, 2, 2, 0, 0, 1, 2, 1, 2, 1, 3, 2, 2, 1, 1, 1, 0, 1, 3, 1, 3,\n",
              "       3, 2, 0, 2, 2, 3, 1, 0, 0, 0, 0, 0, 0, 2, 2, 2, 1, 2, 1, 2, 1, 0,\n",
              "       3, 1, 3, 1, 1, 2, 2, 0, 1, 0, 2, 1, 0, 0, 3, 0, 0, 0, 1, 0, 3, 2,\n",
              "       2, 3, 2, 1, 3, 2, 1, 2, 1, 0, 3, 2, 1, 1, 0, 1, 3, 3, 2, 0, 2, 0,\n",
              "       0, 2, 2, 0, 3, 2, 1, 3, 0, 0, 0, 3, 1, 0, 2, 0, 2, 0, 3, 0, 2, 2,\n",
              "       1, 2, 2, 3, 0, 2, 2, 1, 2, 2, 2, 3, 0, 0, 1, 2, 2, 3, 1, 3, 0, 0,\n",
              "       0, 3, 2, 3, 0, 2, 1, 2, 1, 0, 3, 1, 3, 1, 1, 2, 2, 0, 1, 0, 1, 1,\n",
              "       0, 3, 1, 0, 2, 2, 0, 0, 1, 0, 2, 2, 0, 0, 0, 1, 0, 2, 1, 0, 3, 2,\n",
              "       0, 3, 3, 3, 0, 1, 3, 2, 3, 0, 0, 0, 3, 1, 1, 1, 0, 1, 1, 3, 3, 0,\n",
              "       0, 0, 1, 3, 0, 0, 0, 3, 0, 2, 1, 2, 2, 1, 0, 2, 1, 2, 3, 1, 1, 0,\n",
              "       3, 1, 2, 2, 2, 3, 0, 0, 0, 3, 0, 3, 1, 2, 0, 0, 0, 1, 2, 1, 1, 2,\n",
              "       3, 2, 1, 2, 3, 0, 0, 1, 2, 0, 3, 1, 3, 0, 0, 3, 0, 2, 1, 0, 3, 2,\n",
              "       3, 1, 2, 2, 0, 3, 2, 0, 1, 1, 1, 3, 1, 1, 2, 0, 2, 3, 2, 2, 0, 1,\n",
              "       0, 1, 0, 1, 0, 3, 2, 3, 2, 3, 2, 0, 0, 0, 1, 2, 2, 2, 2, 0, 3, 1,\n",
              "       0, 0, 3, 3, 1, 2, 2, 2, 0, 3, 2, 2, 0, 2, 1, 2, 2, 2, 1, 2, 0, 1,\n",
              "       0, 0, 0, 2, 0, 1, 0, 3, 0, 0, 1, 1, 3, 3, 2, 3, 2, 3, 3, 3, 2, 0,\n",
              "       2, 0, 2, 3, 3, 2, 1, 1, 0, 3, 2, 1, 0, 1, 2, 0, 3, 2, 1, 2, 0, 3,\n",
              "       3, 3, 2, 1, 0, 1, 1, 1, 2, 1, 0, 2, 0, 3, 3, 2, 1, 2, 2, 1, 3, 2,\n",
              "       1, 1, 2, 1, 0, 3, 1, 2, 2, 0, 0, 1, 2, 2, 1, 3, 3, 2, 1, 1, 0, 0,\n",
              "       1, 2, 2, 1, 1, 1, 3, 3, 1, 1, 3, 1, 1, 2, 1, 0, 1, 2, 0, 1, 1, 2,\n",
              "       0, 3, 2, 2, 0, 1, 0, 1, 2, 2, 2, 0, 3, 2, 0, 2, 2, 3, 0, 0, 1, 2,\n",
              "       0, 2, 2, 1, 1, 1, 3, 2, 0, 0, 3, 3, 1, 3, 0, 1, 2, 2, 0, 1, 2, 2,\n",
              "       1, 2, 1, 2, 1, 0, 0, 0, 3, 2, 0, 2, 2, 1, 3, 1, 3, 2, 1, 0, 0, 0,\n",
              "       1, 2, 0, 3, 3, 1, 2, 3, 0, 2])"
            ]
          },
          "metadata": {
            "tags": []
          },
          "execution_count": 214
        }
      ]
    },
    {
      "cell_type": "code",
      "metadata": {
        "colab": {
          "base_uri": "https://localhost:8080/"
        },
        "id": "O47paJK6my2T",
        "outputId": "98b8639e-2231-4ec2-ed72-3907ca45ffd6"
      },
      "source": [
        "X_train.shape"
      ],
      "execution_count": null,
      "outputs": [
        {
          "output_type": "execute_result",
          "data": {
            "text/plain": [
              "(560, 300)"
            ]
          },
          "metadata": {
            "tags": []
          },
          "execution_count": 215
        }
      ]
    },
    {
      "cell_type": "code",
      "metadata": {
        "colab": {
          "base_uri": "https://localhost:8080/"
        },
        "id": "DsW8l8etm0dB",
        "outputId": "f87ac15e-5324-437a-e2f9-7a77fd50faee"
      },
      "source": [
        "y_train.shape"
      ],
      "execution_count": null,
      "outputs": [
        {
          "output_type": "execute_result",
          "data": {
            "text/plain": [
              "(560,)"
            ]
          },
          "metadata": {
            "tags": []
          },
          "execution_count": 216
        }
      ]
    },
    {
      "cell_type": "code",
      "metadata": {
        "id": "hY7xg74c4BnC"
      },
      "source": [
        "g_nb.fit(X_train, y_train)\n",
        "g_nb_pred = g_nb.predict(X_test)"
      ],
      "execution_count": null,
      "outputs": []
    },
    {
      "cell_type": "code",
      "metadata": {
        "colab": {
          "base_uri": "https://localhost:8080/"
        },
        "id": "8n5veJUBFk4x",
        "outputId": "33c3a171-00cb-4604-9a0d-1a5b73f5d4a6"
      },
      "source": [
        "g_nb_pred"
      ],
      "execution_count": null,
      "outputs": [
        {
          "output_type": "execute_result",
          "data": {
            "text/plain": [
              "array([1, 1, 1, 1, 3, 1, 0, 1, 1, 3, 1, 1, 1, 1, 1, 1, 1, 1, 1, 1, 3, 1,\n",
              "       1, 1, 1, 3, 1, 1, 1, 1, 1, 1, 1, 1, 1, 1, 1, 1, 1, 1, 1, 1, 1, 1,\n",
              "       1, 3, 1, 1, 1, 3, 1, 1, 1, 1, 1, 1, 1, 1, 3, 1, 3, 1, 1, 1, 1, 1,\n",
              "       1, 1, 1, 1, 1, 1, 1, 1, 1, 3, 1, 3, 1, 1, 1, 1, 1, 1, 1, 1, 1, 1,\n",
              "       1, 1, 1, 1, 1, 1, 1, 1, 3, 1, 1, 1, 1, 1, 3, 3, 1, 1, 1, 1, 1, 1,\n",
              "       1, 1, 1, 1, 1, 1, 1, 1, 1, 3, 1, 3, 1, 3, 1, 1, 1, 1, 3, 1, 1, 3,\n",
              "       1, 1, 1, 3, 1, 1, 1, 1])"
            ]
          },
          "metadata": {
            "tags": []
          },
          "execution_count": 218
        }
      ]
    },
    {
      "cell_type": "code",
      "metadata": {
        "colab": {
          "base_uri": "https://localhost:8080/"
        },
        "id": "nwOeswkU77np",
        "outputId": "cf09bed6-aacb-49b5-b046-c59b4e3069ba"
      },
      "source": [
        "print(classification_report(g_nb_pred,y_test))"
      ],
      "execution_count": null,
      "outputs": [
        {
          "output_type": "stream",
          "text": [
            "              precision    recall  f1-score   support\n",
            "\n",
            "           0       0.00      0.00      0.00         1\n",
            "           1       0.96      0.42      0.59       120\n",
            "           2       0.00      0.00      0.00         0\n",
            "           3       0.35      0.42      0.38        19\n",
            "\n",
            "    accuracy                           0.42       140\n",
            "   macro avg       0.33      0.21      0.24       140\n",
            "weighted avg       0.87      0.42      0.56       140\n",
            "\n"
          ],
          "name": "stdout"
        },
        {
          "output_type": "stream",
          "text": [
            "/usr/local/lib/python3.7/dist-packages/sklearn/metrics/_classification.py:1272: UndefinedMetricWarning: Recall and F-score are ill-defined and being set to 0.0 in labels with no true samples. Use `zero_division` parameter to control this behavior.\n",
            "  _warn_prf(average, modifier, msg_start, len(result))\n"
          ],
          "name": "stderr"
        }
      ]
    },
    {
      "cell_type": "code",
      "metadata": {
        "id": "Uyq0Xu9aCBCs"
      },
      "source": [
        "sentiment -> case study로 \n",
        "발표: 왜 연구를 했는가\n",
        "데이터 수집 , 라벨링\n",
        "데이터 분석 설명 : 카테고리별 frequen 단어, 단어별 특징, 단어 뽑기, 시각화\n",
        "예측이 될 것이라 봤다\n",
        "딮러닝을 가지고 학습\n",
        "예측 이렇게했다 : LSTM , RNN, SVM, Randomforest, \n",
        "Svm 토큰화 한다음 word count vecterize \n",
        "logistic 생짜로 hyper 구하지 말고 \n",
        "\n",
        "\n",
        "추가적으로: 뷰티 유투버가 먹방하는 것을 예측해봤다\n",
        "우리 모델이 잘 맞출까?\n",
        "\n",
        "영상 제목 분류\n",
        "영상 댓글 분류\n",
        "->영상의 제작자의 택스트 보다 영상을 보고 텍스트를 다는 사람들의 댓글에 영상에 대한 정보가 더 많을 것이다. \n",
        "->어플리케이션, 활용방법\n",
        "ex) 우리모델을 사용하면 비디오 카테고라이션 자동화를 할때 비디오가 채널에 얽메이지않고 댓글을 보고 하는게 유의미가 있더라. \n",
        "\n",
        "** 왜 필요한가? 가장 중요하다. **문제 설정을 명확하게 하기\n",
        "정확하게 설득을 해야한다. 이게 정말 필요하고, 우리가 꼭 해야했다. \n",
        "\n",
        "딥러닝을 활용한 유투브 영상 댓글 택스트 분석 통한 영상 카테고라이션 자동화\n",
        "\n",
        "\n",
        "->왜 중요? 영상을 올릴 시 해당 영상이 어떤 카테고리에 속하는지 분류 할 수 있다 -> 한계점 : 댓글이 없으면 분류할 수가 없다\n",
        "\n",
        "-> 게임 유투버가 먹방도 찍어서 올리니까, 다이나믹한 상황을 반영하지 못하기 때문, 영상을 분류하는 지표로 댓글을 사용하자\n",
        "-> 썸네일, 타이틀,댓글 분류 머신러닝 모델 넣어서 분류 \n",
        "-> 비디오 카테고라이션이 왜 중요한지? 모든 시스템은 자동화가 되기 때문에 비디오를 분류할때 feature study를 통해서 어떤 게 중요한지 확인해봤다.\n",
        "-> 실제로 title이 카테고리에서 중요하다 : 좀더 효율적으로 \n",
        "-> 비디오 콘텐츠에서 어떤 부분을 카테고라이션에 사용할 수 있을지 확인한거다\n",
        "-> 여러 피쳐를 고려함으로써 상위 5개 댓글 늘려가면 성능이 늘어나기 때문에 \n",
        "-> 영상 기반으로 하고 있지만 댓글을 활용할 수 있더라\n",
        "-> 처음 영상올릴때는 영상, 타이틀 기반 자동 분류가 되는데 거기에 댓글이 추가되면 명확한 카테고라이션이 될 수 있다. \n",
        "->영상이 올라오는 순간에 되어야 의미가 있는건데? 저희가 생각하는거는 처음에는 타이틀가지고 분류되지만 추후에 영상의 댓글이 달릴 수록 저희 모델이 명확한 카테고리로 분류하게 되지 않을까\n",
        "Q.\n"
      ],
      "execution_count": null,
      "outputs": []
    },
    {
      "cell_type": "code",
      "metadata": {
        "id": "5pO--WznCCU8"
      },
      "source": [
        "우리가 해야하는것\n",
        "\n",
        "- class report 너가  - 오늘\n",
        "- svm, logistic 동혁  -  금요일\n",
        "- 각 카테고리별 단어 - 내가 금요일\n",
        "- 시각화 - 분야 별 word cloud - 내가  금요일\n",
        "\n",
        "\n",
        "- case study \n",
        "- 크롤링 ( 유투버 선정 후 운동 유투버 -> 게임 영상)\n",
        "                                뷰티 -> 운동\n",
        "                                게임 -> 운동\n",
        "                                15개  \n",
        "              카테고리 3개 600개 -> 뷰티 게임 운동 \n",
        "              - 일요일까지 마치기 \n",
        "\n",
        "게임 유투버 : 운동하는것 - 게임 \n"
      ],
      "execution_count": null,
      "outputs": []
    },
    {
      "cell_type": "code",
      "metadata": {
        "colab": {
          "base_uri": "https://localhost:8080/"
        },
        "id": "Ww4tqvFmznoM",
        "outputId": "0a38bd6a-2bd3-4a6f-c2cf-05da234e6d0d"
      },
      "source": [
        "sentiment_predict(str(dataset.loc[[30],['comment_text']]))"
      ],
      "execution_count": null,
      "outputs": [
        {
          "output_type": "execute_result",
          "data": {
            "text/plain": [
              "0.22230780124664307"
            ]
          },
          "metadata": {
            "tags": []
          },
          "execution_count": 180
        }
      ]
    },
    {
      "cell_type": "code",
      "metadata": {
        "colab": {
          "base_uri": "https://localhost:8080/"
        },
        "id": "4lDqgRHw008V",
        "outputId": "0987fed9-47b7-43b0-aa65-4abefa26218d"
      },
      "source": [
        "sentiment_predict(str(dataset.loc[[21],['comment_text']]))"
      ],
      "execution_count": null,
      "outputs": [
        {
          "output_type": "execute_result",
          "data": {
            "text/plain": [
              "0.9577650427818298"
            ]
          },
          "metadata": {
            "tags": []
          },
          "execution_count": 182
        }
      ]
    },
    {
      "cell_type": "code",
      "metadata": {
        "colab": {
          "base_uri": "https://localhost:8080/"
        },
        "id": "YtorsYRh1Llm",
        "outputId": "a77b038f-ee91-4a9b-bd5a-764d72ed8576"
      },
      "source": [
        "sentiment_predict(str(dataset.loc[[2],['comment_text']]))"
      ],
      "execution_count": null,
      "outputs": [
        {
          "output_type": "execute_result",
          "data": {
            "text/plain": [
              "0.3401302099227905"
            ]
          },
          "metadata": {
            "tags": []
          },
          "execution_count": 183
        }
      ]
    },
    {
      "cell_type": "code",
      "metadata": {
        "id": "YWu5tRto1VvL"
      },
      "source": [
        "txt = str(dataset.loc[[2],['comment_text']])\n",
        "seq = tokenizer.texts_to_sequences(txt)\n",
        "padded = pad_sequences(seq, maxlen=500)\n",
        "pred = model.predict(padded)\n",
        "labels = [[1., 0., 0.], [0., 1., 0.],[0., 0., 1.]]\n",
        "print(pred)\n",
        "#print(pred, labels[np.argmax(pred)])"
      ],
      "execution_count": null,
      "outputs": []
    },
    {
      "cell_type": "code",
      "metadata": {
        "id": "nsYkwAXwEUAc"
      },
      "source": [
        ""
      ],
      "execution_count": null,
      "outputs": []
    },
    {
      "cell_type": "markdown",
      "metadata": {
        "id": "Os00SusiTq0g"
      },
      "source": [
        "#새로운 데이터 가지고 시험해보기\n",
        "\n",
        "\n",
        "https://www.youtube.com/watch?v=w-ocwcZXLRs 운동 -> 게임\n",
        "https://www.youtube.com/watch?v=bJvM2lUwV7s 게임 -> 운동\n",
        "https://www.youtube.com/watch?v=kLKSX7r4Rjc 운동 -> 게임\n",
        "https://www.youtube.com/watch?v=TulSSsTBZe0 운동 -> 게임\n",
        "https://www.youtube.com/watch?v=9D26DwCGZaY 운동->뷰티\n",
        "https://www.youtube.com/watch?v=YIxospNFYMw 운동 -> 뷰티(패션)\n",
        "https://www.youtube.com/watch?v=uuWF5Odh-Ws 게임 -> 뷰티\n",
        "https://www.youtube.com/watch?v=Shy6hG742A4 게임 -> 뷰티\n",
        "https://www.youtube.com/watch?v=BWioTl2oSmc 게임 -> 운동\n",
        "https://www.youtube.com/watch?v=QwqKpk_ugZ8 게임 -> 운동\n",
        "https://www.youtube.com/watch?v=sVqteRw0D34 게임 -> 운동\n",
        "https://www.youtube.com/watch?v=7RK01KODzOQ 운동 -> 게임\n",
        "https://www.youtube.com/watch?v=NhO4wmCYVDs 운동 -> 게임\n",
        "https://www.youtube.com/watch?v=o_UMB1eP00k 게임 -> 운동\n",
        "https://www.youtube.com/watch?v=0HVOKqI9jg8 운동 -> 뷰티"
      ]
    },
    {
      "cell_type": "code",
      "metadata": {
        "id": "IMEuImj11xAb"
      },
      "source": [
        "df = pd.read_csv('new_target_fin2.csv',encoding='cp949')"
      ],
      "execution_count": null,
      "outputs": []
    },
    {
      "cell_type": "code",
      "metadata": {
        "colab": {
          "base_uri": "https://localhost:8080/",
          "height": 200
        },
        "id": "LhrTo1iARE2d",
        "outputId": "a8207b16-d26a-4483-aaac-5e0bdb59e308"
      },
      "source": [
        "df.head()"
      ],
      "execution_count": null,
      "outputs": [
        {
          "output_type": "execute_result",
          "data": {
            "text/html": [
              "<div>\n",
              "<style scoped>\n",
              "    .dataframe tbody tr th:only-of-type {\n",
              "        vertical-align: middle;\n",
              "    }\n",
              "\n",
              "    .dataframe tbody tr th {\n",
              "        vertical-align: top;\n",
              "    }\n",
              "\n",
              "    .dataframe thead th {\n",
              "        text-align: right;\n",
              "    }\n",
              "</style>\n",
              "<table border=\"1\" class=\"dataframe\">\n",
              "  <thead>\n",
              "    <tr style=\"text-align: right;\">\n",
              "      <th></th>\n",
              "      <th>title</th>\n",
              "      <th>view</th>\n",
              "      <th>like</th>\n",
              "      <th>unlike</th>\n",
              "      <th>comment</th>\n",
              "      <th>date</th>\n",
              "      <th>comment_text</th>\n",
              "      <th>label</th>\n",
              "    </tr>\n",
              "  </thead>\n",
              "  <tbody>\n",
              "    <tr>\n",
              "      <th>0</th>\n",
              "      <td>헬스장 열 때까지 협곡에서 운동할게요</td>\n",
              "      <td>475608</td>\n",
              "      <td>6000</td>\n",
              "      <td>134</td>\n",
              "      <td>1403</td>\n",
              "      <td>2021.1.11</td>\n",
              "      <td>그래서 이 형 티어 어디임 이게 웃긴데  여러분 견갑골은 이렇게 닫아야 해요 전설의...</td>\n",
              "      <td>1</td>\n",
              "    </tr>\n",
              "    <tr>\n",
              "      <th>1</th>\n",
              "      <td>[4K] 롤붕 형아랑 가슴 운동할까</td>\n",
              "      <td>179700</td>\n",
              "      <td>2000</td>\n",
              "      <td>36</td>\n",
              "      <td>558</td>\n",
              "      <td>2021.3.27</td>\n",
              "      <td>코뚱이가 바벨 만지니까 바벨도 헤으응이러네 플랫벤치 최소셋 덤벨프레스 최소 셋 친업...</td>\n",
              "      <td>2</td>\n",
              "    </tr>\n",
              "    <tr>\n",
              "      <th>2</th>\n",
              "      <td>페이커님 꼭 봐주세요</td>\n",
              "      <td>1387952</td>\n",
              "      <td>2000</td>\n",
              "      <td>409</td>\n",
              "      <td>6250</td>\n",
              "      <td>2020.8.18</td>\n",
              "      <td>그래서 계란님 티어가 와 그래서 숙소에 초 절 정 스미스머신이 있구나 경험자로써 댓...</td>\n",
              "      <td>1</td>\n",
              "    </tr>\n",
              "    <tr>\n",
              "      <th>3</th>\n",
              "      <td>도구도 인권이 있다</td>\n",
              "      <td>174941</td>\n",
              "      <td>2000</td>\n",
              "      <td>43</td>\n",
              "      <td>1026</td>\n",
              "      <td>2021.2.5</td>\n",
              "      <td>도구가 말을하네 대 이상만 듀오가능 핑 찍을 때 마다 대흉근 꼼지락 거리는거 웃기네...</td>\n",
              "      <td>1</td>\n",
              "    </tr>\n",
              "    <tr>\n",
              "      <th>4</th>\n",
              "      <td>똥손대결 투표해주세요오^^</td>\n",
              "      <td>61872</td>\n",
              "      <td>676</td>\n",
              "      <td>22</td>\n",
              "      <td>122</td>\n",
              "      <td>2021.3.10</td>\n",
              "      <td>전신을 단련하느라 손재주를 잃었습니다 솔직히 나 진짜 한 대 맞은 메이크업이다 진심...</td>\n",
              "      <td>0</td>\n",
              "    </tr>\n",
              "  </tbody>\n",
              "</table>\n",
              "</div>"
            ],
            "text/plain": [
              "                  title  ...  label\n",
              "0  헬스장 열 때까지 협곡에서 운동할게요  ...      1\n",
              "1   [4K] 롤붕 형아랑 가슴 운동할까  ...      2\n",
              "2           페이커님 꼭 봐주세요  ...      1\n",
              "3            도구도 인권이 있다  ...      1\n",
              "4        똥손대결 투표해주세요오^^  ...      0\n",
              "\n",
              "[5 rows x 8 columns]"
            ]
          },
          "metadata": {
            "tags": []
          },
          "execution_count": 99
        }
      ]
    },
    {
      "cell_type": "code",
      "metadata": {
        "colab": {
          "base_uri": "https://localhost:8080/"
        },
        "id": "7FFM39slXfWr",
        "outputId": "c1886d6b-f5e9-424a-8df0-157a428df16b"
      },
      "source": [
        "df['title']"
      ],
      "execution_count": null,
      "outputs": [
        {
          "output_type": "execute_result",
          "data": {
            "text/plain": [
              "0                                  헬스장 열 때까지 협곡에서 운동할게요\n",
              "1                                   [4K] 롤붕 형아랑 가슴 운동할까\n",
              "2                                           페이커님 꼭 봐주세요\n",
              "3                                            도구도 인권이 있다\n",
              "4                                        똥손대결 투표해주세요오^^\n",
              "5                                몸짱들이 사복을 입으면 핏이 정말 좋을까\n",
              "6             이러니까 인스타랑 똑같은데요 [왓츠인마이백/What's in my bag]\n",
              "7     유소나] 소나의 애정하는 화장품 공개 치약부터 바디까지 이거 진짜 좋아요 (feat...\n",
              "8              sub) 게임만 10년한 남자의 -30kg 다이어트  -30kg DIET\n",
              "9                         [4K] 3대 660 현실 드레이븐 가벼운 가슴 운동\n",
              "10                                   헬창이 되고싶었던 한 오이의 도전\n",
              "11                                   3대 660한테 정치질이 통하겠냐\n",
              "12                                  '롤'하면 다른 인격이 나오는 남자\n",
              "13    헬스장 PT 아르바이트트레이너가 무슨 일을 하는지 알아보자 시급 10000원 [테스터훈]\n",
              "14                           SNS 셀카용 청순메이크업 도전기 (메알못 팁)\n",
              "Name: title, dtype: object"
            ]
          },
          "metadata": {
            "tags": []
          },
          "execution_count": 117
        }
      ]
    },
    {
      "cell_type": "code",
      "metadata": {
        "colab": {
          "base_uri": "https://localhost:8080/"
        },
        "id": "Imqe8L1-Ubkf",
        "outputId": "904cca1f-217e-4107-e8c3-fef42c550bc3"
      },
      "source": [
        "len(df)"
      ],
      "execution_count": null,
      "outputs": [
        {
          "output_type": "execute_result",
          "data": {
            "text/plain": [
              "15"
            ]
          },
          "metadata": {
            "tags": []
          },
          "execution_count": 100
        }
      ]
    },
    {
      "cell_type": "code",
      "metadata": {
        "id": "NkiNOOP2RMbV"
      },
      "source": [
        "X1  = dataset['comment_text']\n",
        "y1  = dataset['label']"
      ],
      "execution_count": null,
      "outputs": []
    },
    {
      "cell_type": "code",
      "metadata": {
        "colab": {
          "base_uri": "https://localhost:8080/"
        },
        "id": "th0rn2B-UBsj",
        "outputId": "e3fc04d8-afcf-445c-9199-ea0f02d68a8e"
      },
      "source": [
        "df.drop_duplicates(subset = ['comment_text'], inplace=True) # document 열에서 중복인 내용이 있다면 중복 제거\n",
        "df['comment_text'] = df['comment_text'].str.replace(\"[^ㄱ-ㅎㅏ-ㅣ가-힣 ]\",\"\") # 정규 표현식 수행\n",
        "df['comment_text'] = df['comment_text'].str.replace('^ +', \"\") # 공백은 empty 값으로 변경\n",
        "df['comment_text'].replace('', np.nan, inplace=True) # 공백은 Null 값으로 변경\n",
        "df = df.dropna(how='any') # Null 값 제거\n",
        "print('전처리 후 테스트용 샘플의 개수 :',len(df))"
      ],
      "execution_count": null,
      "outputs": [
        {
          "output_type": "stream",
          "text": [
            "전처리 후 테스트용 샘플의 개수 : 15\n"
          ],
          "name": "stdout"
        }
      ]
    },
    {
      "cell_type": "code",
      "metadata": {
        "id": "WQuvBU3jUONL"
      },
      "source": [
        "X_test1 = []\n",
        "for sentence in df['comment_text']:\n",
        "    temp_X = okt.morphs(sentence, stem=True) # 토큰화\n",
        "    temp_X = [word for word in temp_X if not word in stopwords] # 불용어 제거\n",
        "    X_test1.append(temp_X)"
      ],
      "execution_count": null,
      "outputs": []
    },
    {
      "cell_type": "code",
      "metadata": {
        "id": "UcDBJHNYUp-A"
      },
      "source": [
        "X_test1 = tokenizer.texts_to_sequences(X_test1)"
      ],
      "execution_count": null,
      "outputs": []
    },
    {
      "cell_type": "code",
      "metadata": {
        "id": "E98keFmfU0IU"
      },
      "source": [
        "\n",
        "y_test1 = np.array(df['label'])"
      ],
      "execution_count": null,
      "outputs": []
    },
    {
      "cell_type": "code",
      "metadata": {
        "colab": {
          "base_uri": "https://localhost:8080/"
        },
        "id": "KS2-ZoPPV2xJ",
        "outputId": "3f249f99-99c3-4630-9316-f46de51d32db"
      },
      "source": [
        "y_test1"
      ],
      "execution_count": null,
      "outputs": [
        {
          "output_type": "execute_result",
          "data": {
            "text/plain": [
              "array([1, 2, 1, 1, 0, 0, 0, 0, 2, 2, 2, 1, 1, 2, 0])"
            ]
          },
          "metadata": {
            "tags": []
          },
          "execution_count": 107
        }
      ]
    },
    {
      "cell_type": "code",
      "metadata": {
        "id": "0uCmP3ErU7E6"
      },
      "source": [
        "X_test1 = pad_sequences(X_test1, maxlen = max_len)"
      ],
      "execution_count": null,
      "outputs": []
    },
    {
      "cell_type": "code",
      "metadata": {
        "colab": {
          "base_uri": "https://localhost:8080/"
        },
        "id": "qaN4TPB3VCdj",
        "outputId": "40950bff-2f7c-4aec-cf00-3795dba98398"
      },
      "source": [
        "X_test1.shape"
      ],
      "execution_count": null,
      "outputs": [
        {
          "output_type": "execute_result",
          "data": {
            "text/plain": [
              "(15, 400)"
            ]
          },
          "metadata": {
            "tags": []
          },
          "execution_count": 109
        }
      ]
    },
    {
      "cell_type": "code",
      "metadata": {
        "id": "ixZyDpdzVEVm"
      },
      "source": [
        "y_pred1 = model.predict(X_test1)"
      ],
      "execution_count": null,
      "outputs": []
    },
    {
      "cell_type": "code",
      "metadata": {
        "id": "Sx-2MWVmVMFM"
      },
      "source": [
        "y_pred_1 = []\n",
        "for i in range(len(y_pred1)):\n",
        "  arg = np.argmax(y_pred1[i])\n",
        "  y_pred_1.append(arg)"
      ],
      "execution_count": null,
      "outputs": []
    },
    {
      "cell_type": "code",
      "metadata": {
        "colab": {
          "base_uri": "https://localhost:8080/"
        },
        "id": "yAFFhVC3VmFS",
        "outputId": "a8178afe-0b00-433d-e8d4-09720c5ee6a4"
      },
      "source": [
        "y_pred_1"
      ],
      "execution_count": null,
      "outputs": [
        {
          "output_type": "execute_result",
          "data": {
            "text/plain": [
              "[3, 2, 2, 2, 1, 2, 2, 0, 2, 2, 2, 2, 3, 1, 1]"
            ]
          },
          "metadata": {
            "tags": []
          },
          "execution_count": 112
        }
      ]
    },
    {
      "cell_type": "code",
      "metadata": {
        "colab": {
          "base_uri": "https://localhost:8080/"
        },
        "id": "MfK0O3ooVpZZ",
        "outputId": "18279db9-2437-4cfc-a621-3a1c6c9e9aed"
      },
      "source": [
        "y_test1"
      ],
      "execution_count": null,
      "outputs": [
        {
          "output_type": "execute_result",
          "data": {
            "text/plain": [
              "array([1, 2, 1, 1, 0, 0, 0, 0, 2, 2, 2, 1, 1, 2, 0])"
            ]
          },
          "metadata": {
            "tags": []
          },
          "execution_count": 113
        }
      ]
    },
    {
      "cell_type": "code",
      "metadata": {
        "colab": {
          "base_uri": "https://localhost:8080/"
        },
        "id": "zh6L6PXZVQyF",
        "outputId": "e3e5b7c0-89bc-4af2-d0c5-f272364bf3c4"
      },
      "source": [
        "print(classification_report(y_pred_1,y_test1))"
      ],
      "execution_count": null,
      "outputs": [
        {
          "output_type": "stream",
          "text": [
            "              precision    recall  f1-score   support\n",
            "\n",
            "           0       0.20      1.00      0.33         1\n",
            "           1       0.00      0.00      0.00         3\n",
            "           2       0.80      0.44      0.57         9\n",
            "           3       0.00      0.00      0.00         2\n",
            "\n",
            "    accuracy                           0.33        15\n",
            "   macro avg       0.25      0.36      0.23        15\n",
            "weighted avg       0.49      0.33      0.37        15\n",
            "\n"
          ],
          "name": "stdout"
        },
        {
          "output_type": "stream",
          "text": [
            "/usr/local/lib/python3.7/dist-packages/sklearn/metrics/_classification.py:1272: UndefinedMetricWarning: Precision and F-score are ill-defined and being set to 0.0 in labels with no predicted samples. Use `zero_division` parameter to control this behavior.\n",
            "  _warn_prf(average, modifier, msg_start, len(result))\n"
          ],
          "name": "stderr"
        }
      ]
    },
    {
      "cell_type": "code",
      "metadata": {
        "id": "LrdKwUk9Ce1D"
      },
      "source": [
        "#댓글을 같이 고려하여 테스트 할시"
      ],
      "execution_count": null,
      "outputs": []
    },
    {
      "cell_type": "code",
      "metadata": {
        "id": "1S3G3vK0Ceyp"
      },
      "source": [
        "df = pd.read_csv('new_target_fin2.csv',encoding='cp949')"
      ],
      "execution_count": null,
      "outputs": []
    },
    {
      "cell_type": "code",
      "metadata": {
        "colab": {
          "base_uri": "https://localhost:8080/",
          "height": 285
        },
        "id": "iopEzl1wD0Uf",
        "outputId": "547d15a2-cd98-4f92-b4ab-e01ae3c82212"
      },
      "source": [
        "df.head()"
      ],
      "execution_count": null,
      "outputs": [
        {
          "output_type": "execute_result",
          "data": {
            "text/html": [
              "<div>\n",
              "<style scoped>\n",
              "    .dataframe tbody tr th:only-of-type {\n",
              "        vertical-align: middle;\n",
              "    }\n",
              "\n",
              "    .dataframe tbody tr th {\n",
              "        vertical-align: top;\n",
              "    }\n",
              "\n",
              "    .dataframe thead th {\n",
              "        text-align: right;\n",
              "    }\n",
              "</style>\n",
              "<table border=\"1\" class=\"dataframe\">\n",
              "  <thead>\n",
              "    <tr style=\"text-align: right;\">\n",
              "      <th></th>\n",
              "      <th>title</th>\n",
              "      <th>view</th>\n",
              "      <th>like</th>\n",
              "      <th>unlike</th>\n",
              "      <th>comment</th>\n",
              "      <th>date</th>\n",
              "      <th>comment_text</th>\n",
              "      <th>label</th>\n",
              "      <th>tokenized</th>\n",
              "    </tr>\n",
              "  </thead>\n",
              "  <tbody>\n",
              "    <tr>\n",
              "      <th>0</th>\n",
              "      <td>헬스장 열 때까지 협곡에서 운동할게요</td>\n",
              "      <td>475608</td>\n",
              "      <td>6000</td>\n",
              "      <td>134</td>\n",
              "      <td>1403</td>\n",
              "      <td>2021.1.11</td>\n",
              "      <td>그래서 이 형 티어 어디임 이게 웃긴데  여러분 견갑골은 이렇게 닫아야 해요 전설의...</td>\n",
              "      <td>1</td>\n",
              "      <td>헬스장 열 때까지 협곡에서 운동할게요그래서 이 형 티어 어디임 이게 웃긴데  여러분...</td>\n",
              "    </tr>\n",
              "    <tr>\n",
              "      <th>1</th>\n",
              "      <td>[4K] 롤붕 형아랑 가슴 운동할까</td>\n",
              "      <td>179700</td>\n",
              "      <td>2000</td>\n",
              "      <td>36</td>\n",
              "      <td>558</td>\n",
              "      <td>2021.3.27</td>\n",
              "      <td>코뚱이가 바벨 만지니까 바벨도 헤으응이러네 플랫벤치 최소셋 덤벨프레스 최소 셋 친업...</td>\n",
              "      <td>2</td>\n",
              "      <td>롤붕 형아랑 가슴 운동할까코뚱이가 바벨 만지니까 바벨도 헤으응이러네 플랫벤치 최소셋...</td>\n",
              "    </tr>\n",
              "    <tr>\n",
              "      <th>2</th>\n",
              "      <td>페이커님 꼭 봐주세요</td>\n",
              "      <td>1387952</td>\n",
              "      <td>2000</td>\n",
              "      <td>409</td>\n",
              "      <td>6250</td>\n",
              "      <td>2020.8.18</td>\n",
              "      <td>그래서 계란님 티어가 와 그래서 숙소에 초 절 정 스미스머신이 있구나 경험자로써 댓...</td>\n",
              "      <td>1</td>\n",
              "      <td>페이커님 꼭 봐주세요그래서 계란님 티어가 와 그래서 숙소에 초 절 정 스미스머신이 ...</td>\n",
              "    </tr>\n",
              "    <tr>\n",
              "      <th>3</th>\n",
              "      <td>도구도 인권이 있다</td>\n",
              "      <td>174941</td>\n",
              "      <td>2000</td>\n",
              "      <td>43</td>\n",
              "      <td>1026</td>\n",
              "      <td>2021.2.5</td>\n",
              "      <td>도구가 말을하네 대 이상만 듀오가능 핑 찍을 때 마다 대흉근 꼼지락 거리는거 웃기네...</td>\n",
              "      <td>1</td>\n",
              "      <td>도구도 인권이 있다도구가 말을하네 대 이상만 듀오가능 핑 찍을 때 마다 대흉근 꼼지...</td>\n",
              "    </tr>\n",
              "    <tr>\n",
              "      <th>4</th>\n",
              "      <td>똥손대결 투표해주세요오^^</td>\n",
              "      <td>61872</td>\n",
              "      <td>676</td>\n",
              "      <td>22</td>\n",
              "      <td>122</td>\n",
              "      <td>2021.3.10</td>\n",
              "      <td>전신을 단련하느라 손재주를 잃었습니다 솔직히 나 진짜 한 대 맞은 메이크업이다 진심...</td>\n",
              "      <td>0</td>\n",
              "      <td>똥손대결 투표해주세요오전신을 단련하느라 손재주를 잃었습니다 솔직히 나 진짜 한 대 ...</td>\n",
              "    </tr>\n",
              "  </tbody>\n",
              "</table>\n",
              "</div>"
            ],
            "text/plain": [
              "                  title  ...                                          tokenized\n",
              "0  헬스장 열 때까지 협곡에서 운동할게요  ...  헬스장 열 때까지 협곡에서 운동할게요그래서 이 형 티어 어디임 이게 웃긴데  여러분...\n",
              "1   [4K] 롤붕 형아랑 가슴 운동할까  ...  롤붕 형아랑 가슴 운동할까코뚱이가 바벨 만지니까 바벨도 헤으응이러네 플랫벤치 최소셋...\n",
              "2           페이커님 꼭 봐주세요  ...  페이커님 꼭 봐주세요그래서 계란님 티어가 와 그래서 숙소에 초 절 정 스미스머신이 ...\n",
              "3            도구도 인권이 있다  ...  도구도 인권이 있다도구가 말을하네 대 이상만 듀오가능 핑 찍을 때 마다 대흉근 꼼지...\n",
              "4        똥손대결 투표해주세요오^^  ...  똥손대결 투표해주세요오전신을 단련하느라 손재주를 잃었습니다 솔직히 나 진짜 한 대 ...\n",
              "\n",
              "[5 rows x 9 columns]"
            ]
          },
          "metadata": {
            "tags": []
          },
          "execution_count": 231
        }
      ]
    },
    {
      "cell_type": "code",
      "metadata": {
        "id": "gtEObZBMCewY"
      },
      "source": [
        "df['tokenized'] = df['title'] + df['comment_text']"
      ],
      "execution_count": null,
      "outputs": []
    },
    {
      "cell_type": "code",
      "metadata": {
        "colab": {
          "base_uri": "https://localhost:8080/",
          "height": 124
        },
        "id": "YKY4Z7_RXvB3",
        "outputId": "3beafd6e-5558-4794-a1fb-5c1aeb285a14"
      },
      "source": [
        "df['tokenized'].iloc[0]"
      ],
      "execution_count": null,
      "outputs": [
        {
          "output_type": "execute_result",
          "data": {
            "application/vnd.google.colaboratory.intrinsic+json": {
              "type": "string"
            },
            "text/plain": [
              "'헬스장 열 때까지 협곡에서 운동할게요그래서 이 형 티어 어디임 이게 웃긴데  여러분 견갑골은 이렇게 닫아야 해요 전설의 쌉소리장인  전체적으로 리엑션 꿀잼이네 말서준  새해 첫 마프대란 일정 월 일 일 월 일 월 이벤트 내용 전제품 최대 타임세일 특가할인코드 입력시 추가 할인 추천의류 구매시 최종결제금액 추가 자동할인 만원만원만원이상 구매시 사은품 증정 마이프로틴 말왕 구독자 이벤트 월일 월 일 타임세일 기간 중 말왕 링크를 통하여 구매를 완료한 고객들 중 총 명을 선정하여 하기 상품을 제공합니다 마이프로틴 만원 할인권 명 마이프로틴 만원 할인권 명 마이프로틴만원 할인권 명 마이프로틴 원더 우먼 한정판 박스 명 크리스마스 선물 이벤트 당첨자 명단 응 일겜 도 잘먹고 상황파악도 잘하는데 몸이 안따라주네형도 늙었다 오빠 좀 더 격하게 해줘 영상 간결 요약 의상 울짖마 편집 인트로 괴물쥐 유행어 저라뎃 코뚱이 울부지는 괴뚱말왕 오우 저치기 진짜 거짓말 안하고 썸네일만 보고 울짖마인줄 알고 들어왔습니다 '"
            ]
          },
          "metadata": {
            "tags": []
          },
          "execution_count": 122
        }
      ]
    },
    {
      "cell_type": "code",
      "metadata": {
        "colab": {
          "base_uri": "https://localhost:8080/",
          "height": 124
        },
        "id": "HloSLks_X3TD",
        "outputId": "e0eccba0-361a-4875-fcb9-dff68c3c7d29"
      },
      "source": [
        "df['tokenized'].iloc[2]"
      ],
      "execution_count": null,
      "outputs": [
        {
          "output_type": "execute_result",
          "data": {
            "application/vnd.google.colaboratory.intrinsic+json": {
              "type": "string"
            },
            "text/plain": [
              "'페이커님 꼭 봐주세요그래서 계란님 티어가 와 그래서 숙소에 초 절 정 스미스머신이 있구나 경험자로써 댓글적습니다 하루에 평균시간씩 게임하는 프로게이머 기준으로 시간씩 운동꾸준히 해주면 게임할때 집중이 더잘됩니다 결론 휴식도 좋지만 하루 한시간씩만 시간내서 기본운동만 해줘도 게임할때 더 집중을잘할수있다  운동을 하면 편집 집중력도 늘어나는거죠 라이즈가 설명하니깐 확 믿음이 가네 니 버려 우리 할머니가 그것보단 잘 먹겠다 아이상한데 해설 전 서포터 출신입니다 최근에 운동시작해서 대 정도 치는데 운동하고 나면 그랩각 더 잘보입니다 근데 노안와서 티어는 못올라갑니다 그럼이만 형님 말씀하실때 따봉가위보자기 반복하시는 이유가 궁금합니다 공원뛰러감 상담 문의 드립니다 연락 주세요 그렇게 페이커는 무사트 기에 도전하게 되고 저 대 인데 브론즈인데요 방금도 운동 끝나고 상쾌하게 트롤링 두 판 했습니다 운동을 하면 를 더 잘 먹을수 있다 페이커가 를 놓치는 경우가 있다 페이커보고 봐달라고하는 제목이다 가짜사나이는 운동이다 페이커보고 가짜사나이에 와달라는거다 이거보고있는 양시경 같이 롤하자 '"
            ]
          },
          "metadata": {
            "tags": []
          },
          "execution_count": 123
        }
      ]
    },
    {
      "cell_type": "code",
      "metadata": {
        "colab": {
          "base_uri": "https://localhost:8080/",
          "height": 35
        },
        "id": "cJQ0DBEqY6pR",
        "outputId": "0dd8f256-258e-4d1f-a051-fa30c26c03e0"
      },
      "source": [
        "df['title'].iloc[2]"
      ],
      "execution_count": null,
      "outputs": [
        {
          "output_type": "execute_result",
          "data": {
            "application/vnd.google.colaboratory.intrinsic+json": {
              "type": "string"
            },
            "text/plain": [
              "'페이커님 꼭 봐주세요'"
            ]
          },
          "metadata": {
            "tags": []
          },
          "execution_count": 126
        }
      ]
    },
    {
      "cell_type": "code",
      "metadata": {
        "colab": {
          "base_uri": "https://localhost:8080/",
          "height": 106
        },
        "id": "HTrHqke0X7d_",
        "outputId": "01fee272-6ed2-4a7c-f09c-b25b835fcd7f"
      },
      "source": [
        "df['tokenized'].iloc[13]"
      ],
      "execution_count": null,
      "outputs": [
        {
          "output_type": "execute_result",
          "data": {
            "application/vnd.google.colaboratory.intrinsic+json": {
              "type": "string"
            },
            "text/plain": [
              "'헬스장 PT 아르바이트트레이너가 무슨 일을 하는지 알아보자 시급 10000원 [테스터훈]오빠 이제 진짜 운동 좀 하자 알바훈이 아니라 헬스훈 컨텐츠 하나 만들어야겠네 형이렇게 몸이 컸었나 일어나있는거보니까 개크다 저 안마기 멈추는거 겁나게 웃기네원래 안 멈추지않나 돌아온 아르바이트훈 시즌 테스터훈의 다음 아르바이트는 어디로 갈지 기대 많이 해주세요 직접 찾아갑니다 영상 재밌게 보셨다면 좋아요 구독하기 알람설정 레츠기릿 트레이너님 가만히 있으시면 근손실 일어납니다 저렇게 말해줘도 참 안타깝다 형 진지해져봐 좀 갑자기 트월킹 조지네 아 진짜 여기보고 한참 뿜었다 표정 웃기네 겁나 웃기네 환장 정말믿음직한트레이너테스터훈 재밌게 보다가도 중간 중간 심각하게 지켜보게 되더라 형이젠 건강 챙기자 체중 증가 목적이면 등 트레이너훈 형 어쩨 남자한테는 달라붙고 여자한테는 떨어져있다 형 설마 에이설마 '"
            ]
          },
          "metadata": {
            "tags": []
          },
          "execution_count": 125
        }
      ]
    },
    {
      "cell_type": "code",
      "metadata": {
        "id": "uAWZfYg3Y_xG",
        "colab": {
          "base_uri": "https://localhost:8080/",
          "height": 35
        },
        "outputId": "b1f09645-0447-4926-e3d8-637a4a8b171c"
      },
      "source": [
        "df['title'].iloc[13]"
      ],
      "execution_count": null,
      "outputs": [
        {
          "output_type": "execute_result",
          "data": {
            "application/vnd.google.colaboratory.intrinsic+json": {
              "type": "string"
            },
            "text/plain": [
              "'헬스장 PT 아르바이트트레이너가 무슨 일을 하는지 알아보자 시급 10000원 [테스터훈]'"
            ]
          },
          "metadata": {
            "tags": []
          },
          "execution_count": 128
        }
      ]
    },
    {
      "cell_type": "code",
      "metadata": {
        "colab": {
          "base_uri": "https://localhost:8080/"
        },
        "id": "YAO0fLlmDnLz",
        "outputId": "2280e37e-7935-4226-b7d2-2265a0cb0908"
      },
      "source": [
        "df['tokenized'] "
      ],
      "execution_count": null,
      "outputs": [
        {
          "output_type": "execute_result",
          "data": {
            "text/plain": [
              "0     헬스장 열 때까지 협곡에서 운동할게요그래서 이 형 티어 어디임 이게 웃긴데  여러분...\n",
              "1     롤붕 형아랑 가슴 운동할까코뚱이가 바벨 만지니까 바벨도 헤으응이러네 플랫벤치 최소셋...\n",
              "2     페이커님 꼭 봐주세요그래서 계란님 티어가 와 그래서 숙소에 초 절 정 스미스머신이 ...\n",
              "3     도구도 인권이 있다도구가 말을하네 대 이상만 듀오가능 핑 찍을 때 마다 대흉근 꼼지...\n",
              "4     똥손대결 투표해주세요오전신을 단련하느라 손재주를 잃었습니다 솔직히 나 진짜 한 대 ...\n",
              "5     몸짱들이 사복을 입으면 핏이 정말 좋을까 등은 지피티로 하겠습니다 떼아가 등인걸로 ...\n",
              "6     이러니까 인스타랑 똑같은데요 왓츠인마이백   괴물쥐와 수야의 공통점 현재 장기휴방 ...\n",
              "7     유소나 소나의 애정하는 화장품 공개 치약부터 바디까지 이거 진짜 좋아요 시드물 시드...\n",
              "8     게임만 년한 남자의  다이어트   여러분 저는 이제 시작입니다 끝이아니고 이제 시작...\n",
              "9     대  현실 드레이븐 가벼운 가슴 운동풀템잭스 무섭다 드레이븐이 왜 소환사님 말을 잘...\n",
              "10    헬창이 되고싶었던 한 오이의 도전한미 연합군에 대항하기위해 훈련중인 과로사 로사는 ...\n",
              "11    대 한테 정치질이 통하겠냐야 누가 이 형 헬스장 보내줘라 쫌 모 컽 어째 운동방송보...\n",
              "12    롤하면 다른 인격이 나오는 남자저녁식사중 최고의 지원사격 우리한텐 브이로그가 필요해...\n",
              "13    헬스장  아르바이트트레이너가 무슨 일을 하는지 알아보자 시급 원 테스터훈오빠 이제 ...\n",
              "14    셀카용 청순메이크업 도전기 메알못 팁셀카어플은 입니다 메알못이지만 인스타그램에서 많...\n",
              "Name: tokenized, dtype: object"
            ]
          },
          "metadata": {
            "tags": []
          },
          "execution_count": 230
        }
      ]
    },
    {
      "cell_type": "code",
      "metadata": {
        "id": "syTajhJjVjuu",
        "colab": {
          "base_uri": "https://localhost:8080/"
        },
        "outputId": "d5ca7372-0427-48bd-90d4-200f676c9f9b"
      },
      "source": [
        "df.drop_duplicates(subset = ['tokenized'], inplace=True) # document 열에서 중복인 내용이 있다면 중복 제거\n",
        "df['tokenized'] = df['tokenized'].str.replace(\"[^ㄱ-ㅎㅏ-ㅣ가-힣 ]\",\"\") # 정규 표현식 수행\n",
        "df['tokenized'] = df['tokenized'].str.replace('^ +', \"\") # 공백은 empty 값으로 변경\n",
        "df['tokenized'].replace('', np.nan, inplace=True) # 공백은 Null 값으로 변경\n",
        "df = df.dropna(how='any') # Null 값 제거\n",
        "print('전처리 후 테스트용 샘플의 개수 :',len(df))"
      ],
      "execution_count": null,
      "outputs": [
        {
          "output_type": "stream",
          "text": [
            "전처리 후 테스트용 샘플의 개수 : 15\n"
          ],
          "name": "stdout"
        }
      ]
    },
    {
      "cell_type": "code",
      "metadata": {
        "id": "rN7ezwaLCxtm"
      },
      "source": [
        "X_test1 = []\n",
        "for sentence in df['tokenized']:\n",
        "    temp_X = okt.morphs(sentence, stem=True) # 토큰화\n",
        "    temp_X = [word for word in temp_X if not word in stopwords] # 불용어 제거\n",
        "    X_test1.append(temp_X)"
      ],
      "execution_count": null,
      "outputs": []
    },
    {
      "cell_type": "code",
      "metadata": {
        "id": "UdlxCxu-C0hs"
      },
      "source": [
        "X_test1 = tokenizer.texts_to_sequences(X_test1)"
      ],
      "execution_count": null,
      "outputs": []
    },
    {
      "cell_type": "code",
      "metadata": {
        "id": "JeizE3IMC22R"
      },
      "source": [
        "y_test1 = np.array(df['label'])"
      ],
      "execution_count": null,
      "outputs": []
    },
    {
      "cell_type": "code",
      "metadata": {
        "id": "fmFID_COC5zW"
      },
      "source": [
        "X_test1 = pad_sequences(X_test1, maxlen = max_len)"
      ],
      "execution_count": null,
      "outputs": []
    },
    {
      "cell_type": "code",
      "metadata": {
        "id": "ZfPWbDL_C7ei"
      },
      "source": [
        "y_pred1 = model.predict(X_test1)"
      ],
      "execution_count": null,
      "outputs": []
    },
    {
      "cell_type": "code",
      "metadata": {
        "id": "7Qb8Qy8KC9L_"
      },
      "source": [
        "y_pred_1 = []\n",
        "for i in range(len(y_pred1)):\n",
        "  arg = np.argmax(y_pred1[i])\n",
        "  y_pred_1.append(arg)"
      ],
      "execution_count": null,
      "outputs": []
    },
    {
      "cell_type": "code",
      "metadata": {
        "colab": {
          "base_uri": "https://localhost:8080/"
        },
        "id": "MdySYt00C-ng",
        "outputId": "58927c4d-88bb-4235-91f9-a148f78cccd6"
      },
      "source": [
        "print(classification_report(y_pred_1,y_test1))"
      ],
      "execution_count": null,
      "outputs": [
        {
          "output_type": "stream",
          "text": [
            "              precision    recall  f1-score   support\n",
            "\n",
            "           0       0.60      1.00      0.75         3\n",
            "           1       0.40      0.50      0.44         4\n",
            "           2       0.60      0.38      0.46         8\n",
            "\n",
            "    accuracy                           0.53        15\n",
            "   macro avg       0.53      0.62      0.55        15\n",
            "weighted avg       0.55      0.53      0.51        15\n",
            "\n"
          ],
          "name": "stdout"
        }
      ]
    },
    {
      "cell_type": "code",
      "metadata": {
        "id": "tnFyF2adGpk1"
      },
      "source": [
        "#title만 가지고, 학습한 모델로 다시 테스트를 돌려보자 : 댓글의 정보를 가지고 영상의 카테고리를 분류하는것 (운동->게임을 하면 분류가 안되서)\n",
        "#title만 했을때 정확도가 높을 때, 방향을 영상을 분류한다는 자동화한다는 것에 의미를 둔다, title과 댓글을 같이했을때 정확도가 높더라 \n",
        "#모델이 테스터데이터 에서 틀린것, index 추출하여서 확인해보기\n",
        "#15개가 너무 적다->영상의 수가 너무 적다 최소 100개 \n",
        "#유투브 클래스 분류 관련 논문을 정리"
      ],
      "execution_count": null,
      "outputs": []
    },
    {
      "cell_type": "markdown",
      "metadata": {
        "id": "ZSR5UxLbMizv"
      },
      "source": [
        "->왜 중요? 영상을 올릴 시 해당 영상이 어떤 카테고리에 속하는지 분류 할 수 있다 -> 한계점 : 댓글이 없으면 분류할 수가 없다\n",
        "\n",
        "-> 게임 유투버가 먹방도 찍어서 올리니까, 다이나믹한 상황을 반영하지 못하기 때문, 영상을 분류하는 지표로 댓글을 사용하자\n",
        "\n",
        "\n",
        "-> 썸네일, 타이틀,댓글 분류 머신러닝 모델 넣어서 분류\n",
        "\n",
        "\n",
        "-> 비디오 카테고라이션이 왜 중요한지? 모든 시스템은 자동화가 되기 때문에 비디오를 분류할때 feature study를 통해서 어떤 게 중요한지 확인해봤다.\n",
        "\n",
        "\n",
        "-> 실제로 title이 카테고리에서 중요하다 : 좀더 효율적으로\n",
        "\n",
        "\n",
        "-> 비디오 콘텐츠에서 어떤 부분을 카테고라이션에 사용할 수 있을지 \n",
        "\n",
        "\n",
        "-> 여러 피쳐를 고려함으로써 상위 5개 댓글 늘려가면 성능이 늘어나기 때문에\n",
        "\n",
        "\n",
        "-> 영상 기반으로 하고 있지만 댓글을 활용할 수 \n",
        "\n",
        "\n",
        "-> 처음 영상올릴때는 영상, 타이틀 기반 자동 분류가 되는데 거기에 댓글이 추가되면 명확한 카테고라이션이 될 수 있다.\n",
        "\n",
        "\n",
        "->영상이 올라오는 순간에 되어야 의미가 있는건데? 저희가 생각하는거는 처음에는 타이틀가지고 분류되지만 추후에 영상의 댓글이 달릴 수록 저희 모델이 명확한 카테고리로 분류하게 되지 않을까"
      ]
    }
  ]
}