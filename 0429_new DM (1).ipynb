{
 "cells": [
  {
   "cell_type": "code",
   "execution_count": 1,
   "metadata": {},
   "outputs": [],
   "source": [
    "import requests # 웹 페이지 소스를 얻기 위한 패키지(기본 내장 패키지이다.)\n",
    "from bs4 import BeautifulSoup # 웹 페이지 소스를 얻기 위한 패키지, 더 간단히 얻을 수 있다는 장점이 있다고 한다.\n",
    "from datetime import datetime                                # (!pip install beautifulsoup4 으로 다운받을 수 있다.)\n",
    "import pandas as pd # 데이터를 처리하기 위한 가장 기본적인 패키지\n",
    "import time # 사이트를 불러올 때, 작업 지연시간을 지정해주기 위한 패키지이다. (사이트가 늦게 켜지면 에러가 발생하기 때문)\n",
    "import urllib.request #\n",
    "from selenium.webdriver import Chrome\n",
    "import json\n",
    "import re     \n",
    "from selenium.webdriver.chrome.options import Options\n",
    "from selenium.webdriver.common.keys import Keys\n",
    "import datetime as dt"
   ]
  },
  {
   "cell_type": "code",
   "execution_count": 2,
   "metadata": {},
   "outputs": [
    {
     "name": "stdout",
     "output_type": "stream",
     "text": [
      "3.8.5 (default, Sep  3 2020, 21:29:08) [MSC v.1916 64 bit (AMD64)]\n"
     ]
    }
   ],
   "source": [
    "import sys\n",
    "print(sys.version)"
   ]
  },
  {
   "cell_type": "code",
   "execution_count": 3,
   "metadata": {},
   "outputs": [],
   "source": [
    "start_url  = 'http://www.youtube.com'\n",
    "delay=3\n",
    "browser = Chrome()\n",
    "browser.implicitly_wait(delay)\n",
    "\n",
    "browser.get(start_url)  \n",
    "browser.maximize_window()"
   ]
  },
  {
   "cell_type": "code",
   "execution_count": 4,
   "metadata": {},
   "outputs": [
    {
     "data": {
      "text/plain": [
       "<selenium.webdriver.remote.webelement.WebElement (session=\"72968f3de49cfa1f802fd013afb7196a\", element=\"4e4d7e99-af53-43e2-8c44-caaf61aa0c39\")>"
      ]
     },
     "execution_count": 4,
     "metadata": {},
     "output_type": "execute_result"
    }
   ],
   "source": [
    "input_ = browser.find_element_by_xpath('//*[@id=\"search\"]')\n",
    "input_"
   ]
  },
  {
   "cell_type": "code",
   "execution_count": 5,
   "metadata": {
    "scrolled": true
   },
   "outputs": [],
   "source": [
    "input_.send_keys('뜨뜨뜨뜨')"
   ]
  },
  {
   "cell_type": "code",
   "execution_count": 6,
   "metadata": {},
   "outputs": [],
   "source": [
    "btn = browser.find_element_by_xpath('//*[@id=\"search-icon-legacy\"]')\n",
    "btn.click() "
   ]
  },
  {
   "cell_type": "code",
   "execution_count": 7,
   "metadata": {},
   "outputs": [],
   "source": [
    "\n",
    "body = browser.find_element_by_tag_name('body')#스크롤하기 위해 소스 추출\n",
    "\n",
    "num_of_pagedowns = 4\n",
    "#10번 밑으로 내리는 것\n",
    "while num_of_pagedowns:\n",
    "    body.send_keys(Keys.PAGE_DOWN)\n",
    "    time.sleep(2)\n",
    "    num_of_pagedowns -= 1"
   ]
  },
  {
   "cell_type": "code",
   "execution_count": 7,
   "metadata": {},
   "outputs": [],
   "source": [
    "html0 = browser.page_source"
   ]
  },
  {
   "cell_type": "code",
   "execution_count": 8,
   "metadata": {},
   "outputs": [],
   "source": [
    "html = BeautifulSoup(html0,'html.parser')"
   ]
  },
  {
   "cell_type": "code",
   "execution_count": 9,
   "metadata": {
    "scrolled": false
   },
   "outputs": [],
   "source": [
    "video_list=html.find_all('a',class_='yt-simple-endpoint style-scope ytd-grid-video-renderer')"
   ]
  },
  {
   "cell_type": "code",
   "execution_count": 10,
   "metadata": {},
   "outputs": [],
   "source": [
    "tester_url = []\n",
    "\n",
    "for i in video_list:\n",
    "    text = str(i)\n",
    "    msg = re.search(r'href=\"(.*)', text, re.DOTALL)\n",
    "    msg = start_url + msg.group(1)[:20]\n",
    "    tester_url.append(msg)"
   ]
  },
  {
   "cell_type": "code",
   "execution_count": 11,
   "metadata": {
    "scrolled": true
   },
   "outputs": [],
   "source": [
    "tester_url = tester_url[:10]"
   ]
  },
  {
   "cell_type": "code",
   "execution_count": 12,
   "metadata": {
    "scrolled": true
   },
   "outputs": [
    {
     "data": {
      "text/plain": [
       "10"
      ]
     },
     "execution_count": 12,
     "metadata": {},
     "output_type": "execute_result"
    }
   ],
   "source": [
    "len(tester_url)"
   ]
  },
  {
   "cell_type": "code",
   "execution_count": 13,
   "metadata": {},
   "outputs": [
    {
     "data": {
      "text/plain": [
       "['http://www.youtube.com/watch?v=FLt7bCtsvNk',\n",
       " 'http://www.youtube.com/watch?v=DpaAf7KRaZM',\n",
       " 'http://www.youtube.com/watch?v=YOketbttgfg',\n",
       " 'http://www.youtube.com/watch?v=10QkOikYI68',\n",
       " 'http://www.youtube.com/watch?v=7XIfVxBNTXw',\n",
       " 'http://www.youtube.com/watch?v=dszhmazAtSk',\n",
       " 'http://www.youtube.com/watch?v=S5WN7gTYnfA',\n",
       " 'http://www.youtube.com/watch?v=6Ef6ZNJmDLE',\n",
       " 'http://www.youtube.com/watch?v=k3BqlalhjN4',\n",
       " 'http://www.youtube.com/watch?v=h6M7Et0a2fY']"
      ]
     },
     "execution_count": 13,
     "metadata": {},
     "output_type": "execute_result"
    }
   ],
   "source": [
    "tester_url"
   ]
  },
  {
   "cell_type": "code",
   "execution_count": 14,
   "metadata": {},
   "outputs": [],
   "source": [
    "browser.get(tester_url[2])"
   ]
  },
  {
   "cell_type": "code",
   "execution_count": 15,
   "metadata": {},
   "outputs": [],
   "source": [
    "body = browser.find_element_by_tag_name('body')#스크롤하기 위해 소스 추출\n",
    "\n",
    "num_of_pagedowns = 2\n",
    "#10번 밑으로 내리는 것\n",
    "while num_of_pagedowns:\n",
    "    body.send_keys(Keys.PAGE_DOWN)\n",
    "    time.sleep(3)\n",
    "    num_of_pagedowns -= 1\n",
    "    \n",
    "time.sleep(3)"
   ]
  },
  {
   "cell_type": "code",
   "execution_count": 16,
   "metadata": {},
   "outputs": [],
   "source": [
    "soup0 = browser.page_source"
   ]
  },
  {
   "cell_type": "code",
   "execution_count": 17,
   "metadata": {},
   "outputs": [],
   "source": [
    "soup = BeautifulSoup(soup0,'html.parser')"
   ]
  },
  {
   "cell_type": "code",
   "execution_count": 18,
   "metadata": {},
   "outputs": [],
   "source": [
    "info1 = soup.find('div',{'id':'info-contents'})"
   ]
  },
  {
   "cell_type": "code",
   "execution_count": 19,
   "metadata": {},
   "outputs": [],
   "source": [
    "comment = soup.find('yt-formatted-string',{'class':\"count-text style-scope ytd-comments-header-renderer\"}).text\n",
    "title = info1.find('h1',{'class':'title style-scope ytd-video-primary-info-renderer'}).text\n",
    "view =info1.find('ytd-video-view-count-renderer',{'class':'style-scope ytd-video-primary-info-renderer'}).find_all('span')[0].text\n",
    "like = info1.find('div',{'id':'top-level-buttons'}).find_all('yt-formatted-string')[0].text\n",
    "unlike = info1.find('div',{'id':'top-level-buttons'}).find_all('yt-formatted-string')[1].text\n",
    "date = soup.find('div',{'id':'date'}).find('yt-formatted-string').text"
   ]
  },
  {
   "cell_type": "code",
   "execution_count": 20,
   "metadata": {},
   "outputs": [
    {
     "data": {
      "text/plain": [
       "'댓글 2,509개'"
      ]
     },
     "execution_count": 20,
     "metadata": {},
     "output_type": "execute_result"
    }
   ],
   "source": [
    "comment"
   ]
  },
  {
   "cell_type": "code",
   "execution_count": 21,
   "metadata": {},
   "outputs": [
    {
     "data": {
      "text/plain": [
       "'[배틀그라운드] 뜨뜨뜨뜨(DDDD) - 『솔큐』 하늘에서 보급 상자가 계속 떨어집니다. 블루홀 운영자님이 주시는 선물인가요!?'"
      ]
     },
     "execution_count": 21,
     "metadata": {},
     "output_type": "execute_result"
    }
   ],
   "source": [
    "title"
   ]
  },
  {
   "cell_type": "code",
   "execution_count": 22,
   "metadata": {},
   "outputs": [
    {
     "data": {
      "text/plain": [
       "'조회수 3,428,874회'"
      ]
     },
     "execution_count": 22,
     "metadata": {},
     "output_type": "execute_result"
    }
   ],
   "source": [
    "view"
   ]
  },
  {
   "cell_type": "code",
   "execution_count": 23,
   "metadata": {},
   "outputs": [
    {
     "data": {
      "text/plain": [
       "'1.9만'"
      ]
     },
     "execution_count": 23,
     "metadata": {},
     "output_type": "execute_result"
    }
   ],
   "source": [
    "like"
   ]
  },
  {
   "cell_type": "code",
   "execution_count": 24,
   "metadata": {},
   "outputs": [
    {
     "data": {
      "text/plain": [
       "'1.4천'"
      ]
     },
     "execution_count": 24,
     "metadata": {},
     "output_type": "execute_result"
    }
   ],
   "source": [
    "unlike"
   ]
  },
  {
   "cell_type": "code",
   "execution_count": 25,
   "metadata": {},
   "outputs": [
    {
     "data": {
      "text/plain": [
       "'2017. 11. 16.'"
      ]
     },
     "execution_count": 25,
     "metadata": {},
     "output_type": "execute_result"
    }
   ],
   "source": [
    "date"
   ]
  },
  {
   "cell_type": "code",
   "execution_count": 26,
   "metadata": {},
   "outputs": [],
   "source": [
    "video_info = pd.DataFrame({'title':[],\n",
    "                          'view':[],\n",
    "                          'like':[],\n",
    "                          'unlike':[],\n",
    "                          'comment':[],\n",
    "                          'date':[]})"
   ]
  },
  {
   "cell_type": "code",
   "execution_count": 27,
   "metadata": {},
   "outputs": [],
   "source": [
    "for i in range(len(tester_url)):\n",
    "    browser.get(tester_url[i])\n",
    "    time.sleep(2)\n",
    "    \n",
    "    body = browser.find_element_by_tag_name('body')#스크롤하기 위해 소스 추출\n",
    "\n",
    "    num_of_pagedowns = 2\n",
    "    #10번 밑으로 내리는 것\n",
    "    while num_of_pagedowns:\n",
    "        body.send_keys(Keys.PAGE_DOWN)\n",
    "        time.sleep(2)\n",
    "        num_of_pagedowns -= 1\n",
    "\n",
    "    time.sleep(2)\n",
    "    \n",
    "    soup0 = browser.page_source\n",
    "    time.sleep(3)\n",
    "    soup = BeautifulSoup(soup0,'html.parser')\n",
    "    info1 = soup.find('div',{'id':'info-contents'})\n",
    "    try:\n",
    "        comment = soup.find('yt-formatted-string',{'class':\"count-text style-scope ytd-comments-header-renderer\"}).text\n",
    "    except:\n",
    "        comment = '댓글x'\n",
    "        \n",
    "    title = info1.find('h1',{'class':'title style-scope ytd-video-primary-info-renderer'}).text\n",
    "    view =info1.find('ytd-video-view-count-renderer',{'class':'style-scope ytd-video-primary-info-renderer'}).find_all('span')[0].text\n",
    "    like = info1.find('div',{'id':'top-level-buttons'}).find_all('yt-formatted-string')[0].text\n",
    "    unlike = info1.find('div',{'id':'top-level-buttons'}).find_all('yt-formatted-string')[1].text\n",
    "    date = soup.find('div',{'id':'date'}).find('yt-formatted-string').text\n",
    "    \n",
    "    insert_data = pd.DataFrame({'title':[title],\n",
    "                          'view':[view],\n",
    "                          'like':[like],\n",
    "                          'unlike':[unlike],\n",
    "                          'comment':[comment],\n",
    "                          'date':[date]})\n",
    "    \n",
    "    video_info = video_info.append(insert_data)\n",
    "    \n",
    "video_info.index = range(len(video_info))"
   ]
  },
  {
   "cell_type": "code",
   "execution_count": 28,
   "metadata": {},
   "outputs": [],
   "source": [
    "video_info.index = range(len(video_info))"
   ]
  },
  {
   "cell_type": "code",
   "execution_count": 29,
   "metadata": {
    "scrolled": true
   },
   "outputs": [
    {
     "data": {
      "text/html": [
       "<div>\n",
       "<style scoped>\n",
       "    .dataframe tbody tr th:only-of-type {\n",
       "        vertical-align: middle;\n",
       "    }\n",
       "\n",
       "    .dataframe tbody tr th {\n",
       "        vertical-align: top;\n",
       "    }\n",
       "\n",
       "    .dataframe thead th {\n",
       "        text-align: right;\n",
       "    }\n",
       "</style>\n",
       "<table border=\"1\" class=\"dataframe\">\n",
       "  <thead>\n",
       "    <tr style=\"text-align: right;\">\n",
       "      <th></th>\n",
       "      <th>title</th>\n",
       "      <th>view</th>\n",
       "      <th>like</th>\n",
       "      <th>unlike</th>\n",
       "      <th>comment</th>\n",
       "      <th>date</th>\n",
       "    </tr>\n",
       "  </thead>\n",
       "  <tbody>\n",
       "    <tr>\n",
       "      <th>0</th>\n",
       "      <td>[배틀그라운드] 뜨뜨뜨뜨(DDDD) - 『솔쿼드 35킬 우승』 최다킬 기록 갱신! ...</td>\n",
       "      <td>조회수 4,532,016회</td>\n",
       "      <td>2.5만</td>\n",
       "      <td>2.4천</td>\n",
       "      <td>댓글 2,645개</td>\n",
       "      <td>2018. 3. 21.</td>\n",
       "    </tr>\n",
       "    <tr>\n",
       "      <th>1</th>\n",
       "      <td>아프리카 멸망전,대회 출전 비제이 핵사용으로 인한 영정사건 [배틀그라운드]</td>\n",
       "      <td>조회수 3,502,641회</td>\n",
       "      <td>2.1만</td>\n",
       "      <td>1천</td>\n",
       "      <td>댓글 6,894개</td>\n",
       "      <td>2019. 12. 18.</td>\n",
       "    </tr>\n",
       "    <tr>\n",
       "      <th>2</th>\n",
       "      <td>[배틀그라운드] 뜨뜨뜨뜨(DDDD) - 『솔큐』 하늘에서 보급 상자가 계속 떨어집니...</td>\n",
       "      <td>조회수 3,428,876회</td>\n",
       "      <td>1.9만</td>\n",
       "      <td>1.4천</td>\n",
       "      <td>댓글 2,509개</td>\n",
       "      <td>2017. 11. 16.</td>\n",
       "    </tr>\n",
       "    <tr>\n",
       "      <th>3</th>\n",
       "      <td>단언컨대, 올타임 레전드 게임 [배틀그라운드]</td>\n",
       "      <td>조회수 3,289,626회</td>\n",
       "      <td>2.8만</td>\n",
       "      <td>1.4천</td>\n",
       "      <td>댓글 2,029개</td>\n",
       "      <td>2019. 8. 1.</td>\n",
       "    </tr>\n",
       "    <tr>\n",
       "      <th>4</th>\n",
       "      <td>트위치코리아의 갑질과, 내부고발자의 폭로로 드러난 영구정지 사건의 소름돋는 내막</td>\n",
       "      <td>조회수 2,862,139회</td>\n",
       "      <td>6.4만</td>\n",
       "      <td>2천</td>\n",
       "      <td>댓글 9,163개</td>\n",
       "      <td>최초 공개: 2020. 4. 3.</td>\n",
       "    </tr>\n",
       "    <tr>\n",
       "      <th>5</th>\n",
       "      <td>배그 대회에서 역대급 캐리를 2번이나?? (지스타 배그 멸망전) - [배틀그라운드]</td>\n",
       "      <td>조회수 2,713,849회</td>\n",
       "      <td>1.9만</td>\n",
       "      <td>562</td>\n",
       "      <td>댓글 2,787개</td>\n",
       "      <td>2018. 11. 16.</td>\n",
       "    </tr>\n",
       "    <tr>\n",
       "      <th>6</th>\n",
       "      <td>트위치 코리아의 부패와 영구정지 사태에 대한 진실</td>\n",
       "      <td>조회수 2,711,401회</td>\n",
       "      <td>6.4만</td>\n",
       "      <td>2.2천</td>\n",
       "      <td>댓글 7,318개</td>\n",
       "      <td>최초 공개: 2019. 5. 25.</td>\n",
       "    </tr>\n",
       "    <tr>\n",
       "      <th>7</th>\n",
       "      <td>치킨 먹으면 32인치 모니터 주는 미친 피시방 찾아가봤습니다 [배틀그라운드]</td>\n",
       "      <td>조회수 2,305,767회</td>\n",
       "      <td>2.4만</td>\n",
       "      <td>562</td>\n",
       "      <td>댓글 3,163개</td>\n",
       "      <td>2020. 1. 21.</td>\n",
       "    </tr>\n",
       "    <tr>\n",
       "      <th>8</th>\n",
       "      <td>[배틀그라운드] 뜨뜨뜨뜨(QUAD) - 솔로 15킬 우승! 친구야 길리슈트 고맙다!...</td>\n",
       "      <td>조회수 2,258,011회</td>\n",
       "      <td>7.4천</td>\n",
       "      <td>628</td>\n",
       "      <td>댓글 813개</td>\n",
       "      <td>2017. 9. 12.</td>\n",
       "    </tr>\n",
       "    <tr>\n",
       "      <th>9</th>\n",
       "      <td>숨만셔도 1초에 500원 존버의 끝 보여드립니다 - [배틀그라운드]</td>\n",
       "      <td>조회수 2,179,654회</td>\n",
       "      <td>1.5만</td>\n",
       "      <td>887</td>\n",
       "      <td>댓글 572개</td>\n",
       "      <td>2019. 5. 18.</td>\n",
       "    </tr>\n",
       "  </tbody>\n",
       "</table>\n",
       "</div>"
      ],
      "text/plain": [
       "                                               title            view  like  \\\n",
       "0  [배틀그라운드] 뜨뜨뜨뜨(DDDD) - 『솔쿼드 35킬 우승』 최다킬 기록 갱신! ...  조회수 4,532,016회  2.5만   \n",
       "1          아프리카 멸망전,대회 출전 비제이 핵사용으로 인한 영정사건 [배틀그라운드]  조회수 3,502,641회  2.1만   \n",
       "2  [배틀그라운드] 뜨뜨뜨뜨(DDDD) - 『솔큐』 하늘에서 보급 상자가 계속 떨어집니...  조회수 3,428,876회  1.9만   \n",
       "3                          단언컨대, 올타임 레전드 게임 [배틀그라운드]  조회수 3,289,626회  2.8만   \n",
       "4       트위치코리아의 갑질과, 내부고발자의 폭로로 드러난 영구정지 사건의 소름돋는 내막  조회수 2,862,139회  6.4만   \n",
       "5     배그 대회에서 역대급 캐리를 2번이나?? (지스타 배그 멸망전) - [배틀그라운드]  조회수 2,713,849회  1.9만   \n",
       "6                        트위치 코리아의 부패와 영구정지 사태에 대한 진실  조회수 2,711,401회  6.4만   \n",
       "7         치킨 먹으면 32인치 모니터 주는 미친 피시방 찾아가봤습니다 [배틀그라운드]  조회수 2,305,767회  2.4만   \n",
       "8  [배틀그라운드] 뜨뜨뜨뜨(QUAD) - 솔로 15킬 우승! 친구야 길리슈트 고맙다!...  조회수 2,258,011회  7.4천   \n",
       "9              숨만셔도 1초에 500원 존버의 끝 보여드립니다 - [배틀그라운드]  조회수 2,179,654회  1.5만   \n",
       "\n",
       "  unlike    comment                 date  \n",
       "0   2.4천  댓글 2,645개         2018. 3. 21.  \n",
       "1     1천  댓글 6,894개        2019. 12. 18.  \n",
       "2   1.4천  댓글 2,509개        2017. 11. 16.  \n",
       "3   1.4천  댓글 2,029개          2019. 8. 1.  \n",
       "4     2천  댓글 9,163개   최초 공개: 2020. 4. 3.  \n",
       "5    562  댓글 2,787개        2018. 11. 16.  \n",
       "6   2.2천  댓글 7,318개  최초 공개: 2019. 5. 25.  \n",
       "7    562  댓글 3,163개         2020. 1. 21.  \n",
       "8    628    댓글 813개         2017. 9. 12.  \n",
       "9    887    댓글 572개         2019. 5. 18.  "
      ]
     },
     "execution_count": 29,
     "metadata": {},
     "output_type": "execute_result"
    }
   ],
   "source": [
    "video_info"
   ]
  },
  {
   "cell_type": "code",
   "execution_count": 30,
   "metadata": {},
   "outputs": [],
   "source": [
    "video_info.to_csv('뜨뜨뜨뜨_#2.csv',index=False,encoding='cp949')"
   ]
  },
  {
   "cell_type": "code",
   "execution_count": 31,
   "metadata": {},
   "outputs": [],
   "source": [
    "ttt = pd.read_csv('뜨뜨뜨뜨_#2.csv',engine='python',encoding='cp949')"
   ]
  },
  {
   "cell_type": "code",
   "execution_count": 32,
   "metadata": {
    "scrolled": true
   },
   "outputs": [
    {
     "data": {
      "text/plain": [
       "10"
      ]
     },
     "execution_count": 32,
     "metadata": {},
     "output_type": "execute_result"
    }
   ],
   "source": [
    "len(ttt)"
   ]
  },
  {
   "cell_type": "code",
   "execution_count": 33,
   "metadata": {},
   "outputs": [
    {
     "data": {
      "text/plain": [
       "'2.1만'"
      ]
     },
     "execution_count": 33,
     "metadata": {},
     "output_type": "execute_result"
    }
   ],
   "source": [
    "ttt['like'].iloc[1]"
   ]
  },
  {
   "cell_type": "code",
   "execution_count": 34,
   "metadata": {},
   "outputs": [],
   "source": [
    "#과연 유튜브 조회수는 게시한지 시간이 지날수록 즉, 올린지 꽤 된 영상의 조회수가 높을까?"
   ]
  },
  {
   "cell_type": "code",
   "execution_count": 35,
   "metadata": {},
   "outputs": [],
   "source": [
    "like_ls = []\n",
    "view_ls = []\n",
    "unlike_ls = []\n",
    "comment_ls = []\n",
    "date_ls=[]\n",
    "for i in range(len(ttt)):\n",
    "    if '천' in ttt['like'].iloc[i]:\n",
    "        a = ''.join(re.findall('[0-9]',ttt['like'].iloc[i]))\n",
    "        if len(a) == 2:\n",
    "            b = a+'00'\n",
    "        else:\n",
    "            b = a+'000'\n",
    "    elif '만' in ttt['like'].iloc[i]:\n",
    "        b = ''.join(re.findall('[0-9]',ttt['like'].iloc[i])) + '000'\n",
    "    else:\n",
    "        b = ttt['like'].iloc[i]\n",
    "    like_ls.append(b)\n",
    "    \n",
    "    if '천' in ttt['unlike'].iloc[i]:\n",
    "        aa = ''.join(re.findall('[0-9]',ttt['unlike'].iloc[i]))\n",
    "        if len(aa) == 2:\n",
    "            bb = aa+'00'\n",
    "        else:\n",
    "            bb = aa+'000'\n",
    "    elif '만' in ttt['unlike'].iloc[i]:\n",
    "        bb = ''.join(re.findall('[0-9]',ttt['unlike'].iloc[i])) + '000'\n",
    "    else:\n",
    "        bb = ttt['unlike'].iloc[i]\n",
    "    unlike_ls.append(bb)\n",
    "    \n",
    "    view0 = ''.join(re.findall('[0-9]',ttt['view'].iloc[i]))\n",
    "    view_ls.append(view0)\n",
    "    \n",
    "    comment0 = ''.join(re.findall('[0-9]',ttt['comment'].iloc[i]))\n",
    "    comment_ls.append(comment0)\n",
    "    \n",
    "    date0 = ''.join(re.findall('[.0-9]',ttt['date'].iloc[i]))\n",
    "    date_ls.append(date0[:-1])\n",
    "    \n",
    "ttt['like'] = like_ls\n",
    "ttt['view'] = view_ls\n",
    "ttt['comment'] = comment_ls\n",
    "ttt['date']=date_ls\n",
    "ttt['unlike'] = unlike_ls"
   ]
  },
  {
   "cell_type": "code",
   "execution_count": 36,
   "metadata": {
    "scrolled": true
   },
   "outputs": [
    {
     "data": {
      "text/html": [
       "<div>\n",
       "<style scoped>\n",
       "    .dataframe tbody tr th:only-of-type {\n",
       "        vertical-align: middle;\n",
       "    }\n",
       "\n",
       "    .dataframe tbody tr th {\n",
       "        vertical-align: top;\n",
       "    }\n",
       "\n",
       "    .dataframe thead th {\n",
       "        text-align: right;\n",
       "    }\n",
       "</style>\n",
       "<table border=\"1\" class=\"dataframe\">\n",
       "  <thead>\n",
       "    <tr style=\"text-align: right;\">\n",
       "      <th></th>\n",
       "      <th>title</th>\n",
       "      <th>view</th>\n",
       "      <th>like</th>\n",
       "      <th>unlike</th>\n",
       "      <th>comment</th>\n",
       "      <th>date</th>\n",
       "    </tr>\n",
       "  </thead>\n",
       "  <tbody>\n",
       "    <tr>\n",
       "      <th>0</th>\n",
       "      <td>[배틀그라운드] 뜨뜨뜨뜨(DDDD) - 『솔쿼드 35킬 우승』 최다킬 기록 갱신! ...</td>\n",
       "      <td>4532016</td>\n",
       "      <td>25000</td>\n",
       "      <td>2400</td>\n",
       "      <td>2645</td>\n",
       "      <td>2018.3.21</td>\n",
       "    </tr>\n",
       "    <tr>\n",
       "      <th>1</th>\n",
       "      <td>아프리카 멸망전,대회 출전 비제이 핵사용으로 인한 영정사건 [배틀그라운드]</td>\n",
       "      <td>3502641</td>\n",
       "      <td>21000</td>\n",
       "      <td>1000</td>\n",
       "      <td>6894</td>\n",
       "      <td>2019.12.18</td>\n",
       "    </tr>\n",
       "    <tr>\n",
       "      <th>2</th>\n",
       "      <td>[배틀그라운드] 뜨뜨뜨뜨(DDDD) - 『솔큐』 하늘에서 보급 상자가 계속 떨어집니...</td>\n",
       "      <td>3428876</td>\n",
       "      <td>19000</td>\n",
       "      <td>1400</td>\n",
       "      <td>2509</td>\n",
       "      <td>2017.11.16</td>\n",
       "    </tr>\n",
       "    <tr>\n",
       "      <th>3</th>\n",
       "      <td>단언컨대, 올타임 레전드 게임 [배틀그라운드]</td>\n",
       "      <td>3289626</td>\n",
       "      <td>28000</td>\n",
       "      <td>1400</td>\n",
       "      <td>2029</td>\n",
       "      <td>2019.8.1</td>\n",
       "    </tr>\n",
       "    <tr>\n",
       "      <th>4</th>\n",
       "      <td>트위치코리아의 갑질과, 내부고발자의 폭로로 드러난 영구정지 사건의 소름돋는 내막</td>\n",
       "      <td>2862139</td>\n",
       "      <td>64000</td>\n",
       "      <td>2000</td>\n",
       "      <td>9163</td>\n",
       "      <td>2020.4.3</td>\n",
       "    </tr>\n",
       "    <tr>\n",
       "      <th>5</th>\n",
       "      <td>배그 대회에서 역대급 캐리를 2번이나?? (지스타 배그 멸망전) - [배틀그라운드]</td>\n",
       "      <td>2713849</td>\n",
       "      <td>19000</td>\n",
       "      <td>562</td>\n",
       "      <td>2787</td>\n",
       "      <td>2018.11.16</td>\n",
       "    </tr>\n",
       "    <tr>\n",
       "      <th>6</th>\n",
       "      <td>트위치 코리아의 부패와 영구정지 사태에 대한 진실</td>\n",
       "      <td>2711401</td>\n",
       "      <td>64000</td>\n",
       "      <td>2200</td>\n",
       "      <td>7318</td>\n",
       "      <td>2019.5.25</td>\n",
       "    </tr>\n",
       "    <tr>\n",
       "      <th>7</th>\n",
       "      <td>치킨 먹으면 32인치 모니터 주는 미친 피시방 찾아가봤습니다 [배틀그라운드]</td>\n",
       "      <td>2305767</td>\n",
       "      <td>24000</td>\n",
       "      <td>562</td>\n",
       "      <td>3163</td>\n",
       "      <td>2020.1.21</td>\n",
       "    </tr>\n",
       "    <tr>\n",
       "      <th>8</th>\n",
       "      <td>[배틀그라운드] 뜨뜨뜨뜨(QUAD) - 솔로 15킬 우승! 친구야 길리슈트 고맙다!...</td>\n",
       "      <td>2258011</td>\n",
       "      <td>7400</td>\n",
       "      <td>628</td>\n",
       "      <td>813</td>\n",
       "      <td>2017.9.12</td>\n",
       "    </tr>\n",
       "    <tr>\n",
       "      <th>9</th>\n",
       "      <td>숨만셔도 1초에 500원 존버의 끝 보여드립니다 - [배틀그라운드]</td>\n",
       "      <td>2179654</td>\n",
       "      <td>15000</td>\n",
       "      <td>887</td>\n",
       "      <td>572</td>\n",
       "      <td>2019.5.18</td>\n",
       "    </tr>\n",
       "  </tbody>\n",
       "</table>\n",
       "</div>"
      ],
      "text/plain": [
       "                                               title     view   like unlike  \\\n",
       "0  [배틀그라운드] 뜨뜨뜨뜨(DDDD) - 『솔쿼드 35킬 우승』 최다킬 기록 갱신! ...  4532016  25000   2400   \n",
       "1          아프리카 멸망전,대회 출전 비제이 핵사용으로 인한 영정사건 [배틀그라운드]  3502641  21000   1000   \n",
       "2  [배틀그라운드] 뜨뜨뜨뜨(DDDD) - 『솔큐』 하늘에서 보급 상자가 계속 떨어집니...  3428876  19000   1400   \n",
       "3                          단언컨대, 올타임 레전드 게임 [배틀그라운드]  3289626  28000   1400   \n",
       "4       트위치코리아의 갑질과, 내부고발자의 폭로로 드러난 영구정지 사건의 소름돋는 내막  2862139  64000   2000   \n",
       "5     배그 대회에서 역대급 캐리를 2번이나?? (지스타 배그 멸망전) - [배틀그라운드]  2713849  19000    562   \n",
       "6                        트위치 코리아의 부패와 영구정지 사태에 대한 진실  2711401  64000   2200   \n",
       "7         치킨 먹으면 32인치 모니터 주는 미친 피시방 찾아가봤습니다 [배틀그라운드]  2305767  24000    562   \n",
       "8  [배틀그라운드] 뜨뜨뜨뜨(QUAD) - 솔로 15킬 우승! 친구야 길리슈트 고맙다!...  2258011   7400    628   \n",
       "9              숨만셔도 1초에 500원 존버의 끝 보여드립니다 - [배틀그라운드]  2179654  15000    887   \n",
       "\n",
       "  comment        date  \n",
       "0    2645   2018.3.21  \n",
       "1    6894  2019.12.18  \n",
       "2    2509  2017.11.16  \n",
       "3    2029    2019.8.1  \n",
       "4    9163    2020.4.3  \n",
       "5    2787  2018.11.16  \n",
       "6    7318   2019.5.25  \n",
       "7    3163   2020.1.21  \n",
       "8     813   2017.9.12  \n",
       "9     572   2019.5.18  "
      ]
     },
     "execution_count": 36,
     "metadata": {},
     "output_type": "execute_result"
    }
   ],
   "source": [
    "ttt"
   ]
  },
  {
   "cell_type": "code",
   "execution_count": 37,
   "metadata": {},
   "outputs": [],
   "source": [
    "ttt.to_csv('뜨뜨뜨뜨_#2.csv',encoding='cp949')"
   ]
  },
  {
   "cell_type": "code",
   "execution_count": 80,
   "metadata": {},
   "outputs": [
    {
     "data": {
      "text/plain": [
       "'\\n가중치를 주기 위해\\n\\n1. 일주일씩 끊어서 조회수의 합을 구한다음 평균을 내준다(일주일마다의 영상 올린 갯수가 다르므로)\\n2. 주별 영상 조회수 차이를 구한다 총 45주면 주별 조회수 차이는 44개가 나올 것\\n3. 나온 44개의 수치들의 평균을 구한다.\\n4. 계산을 통해서 주별 평균적인 조회수차이를 구할 수 있으므로 해당 수치로 날짜가 달라도 어느정도 감안하고 그 차이를 알 수 있다.\\n'"
      ]
     },
     "execution_count": 80,
     "metadata": {},
     "output_type": "execute_result"
    }
   ],
   "source": [
    "'''\n",
    "가중치를 주기 위해\n",
    "\n",
    "1. 일주일씩 끊어서 조회수의 합을 구한다음 평균을 내준다(일주일마다의 영상 올린 갯수가 다르므로)\n",
    "2. 주별 영상 조회수 차이를 구한다 총 45주면 주별 조회수 차이는 44개가 나올 것\n",
    "3. 나온 44개의 수치들의 평균을 구한다.\n",
    "4. 계산을 통해서 주별 평균적인 조회수차이를 구할 수 있으므로 해당 수치로 날짜가 달라도 어느정도 감안하고 그 차이를 알 수 있다.\n",
    "'''"
   ]
  },
  {
   "cell_type": "code",
   "execution_count": 81,
   "metadata": {},
   "outputs": [
    {
     "data": {
      "text/plain": [
       "'\\n날짜 별로 가중치를 주기 위해서\\n-> 오래 전에 업로드 된 영상일수록 조회수가 높을 가능성이 크기때문\\n\\n1. 조회수의 평균을 먼저 구함\\n2. 평균 조회수까지 걸리는 시간을 구함\\n3. 그것을 걸린 날짜로 나눔\\n4. 그럼 해당 유튜버의 일자별 조회수 증가량을 알 수 있음 (max가 정해져 있음 but 영상이라는 것이 다른 외생변수도 많을테지만 일반화를 위해서 해당 방법 처럼 구함)\\n\\n'"
      ]
     },
     "execution_count": 81,
     "metadata": {},
     "output_type": "execute_result"
    }
   ],
   "source": [
    "'''\n",
    "날짜 별로 가중치를 주기 위해서\n",
    "-> 오래 전에 업로드 된 영상일수록 조회수가 높을 가능성이 크기때문\n",
    "\n",
    "1. 조회수의 평균을 먼저 구함\n",
    "2. 평균 조회수까지 걸리는 시간을 구함\n",
    "3. 그것을 걸린 날짜로 나눔\n",
    "4. 그럼 해당 유튜버의 일자별 조회수 증가량을 알 수 있음 (max가 정해져 있음 but 영상이라는 것이 다른 외생변수도 많을테지만 일반화를 위해서 해당 방법 처럼 구함)\n",
    "\n",
    "'''"
   ]
  },
  {
   "cell_type": "code",
   "execution_count": 82,
   "metadata": {},
   "outputs": [],
   "source": [
    "ttt['view'] = ttt['view'].astype('float64')"
   ]
  },
  {
   "cell_type": "code",
   "execution_count": 83,
   "metadata": {},
   "outputs": [
    {
     "data": {
      "text/plain": [
       "2583345.3"
      ]
     },
     "execution_count": 83,
     "metadata": {},
     "output_type": "execute_result"
    }
   ],
   "source": [
    "ttt['view'].mean()"
   ]
  },
  {
   "cell_type": "code",
   "execution_count": null,
   "metadata": {},
   "outputs": [],
   "source": []
  },
  {
   "cell_type": "code",
   "execution_count": null,
   "metadata": {},
   "outputs": [],
   "source": []
  },
  {
   "cell_type": "code",
   "execution_count": null,
   "metadata": {},
   "outputs": [],
   "source": []
  }
 ],
 "metadata": {
  "kernelspec": {
   "display_name": "Python 3",
   "language": "python",
   "name": "python3"
  },
  "language_info": {
   "codemirror_mode": {
    "name": "ipython",
    "version": 3
   },
   "file_extension": ".py",
   "mimetype": "text/x-python",
   "name": "python",
   "nbconvert_exporter": "python",
   "pygments_lexer": "ipython3",
   "version": "3.8.5"
  }
 },
 "nbformat": 4,
 "nbformat_minor": 4
}
